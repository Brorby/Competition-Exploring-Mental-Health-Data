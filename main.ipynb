{
 "cells": [
  {
   "cell_type": "code",
   "execution_count": 6788,
   "metadata": {},
   "outputs": [],
   "source": [
    "import torch\n",
    "import torch.nn as nn\n",
    "import torch.nn.functional as F\n",
    "import torchvision\n",
    "import torchaudio\n",
    "import numpy as np\n",
    "import scipy\n",
    "import sklearn\n",
    "import pandas as pd\n",
    "import PIL\n",
    "import matplotlib\n",
    "import tokenizers\n",
    "import datasets\n",
    "import transformers\n",
    "import matplotlib.pyplot as plt\n",
    "from collections import Counter\n",
    "import datetime\n",
    "from sklearn.ensemble import RandomForestClassifier\n",
    "from sklearn.model_selection import GridSearchCV, StratifiedKFold\n",
    "from sklearn.metrics import accuracy_score\n",
    "from sklearn.preprocessing import StandardScaler, MinMaxScaler\n",
    "from sklearn.model_selection import train_test_split\n",
    "from sklearn.tree import DecisionTreeClassifier\n",
    "from sklearn.utils import resample\n",
    "from sklearn.metrics import accuracy_score\n",
    "from scipy.stats import mode\n",
    "\n"
   ]
  },
  {
   "cell_type": "markdown",
   "metadata": {},
   "source": [
    "# Data exploration\n",
    "\n",
    "Here we explore each feature column and comment on how we are going to preprocess each one. We have a total of 140700 samples. The last feature is the label depression which we will train on.\n",
    "\n",
    "## Loading the dataset"
   ]
  },
  {
   "cell_type": "code",
   "execution_count": 6789,
   "metadata": {},
   "outputs": [
    {
     "name": "stdout",
     "output_type": "stream",
     "text": [
      "Samples in training set 140700\n",
      "Samples in test set: 93800\n"
     ]
    }
   ],
   "source": [
    "# Load the datasets\n",
    "data_file = 'Data/train.csv'\n",
    "test_file = 'Data/test.csv'\n",
    "\n",
    "data = pd.read_csv(data_file)\n",
    "test = pd.read_csv(test_file)\n",
    "\n",
    "print(f\"Samples in training set {data.shape[0]}\")\n",
    "print(f\"Samples in test set: {test.shape[0]}\")"
   ]
  },
  {
   "cell_type": "markdown",
   "metadata": {},
   "source": [
    "# id Column"
   ]
  },
  {
   "cell_type": "code",
   "execution_count": 6790,
   "metadata": {},
   "outputs": [
    {
     "name": "stdout",
     "output_type": "stream",
     "text": [
      "Examples of 'id' column:\n",
      "0    0\n",
      "1    1\n",
      "2    2\n",
      "3    3\n",
      "4    4\n",
      "Name: id, dtype: int64\n",
      "\n",
      "We have  140700  amount of samples\n"
     ]
    }
   ],
   "source": [
    "# Print examples of the 'id' column\n",
    "print(\"Examples of 'id' column:\")\n",
    "print(data[\"id\"].head())\n",
    "\n",
    "print(\"\")\n",
    "\n",
    "print(\"We have \" ,data[\"id\"].count(),\" amount of samples\")"
   ]
  },
  {
   "cell_type": "markdown",
   "metadata": {},
   "source": [
    "We will drop the id column since there is no correlation between this and the label."
   ]
  },
  {
   "cell_type": "markdown",
   "metadata": {},
   "source": [
    "## Name column"
   ]
  },
  {
   "cell_type": "code",
   "execution_count": 6791,
   "metadata": {},
   "outputs": [
    {
     "name": "stdout",
     "output_type": "stream",
     "text": [
      "Unique names sorted by count (most to least):\n",
      "Rohan: 3178\n",
      "Aarav: 2336\n",
      "Rupak: 2176\n",
      "Aaradhya: 2045\n",
      "Anvi: 2035\n",
      "Raghavendra: 1877\n",
      "Vani: 1657\n",
      "Tushar: 1596\n",
      "Ritvik: 1589\n",
      "Shiv: 1568\n",
      "Riya: 1548\n",
      "Rashi: 1547\n",
      "Raunak: 1524\n",
      "Anand: 1486\n",
      "Ishaani: 1477\n",
      "Ansh: 1423\n",
      "Vidya: 1408\n",
      "Ritika: 1313\n",
      "Anushka: 1279\n",
      "Sanya: 1272\n",
      "Aarush: 1266\n",
      "Aariv: 1254\n",
      "Abhishek: 1252\n",
      "Rupal: 1234\n",
      "Harsha: 1230\n",
      "Harsh: 1156\n",
      "Vikram: 1154\n",
      "Shivam: 1146\n",
      "Raghav: 1120\n",
      "Armaan: 1116\n",
      "Prachi: 1104\n",
      "Ivaan: 1090\n",
      "Ayaan: 1090\n",
      "Siddhesh: 1090\n",
      "Ira: 1061\n",
      "Prisha: 1055\n",
      "Rahil: 1051\n",
      "Rishi: 1040\n",
      "Ritik: 1033\n",
      "Pratham: 1023\n",
      "Aniket: 1023\n",
      "Chhavi: 1003\n",
      "Vibha: 974\n",
      "Vivan: 963\n",
      "Aishwarya: 962\n",
      "Gauri: 959\n",
      "Nikita: 951\n",
      "Naina: 946\n",
      "Veda: 940\n",
      "Arav: 925\n",
      "Vidhi: 913\n",
      "Jiya: 912\n",
      "Advait: 910\n",
      "Krishna: 875\n",
      "Vedant: 872\n",
      "Ayush: 869\n",
      "Aditi: 851\n",
      "Shaurya: 848\n",
      "Kashish: 845\n",
      "Gagan: 842\n",
      "Eshita: 831\n",
      "Pratyush: 816\n",
      "Ila: 799\n",
      "Simran: 790\n",
      "Aadhya: 787\n",
      "Shreya: 784\n",
      "Rudransh: 776\n",
      "Garima: 769\n",
      "Yashvi: 767\n",
      "Anjali: 757\n",
      "Vihaan: 744\n",
      "Keshav: 737\n",
      "Yuvraj: 730\n",
      "Ishan: 714\n",
      "Tanisha: 713\n",
      "Harshil: 712\n",
      "Sanket: 710\n",
      "Rajat: 706\n",
      "Kunal: 700\n",
      "Nikhil: 690\n",
      "Kiran: 687\n",
      "Aanchal: 684\n",
      "Zara: 681\n",
      "Shlok: 672\n",
      "Nandini: 663\n",
      "Pranav: 655\n",
      "Mahika: 652\n",
      "Kavya: 643\n",
      "Jhanvi: 635\n",
      "Esha: 632\n",
      "Satyam: 632\n",
      "Reyansh: 627\n",
      "Shrey: 626\n",
      "Janvi: 611\n",
      "Anaya: 610\n",
      "Anirudh: 606\n",
      "Arnav: 595\n",
      "Aahana: 593\n",
      "Aarti: 586\n",
      "Pallavi: 586\n",
      "Amit: 583\n",
      "Ishwar: 574\n",
      "Utkarsh: 547\n",
      "Siddharth: 539\n",
      "Saanvi: 537\n",
      "Asha: 534\n",
      "Darsh: 526\n",
      "Abhinav: 524\n",
      "Anika: 520\n",
      "Parth: 518\n",
      "Aditya: 512\n",
      "Aarohi: 504\n",
      "Nishant: 501\n",
      "Tanya: 501\n",
      "Rhea: 499\n",
      "Samar: 498\n",
      "Chirag: 493\n",
      "Kriti: 490\n",
      "Manvi: 486\n",
      "Divya: 481\n",
      "Kabir: 481\n",
      "Pooja: 481\n",
      "Kian: 481\n",
      "Hrithik: 475\n",
      "Shruti: 467\n",
      "Ayansh: 461\n",
      "Mahi: 461\n",
      "Trisha: 458\n",
      "Kartikeya: 456\n",
      "Atharv: 438\n",
      "Monika: 433\n",
      "Mihir: 433\n",
      "Shivansh: 419\n",
      "Tanmay: 418\n",
      "Arjun: 403\n",
      "Diya: 391\n",
      "Yash: 389\n",
      "Charvi: 387\n",
      "Sanjeev: 387\n",
      "Vrinda: 383\n",
      "Sai: 382\n",
      "Aryan: 379\n",
      "Manan: 378\n",
      "Ishita: 377\n",
      "Virat: 374\n",
      "Damini: 374\n",
      "Bhavesh: 362\n",
      "Khushi: 356\n",
      "Ishaan: 355\n",
      "Nalini: 353\n",
      "Jai: 343\n",
      "Neha: 342\n",
      "Palak: 339\n",
      "Yogesh: 338\n",
      "Gaurav: 336\n",
      "Deepak: 335\n",
      "Dhruv: 334\n",
      "Tara: 331\n",
      "Vivaan: 329\n",
      "Pari: 319\n",
      "Lavanya: 315\n",
      "Aakash: 313\n",
      "Navya: 311\n",
      "Leela: 310\n",
      "Siddhi: 310\n",
      "Soham: 306\n",
      "Tanvi: 300\n",
      "Kartik: 296\n",
      "Arya: 289\n",
      "Tina: 285\n",
      "Vanya: 280\n",
      "Kush: 274\n",
      "Isha: 266\n",
      "Nisha: 264\n",
      "Samaira: 263\n",
      "Suhani: 261\n",
      "Saurav: 258\n",
      "Apoorva: 252\n",
      "Yamini: 250\n",
      "Aarya: 247\n",
      "Neil: 244\n",
      "Karishma: 240\n",
      "Lata: 237\n",
      "Zoya: 232\n",
      "Nirvaan: 231\n",
      "Rudra: 220\n",
      "Vaishnavi: 217\n",
      "Om: 216\n",
      "Mayank: 215\n",
      "Dev: 210\n",
      "Vaanya: 209\n",
      "Nakul: 206\n",
      "Rajveer: 199\n",
      "Himani: 196\n",
      "Barkha: 190\n",
      "Tejas: 185\n",
      "Sneha: 180\n",
      "Bhavna: 167\n",
      "Ranveer: 162\n",
      "Rupa: 151\n",
      "Srishti: 150\n",
      "Kiara: 138\n",
      "Kanika: 138\n",
      "Mira: 137\n",
      "Mithila: 132\n",
      "Radhika: 122\n",
      "Sara: 108\n",
      "Pihu: 104\n",
      "Varun: 97\n",
      "Jasmine: 94\n",
      "Lakshay: 80\n",
      "Avni: 71\n",
      "Shanaya: 65\n",
      "Mukund: 57\n",
      "Meera: 51\n",
      "Harini: 47\n",
      "Kalyan: 21\n",
      "Aarash: 3\n",
      "Rupar: 3\n",
      "Kolkata: 3\n",
      "Tarsh: 3\n",
      "Shivvi: 2\n",
      "Prishti: 2\n",
      "Pradhya: 2\n",
      "Aisha: 2\n",
      "Aanya: 2\n",
      "Rani: 2\n",
      "Patna: 2\n",
      "Hra: 2\n",
      "Shivna: 2\n",
      "Siddh: 2\n",
      "Vashi: 2\n",
      "Aarvi: 2\n",
      "Thane: 2\n",
      "Jhaan: 2\n",
      "Kartika: 2\n",
      "Aniv: 2\n",
      "Aam: 2\n",
      "Shivar: 2\n",
      "Shivan: 2\n",
      "Aan: 2\n",
      "Nanya: 2\n",
      "Rupadhya: 2\n",
      "Anya: 2\n",
      "Rupika: 1\n",
      "Aaransh: 1\n",
      "Ijra: 1\n",
      "Aikash: 1\n",
      "Anishi: 1\n",
      "Aaranya: 1\n",
      "Anar: 1\n",
      "Parha: 1\n",
      "Srinagar: 1\n",
      "Vidha: 1\n",
      "Prayat: 1\n",
      "Yurav: 1\n",
      "Shivak: 1\n",
      "Rupai: 1\n",
      "Arvik: 1\n",
      "Manjun: 1\n",
      "Ranchal: 1\n",
      "Vita: 1\n",
      "Prandini: 1\n",
      "Mahav: 1\n",
      "Nhanini: 1\n",
      "Anupal: 1\n",
      "Manr: 1\n",
      "Eikram: 1\n",
      "Arsha: 1\n",
      "Harshir: 1\n",
      "Shivlok: 1\n",
      "Shivwar: 1\n",
      "Abarav: 1\n",
      "Ayya: 1\n",
      "Rudrithik: 1\n",
      "Varanasi: 1\n",
      "K.Pharm: 1\n",
      "UX/UI Designer: 1\n",
      "Ariti: 1\n",
      "Nhanvi: 1\n",
      "Aarani: 1\n",
      "Jiram: 1\n",
      "M.Tech: 1\n",
      "Kike: 1\n",
      "Shivvaan: 1\n",
      "Aarla: 1\n",
      "Nishi: 1\n",
      "Aarand: 1\n",
      "Adiya: 1\n",
      "Ritak: 1\n",
      "Kashi: 1\n",
      "Krey: 1\n",
      "Prarav: 1\n",
      "Kartal: 1\n",
      "Anariv: 1\n",
      "Irit: 1\n",
      "Kanisha: 1\n",
      "Anisha: 1\n",
      "Harshaun: 1\n",
      "Rietvik: 1\n",
      "Vasai-Virar: 1\n",
      "Ishlok: 1\n",
      "Vika: 1\n",
      "Rika: 1\n",
      "Shir: 1\n",
      "Sharth: 1\n",
      "Rudrey: 1\n",
      "Virar: 1\n",
      "Shashi: 1\n",
      "Eisha: 1\n",
      "Vhaani: 1\n",
      "Prilak: 1\n",
      "Tani: 1\n",
      "Nya: 1\n",
      "Harshav: 1\n",
      "Ewesh: 1\n",
      "Aanket: 1\n",
      "Tohar: 1\n",
      "Ryouvik: 1\n",
      "Niya: 1\n",
      "Anjun: 1\n",
      "Rupat: 1\n",
      "Anahk: 1\n",
      "Shivsh: 1\n",
      "Niki: 1\n",
      "Nishita: 1\n",
      "Rohik: 1\n",
      "Prishi: 1\n",
      "Ishaansh: 1\n",
      "Harshand: 1\n",
      "Manik: 1\n",
      "Chrinda: 1\n",
      "Aavya: 1\n",
      "Anarush: 1\n",
      "Viv: 1\n",
      "Ronnie: 1\n",
      "18: 1\n",
      "Rietal: 1\n",
      "R.Com: 1\n",
      "Anohi: 1\n",
      "Vivani: 1\n",
      "Ayash: 1\n",
      "Anil: 1\n",
      "Aiya: 1\n",
      "Tinmay: 1\n",
      "Rhesh: 1\n",
      "Nikya: 1\n",
      "Arnar: 1\n",
      "Vakash: 1\n",
      "Jush: 1\n",
      "Randik: 1\n",
      "Siddir: 1\n",
      "Raghavvi: 1\n",
      "BE: 1\n",
      "Anakash: 1\n",
      "Taurav: 1\n",
      "Ishaesh: 1\n",
      "A.Ed: 1\n",
      "Golkut: 1\n",
      "Krav: 1\n",
      "Ayhan: 1\n",
      "Parvik: 1\n",
      "Vlaan: 1\n",
      "Mahak: 1\n",
      "Abishma: 1\n",
      "Prvi: 1\n",
      "K. Kavya: 1\n",
      "Aieter: 1\n",
      "Aarsh: 1\n",
      "Kupa: 1\n",
      "Rudegrav: 1\n",
      "Parvi: 1\n",
      "Rajankot: 1\n",
      "Ani: 1\n",
      "Rupil: 1\n",
      "Adachi: 1\n",
      "Ayut: 1\n",
      "Rajya: 1\n",
      "Vidvi: 1\n",
      "Mahir: 1\n",
      "Sansh: 1\n",
      "Prishant: 1\n",
      "Eirini: 1\n",
      "Tanak: 1\n",
      "Researcher: 1\n",
      "Shaina: 1\n",
      "Aani: 1\n",
      "Plumber: 1\n",
      "Nanchal: 1\n",
      "Ayoub: 1\n",
      "Airav: 1\n",
      "Zegmay: 1\n",
      "Aarsush: 1\n",
      "Vidra: 1\n",
      "Kani: 1\n",
      "Ishma: 1\n",
      "Naly: 1\n",
      "Jaish: 1\n",
      "Raghavik: 1\n",
      "Anh: 1\n",
      "Pariv: 1\n",
      "Jhav: 1\n",
      "Rai: 1\n",
      "Hreya: 1\n",
      "Shivivaam: 1\n",
      "M.Com: 1\n",
      "Gavrachi: 1\n",
      "Rivaan: 1\n",
      "Haurav: 1\n",
      "Noreen: 1\n",
      "Anish: 1\n",
      "Aohi: 1\n",
      "Aariket: 1\n",
      "Aarat: 1\n",
      "Vohi: 1\n",
      "Vavya: 1\n",
      "Ishaam: 1\n",
      "Anhil: 1\n",
      "Rieta: 1\n",
      "Zahra: 1\n",
      "Jathesh: 1\n",
      "Aarun: 1\n",
      "Total unique names: 422\n"
     ]
    }
   ],
   "source": [
    "# Count occurrences of each unique name\n",
    "name_counts = data[\"Name\"].value_counts()\n",
    "\n",
    "# Print results\n",
    "print(\"Unique names sorted by count (most to least):\")\n",
    "for name, count in name_counts.items():\n",
    "    print(f\"{name}: {count}\")\n",
    "\n",
    "print(f\"Total unique names: {len(name_counts)}\")\n"
   ]
  },
  {
   "cell_type": "markdown",
   "metadata": {},
   "source": [
    "We thought about dropping the name column since we thought that this may not have any correlation to the label. But we realised that there might be a correlation, so we decided to keep it. The correlation being that for example having a \"unattractive\" name can affect your life in a bad way. \n",
    "\n",
    "\n",
    "For pre-processing this we want to give the name a value of how unique it is in the dataset, so for now we change the name with how frequent it is.\n",
    "\n",
    "\n",
    "Things to consider:\n",
    "\n",
    "Find a way to \"rate\" each name instead of how frequent the name is. Impute or change wrong names to missing name."
   ]
  },
  {
   "cell_type": "markdown",
   "metadata": {},
   "source": [
    "## Gender"
   ]
  },
  {
   "cell_type": "code",
   "execution_count": 6792,
   "metadata": {},
   "outputs": [
    {
     "name": "stdout",
     "output_type": "stream",
     "text": [
      "Examples of 'Name' column:\n",
      "0    Female\n",
      "1      Male\n",
      "2      Male\n",
      "3      Male\n",
      "4    Female\n",
      "Name: Gender, dtype: object\n",
      "\n",
      "Number of unique genders: 2\n"
     ]
    }
   ],
   "source": [
    "# Print examples of the 'Name' column\n",
    "print(\"Examples of 'Name' column:\")\n",
    "print(data[\"Gender\"].head())\n",
    "\n",
    "print(\"\")\n",
    "\n",
    "print(\"Number of unique genders:\", data[\"Gender\"].nunique())"
   ]
  },
  {
   "cell_type": "markdown",
   "metadata": {},
   "source": [
    "We will just encode male to 1 and female to 0."
   ]
  },
  {
   "cell_type": "markdown",
   "metadata": {},
   "source": [
    "## Age"
   ]
  },
  {
   "cell_type": "code",
   "execution_count": 6793,
   "metadata": {},
   "outputs": [
    {
     "name": "stdout",
     "output_type": "stream",
     "text": [
      "Examples of 'Age' column:\n",
      "0    49.0\n",
      "1    26.0\n",
      "2    33.0\n",
      "3    22.0\n",
      "4    30.0\n",
      "Name: Age, dtype: float64\n",
      "\n",
      "Number of unique ages: 43\n"
     ]
    }
   ],
   "source": [
    "print(\"Examples of 'Age' column:\")\n",
    "print(data[\"Age\"].head())\n",
    "\n",
    "print(\"\")\n",
    "\n",
    "print(\"Number of unique ages:\", data[\"Age\"].nunique())"
   ]
  },
  {
   "cell_type": "markdown",
   "metadata": {},
   "source": [
    "We will only change the number from float to integer."
   ]
  },
  {
   "cell_type": "markdown",
   "metadata": {},
   "source": [
    "## City"
   ]
  },
  {
   "cell_type": "code",
   "execution_count": 6794,
   "metadata": {},
   "outputs": [
    {
     "name": "stdout",
     "output_type": "stream",
     "text": [
      "Examples of 'City' column:\n",
      "0         Ludhiana\n",
      "1         Varanasi\n",
      "2    Visakhapatnam\n",
      "3           Mumbai\n",
      "4           Kanpur\n",
      "Name: City, dtype: object\n",
      "\n",
      "Number of unique cities: 43\n"
     ]
    }
   ],
   "source": [
    "print(\"Examples of 'City' column:\")\n",
    "print(data[\"City\"].head())\n",
    "\n",
    "print(\"\")\n",
    "\n",
    "print(\"Number of unique cities:\", data[\"Age\"].nunique())"
   ]
  },
  {
   "cell_type": "code",
   "execution_count": 6795,
   "metadata": {},
   "outputs": [
    {
     "name": "stdout",
     "output_type": "stream",
     "text": [
      "Unique cities sorted by count (most to least):\n",
      "Kalyan: First Index = 36, Count = 6591\n",
      "Patna: First Index = 9, Count = 5924\n",
      "Vasai-Virar: First Index = 49, Count = 5765\n",
      "Kolkata: First Index = 28, Count = 5689\n",
      "Ahmedabad: First Index = 5, Count = 5613\n",
      "Meerut: First Index = 17, Count = 5528\n",
      "Ludhiana: First Index = 0, Count = 5226\n",
      "Pune: First Index = 13, Count = 5210\n",
      "Rajkot: First Index = 10, Count = 5207\n",
      "Visakhapatnam: First Index = 2, Count = 5176\n",
      "Srinagar: First Index = 26, Count = 5074\n",
      "Mumbai: First Index = 3, Count = 4966\n",
      "Indore: First Index = 189, Count = 4872\n",
      "Agra: First Index = 18, Count = 4684\n",
      "Surat: First Index = 20, Count = 4636\n",
      "Varanasi: First Index = 1, Count = 4606\n",
      "Vadodara: First Index = 43, Count = 4568\n",
      "Hyderabad: First Index = 23, Count = 4496\n",
      "Kanpur: First Index = 4, Count = 4398\n",
      "Jaipur: First Index = 12, Count = 4328\n",
      "Thane: First Index = 6, Count = 4289\n",
      "Lucknow: First Index = 16, Count = 4280\n",
      "Nagpur: First Index = 37, Count = 4209\n",
      "Bangalore: First Index = 8, Count = 4123\n",
      "Chennai: First Index = 34, Count = 4044\n",
      "Ghaziabad: First Index = 27, Count = 3620\n",
      "Delhi: First Index = 76, Count = 3593\n",
      "Bhopal: First Index = 141, Count = 3475\n",
      "Faridabad: First Index = 21, Count = 3268\n",
      "Nashik: First Index = 7, Count = 3144\n",
      "Mihir: First Index = 44166, Count = 7\n",
      "Nandini: First Index = 32706, Count = 4\n",
      "Mahi: First Index = 76335, Count = 3\n",
      "Vidya: First Index = 52500, Count = 3\n",
      "City: First Index = 34300, Count = 3\n",
      "Pratyush: First Index = 34247, Count = 3\n",
      "Harsha: First Index = 15181, Count = 3\n",
      "Saanvi: First Index = 22293, Count = 3\n",
      "Bhavna: First Index = 28862, Count = 3\n",
      "Molkata: First Index = 100610, Count = 2\n",
      "MCA: First Index = 38232, Count = 2\n",
      "M.Com: First Index = 33276, Count = 2\n",
      "Atharv: First Index = 33447, Count = 2\n",
      "Nalini: First Index = 17337, Count = 2\n",
      "Keshav: First Index = 12371, Count = 2\n",
      "Ayush: First Index = 2123, Count = 2\n",
      "M.Tech: First Index = 28672, Count = 1\n",
      "Researcher: First Index = 105684, Count = 1\n",
      "Vaishnavi: First Index = 73571, Count = 1\n",
      "Chhavi: First Index = 74881, Count = 1\n",
      "Parth: First Index = 75591, Count = 1\n",
      "Vidhi: First Index = 1190, Count = 1\n",
      "Tushar: First Index = 77791, Count = 1\n",
      "MSc: First Index = 82304, Count = 1\n",
      "No: First Index = 82472, Count = 1\n",
      "Rashi: First Index = 86723, Count = 1\n",
      "ME: First Index = 93066, Count = 1\n",
      "Ishanabad: First Index = 762, Count = 1\n",
      "Armaan: First Index = 109183, Count = 1\n",
      "Kagan: First Index = 106809, Count = 1\n",
      "Kashish: First Index = 71995, Count = 1\n",
      "Ithal: First Index = 112975, Count = 1\n",
      "Nalyan: First Index = 115761, Count = 1\n",
      "Dhruv: First Index = 116546, Count = 1\n",
      "Galesabad: First Index = 117760, Count = 1\n",
      "Itheg: First Index = 121908, Count = 1\n",
      "Aaradhya: First Index = 123642, Count = 1\n",
      "Pooja: First Index = 124395, Count = 1\n",
      "Khushi: First Index = 125289, Count = 1\n",
      "Khaziabad: First Index = 126752, Count = 1\n",
      "Jhanvi: First Index = 136563, Count = 1\n",
      "Kibara: First Index = 73510, Count = 1\n",
      "Harsh: First Index = 68667, Count = 1\n",
      "Reyansh: First Index = 70407, Count = 1\n",
      "Morena: First Index = 42134, Count = 1\n",
      "Less Delhi: First Index = 30231, Count = 1\n",
      "Malyansh: First Index = 20886, Count = 1\n",
      "Aditya: First Index = 18496, Count = 1\n",
      "Plata: First Index = 33408, Count = 1\n",
      "Aishwarya: First Index = 8772, Count = 1\n",
      "3.0: First Index = 35309, Count = 1\n",
      "Less than 5 Kalyan: First Index = 36993, Count = 1\n",
      "Krishna: First Index = 3753, Count = 1\n",
      "Mira: First Index = 38817, Count = 1\n",
      "Moreadhyay: First Index = 39217, Count = 1\n",
      "Ishkarsh: First Index = 42470, Count = 1\n",
      "Raghavendra: First Index = 22215, Count = 1\n",
      "Kashk: First Index = 43050, Count = 1\n",
      "Gurgaon: First Index = 3554, Count = 1\n",
      "Tolkata: First Index = 53366, Count = 1\n",
      "Anvi: First Index = 55970, Count = 1\n",
      "Krinda: First Index = 57185, Count = 1\n",
      "Ayansh: First Index = 58776, Count = 1\n",
      "Shrey: First Index = 60210, Count = 1\n",
      "Ivaan: First Index = 61687, Count = 1\n",
      "Vaanya: First Index = 63830, Count = 1\n",
      "Gaurav: First Index = 65042, Count = 1\n",
      "Unirar: First Index = 138190, Count = 1\n",
      "Total unique cities: 98\n"
     ]
    },
    {
     "name": "stderr",
     "output_type": "stream",
     "text": [
      "/var/folders/z_/yqb_d2815j15ggfbmhgbj8gh0000gn/T/ipykernel_1048/1198885951.py:5: DeprecationWarning: DataFrameGroupBy.apply operated on the grouping columns. This behavior is deprecated, and in a future version of pandas the grouping columns will be excluded from the operation. Either pass `include_groups=False` to exclude the groupings or explicitly select the grouping columns after groupby to silence this warning.\n",
      "  first_occurrence = data.groupby(\"City\").apply(lambda x: x.index[0])\n"
     ]
    }
   ],
   "source": [
    "# Count occurrences of each unique city\n",
    "city_counts = data[\"City\"].value_counts()\n",
    "\n",
    "# Find first occurrence index for each unique city\n",
    "first_occurrence = data.groupby(\"City\").apply(lambda x: x.index[0])\n",
    "\n",
    "# Sort cities by count in descending order\n",
    "sorted_cities = city_counts.index  # Cities sorted by count (default sorting from most to least)\n",
    "\n",
    "count = 0\n",
    "# Print results\n",
    "print(\"Unique cities sorted by count (most to least):\")\n",
    "for city in sorted_cities:\n",
    "    if city_counts[city] > 0:\n",
    "        count += 1\n",
    "        print(f\"{city}: First Index = {first_occurrence[city]}, Count = {city_counts[city]}\")\n",
    "\n",
    "print(f\"Total unique cities: {count}\")\n"
   ]
  },
  {
   "cell_type": "markdown",
   "metadata": {},
   "source": [
    "We found population, density, literacy and sex ratio for each major city in our dataset. We then merged this in our data and removed city column. For the minor cities or the wrongly written cities we took the average of the other columns."
   ]
  },
  {
   "cell_type": "markdown",
   "metadata": {},
   "source": [
    "# Working Professional or Student"
   ]
  },
  {
   "cell_type": "code",
   "execution_count": 6796,
   "metadata": {},
   "outputs": [
    {
     "name": "stdout",
     "output_type": "stream",
     "text": [
      "Examples of 'Working Professional or Student' column:\n",
      "0    Working Professional\n",
      "1    Working Professional\n",
      "2                 Student\n",
      "3    Working Professional\n",
      "4    Working Professional\n",
      "Name: Working Professional or Student, dtype: object\n",
      "\n",
      "Number of unique Working Professional or Student: 2\n"
     ]
    }
   ],
   "source": [
    "print(\"Examples of 'Working Professional or Student' column:\")\n",
    "print(data[\"Working Professional or Student\"].head())\n",
    "\n",
    "print(\"\")\n",
    "\n",
    "print(\"Number of unique Working Professional or Student:\", data[\"Working Professional or Student\"].nunique())"
   ]
  },
  {
   "cell_type": "markdown",
   "metadata": {},
   "source": [
    "In this column we will change \"working professional\" to 0 and \"student\" to 1."
   ]
  },
  {
   "cell_type": "markdown",
   "metadata": {},
   "source": [
    "# Profession"
   ]
  },
  {
   "cell_type": "code",
   "execution_count": 6797,
   "metadata": {},
   "outputs": [
    {
     "name": "stdout",
     "output_type": "stream",
     "text": [
      "Examples of 'Profession' column:\n",
      "0                Chef\n",
      "1             Teacher\n",
      "2                 NaN\n",
      "3             Teacher\n",
      "4    Business Analyst\n",
      "Name: Profession, dtype: object\n",
      "\n",
      "NaN is student:\n",
      "nan\n",
      "Student\n",
      "\n",
      "Number of unique Profession: 64\n"
     ]
    }
   ],
   "source": [
    "print(\"Examples of 'Profession' column:\")\n",
    "print(data[\"Profession\"].head())\n",
    "print(\"\")\n",
    "print(\"NaN is student:\")\n",
    "print(data[\"Profession\"][2])\n",
    "print(data[\"Working Professional or Student\"][2])\n",
    "\n",
    "print(\"\")\n",
    "\n",
    "print(\"Number of unique Profession:\", data[\"Profession\"].nunique())\n",
    "\n"
   ]
  },
  {
   "cell_type": "markdown",
   "metadata": {},
   "source": [
    "There are occurences of NaN in this column, this happens when the sample is a student. We find it reasonable to insert \"Student\" in those slots. there are also occurences of NaN on samples that are not students, here we will insert \"Missing Profession\""
   ]
  },
  {
   "cell_type": "markdown",
   "metadata": {},
   "source": [
    "# Academic Pressure"
   ]
  },
  {
   "cell_type": "code",
   "execution_count": 6798,
   "metadata": {},
   "outputs": [
    {
     "name": "stdout",
     "output_type": "stream",
     "text": [
      "Examples of 'Academic pressure' column:\n",
      "0    NaN\n",
      "1    NaN\n",
      "2    5.0\n",
      "3    NaN\n",
      "4    NaN\n",
      "Name: Academic Pressure, dtype: float64\n",
      "\n",
      "Number of unique Academic pressures: 5\n"
     ]
    }
   ],
   "source": [
    "print(\"Examples of 'Academic pressure' column:\")\n",
    "print(data[\"Academic Pressure\"].head())\n",
    "\n",
    "print(\"\")\n",
    "\n",
    "print(\"Number of unique Academic pressures:\", data[\"Academic Pressure\"].nunique())"
   ]
  },
  {
   "cell_type": "markdown",
   "metadata": {},
   "source": [
    "For the \"Academic Pressure\" column we want to replace NaN with zeros.\n",
    "We are aslo considering merging this feature with work pressure, since they complete eachother. but for now we will have it like this and maybe change it for improving the model later."
   ]
  },
  {
   "cell_type": "markdown",
   "metadata": {},
   "source": [
    "# Work pressure"
   ]
  },
  {
   "cell_type": "code",
   "execution_count": 6799,
   "metadata": {},
   "outputs": [
    {
     "name": "stdout",
     "output_type": "stream",
     "text": [
      "Examples of 'Work Pressure' column:\n",
      "0    5.0\n",
      "1    4.0\n",
      "2    NaN\n",
      "3    5.0\n",
      "4    1.0\n",
      "Name: Work Pressure, dtype: float64\n",
      "\n",
      "Number of unique Work Pressure: [ 5.  4. nan  1.  2.  3.]\n"
     ]
    }
   ],
   "source": [
    "print(\"Examples of 'Work Pressure' column:\")\n",
    "print(data[\"Work Pressure\"].head())\n",
    "\n",
    "print(\"\")\n",
    "\n",
    "print(\"Number of unique Work Pressure:\", data[\"Work Pressure\"].unique())"
   ]
  },
  {
   "cell_type": "markdown",
   "metadata": {},
   "source": [
    "We assume that a lower number means less work pressure, therefore We will change Nan to 0 because it is the students that has NaN on Work Pressure"
   ]
  },
  {
   "cell_type": "markdown",
   "metadata": {},
   "source": [
    "# CGPA"
   ]
  },
  {
   "cell_type": "code",
   "execution_count": 6800,
   "metadata": {},
   "outputs": [
    {
     "name": "stdout",
     "output_type": "stream",
     "text": [
      "Examples of 'CGPA' column:\n",
      "0     NaN\n",
      "1     NaN\n",
      "2    8.97\n",
      "3     NaN\n",
      "4     NaN\n",
      "Name: CGPA, dtype: float64\n",
      "7.658636192558608\n"
     ]
    }
   ],
   "source": [
    "print(\"Examples of 'CGPA' column:\")\n",
    "print(data[\"CGPA\"].head())\n",
    "print(data[\"CGPA\"].mean())"
   ]
  },
  {
   "cell_type": "markdown",
   "metadata": {},
   "source": [
    "We consider changing the NaN slots to the average of the dataset, which is 7.66"
   ]
  },
  {
   "cell_type": "markdown",
   "metadata": {},
   "source": [
    "# Study Satisfaction and Job Satisfaction (Satisfaction)"
   ]
  },
  {
   "cell_type": "code",
   "execution_count": 6801,
   "metadata": {},
   "outputs": [
    {
     "name": "stdout",
     "output_type": "stream",
     "text": [
      "Examples of 'Study Satisfaction' and 'Job Satisfaction' column:\n",
      "0    NaN\n",
      "1    NaN\n",
      "2    2.0\n",
      "3    NaN\n",
      "4    NaN\n",
      "Name: Study Satisfaction, dtype: float64\n",
      "0    2.0\n",
      "1    3.0\n",
      "2    NaN\n",
      "3    1.0\n",
      "4    1.0\n",
      "Name: Job Satisfaction, dtype: float64\n"
     ]
    }
   ],
   "source": [
    "print(\"Examples of 'Study Satisfaction' and 'Job Satisfaction' column:\")\n",
    "print(data[\"Study Satisfaction\"].head())\n",
    "print(data[\"Job Satisfaction\"].head())"
   ]
  },
  {
   "cell_type": "markdown",
   "metadata": {},
   "source": [
    "You can tell that when there is missing a value in the study satisfaction column, there is a value in the same sample but on the job satisfaction problem. these two columns complete eachother, so we will combine these two columns into one \"satisfaction\" column."
   ]
  },
  {
   "cell_type": "markdown",
   "metadata": {},
   "source": [
    "# Sleep Duration"
   ]
  },
  {
   "cell_type": "code",
   "execution_count": 6802,
   "metadata": {},
   "outputs": [
    {
     "name": "stdout",
     "output_type": "stream",
     "text": [
      "Unique sleep sorted by count (most to least):\n",
      "Less than 5 hours 38784\n",
      "7-8 hours 36969\n",
      "More than 8 hours 32726\n",
      "5-6 hours 32142\n",
      "3-4 hours 12\n",
      "6-7 hours 8\n",
      "4-5 hours 7\n"
     ]
    }
   ],
   "source": [
    "sleep_counts = data[\"Sleep Duration\"].value_counts()\n",
    "\n",
    "print(\"Unique sleep sorted by count (most to least):\")\n",
    "for e, (duration, count) in enumerate(sleep_counts.items()):\n",
    "    print(duration, count)\n",
    "    if e == 6:\n",
    "        break"
   ]
  },
  {
   "cell_type": "markdown",
   "metadata": {},
   "source": [
    "This one looks a bit tricky. since there are so few occurnces of other than the four most common inputs in this feature, we will change the numbers to a scale from 1 to 4, where 1 is \"less than 5 hours\" all the way to 4 which is \"more than 8 hours\". all the others will be set to 1."
   ]
  },
  {
   "cell_type": "markdown",
   "metadata": {},
   "source": [
    "# Dietary Habits"
   ]
  },
  {
   "cell_type": "code",
   "execution_count": 6803,
   "metadata": {},
   "outputs": [
    {
     "name": "stdout",
     "output_type": "stream",
     "text": [
      "Unique sleep sorted by count (most to least):\n",
      "Moderate 49705\n",
      "Unhealthy 46227\n",
      "Healthy 44741\n",
      "Yes 2\n",
      "No 2\n",
      "More Healthy 2\n",
      "No Healthy 1\n"
     ]
    }
   ],
   "source": [
    "diet_counts = data[\"Dietary Habits\"].value_counts()\n",
    "\n",
    "print(\"Unique sleep sorted by count (most to least):\")\n",
    "for e, (diet, count) in enumerate(diet_counts.items()):\n",
    "    print(diet, count)\n",
    "    if e == 6:\n",
    "        break"
   ]
  },
  {
   "cell_type": "markdown",
   "metadata": {},
   "source": [
    "* Healthy -> 2\n",
    "* Moderate -> 1\n",
    "* Unhealthy -> 0\n",
    "* The rest -> 1"
   ]
  },
  {
   "cell_type": "markdown",
   "metadata": {},
   "source": [
    "# Degree"
   ]
  },
  {
   "cell_type": "code",
   "execution_count": 6804,
   "metadata": {},
   "outputs": [
    {
     "name": "stdout",
     "output_type": "stream",
     "text": [
      "115\n",
      "Unique sleep sorted by count (most to least):\n",
      "Class 12 14729\n",
      "B.Ed 11691\n",
      "B.Arch 8742\n",
      "B.Com 8113\n",
      "B.Pharm 5856\n",
      "BCA 5739\n",
      "M.Ed 5668\n",
      "MCA 5234\n",
      "BBA 5030\n",
      "BSc 5027\n",
      "MSc 4879\n"
     ]
    }
   ],
   "source": [
    "degree_counts = data[\"Degree\"].value_counts()\n",
    "print(data[\"Degree\"].nunique())\n",
    "\n",
    "print(\"Unique sleep sorted by count (most to least):\")\n",
    "for e, (degree, count) in enumerate(degree_counts.items()):\n",
    "    print(degree, count)\n",
    "    if e == 10:\n",
    "        break"
   ]
  },
  {
   "cell_type": "markdown",
   "metadata": {},
   "source": [
    "This one is particularly difficult because there are 115 unique degrees and there are not just a few degrees that covers the majority of the dataset either as the case is in the dietary habit feature. Our approach here is to somehow categorize the different degrees into bachelor, master, doctrine etc. and then give each of them a number from -1 to 4 based on the rank of the degree, going from \"other\" (which is the case where we can't define what degree it is) to professional."
   ]
  },
  {
   "cell_type": "markdown",
   "metadata": {},
   "source": [
    "# Have you ever had suicidal thoughts ?"
   ]
  },
  {
   "cell_type": "code",
   "execution_count": 6805,
   "metadata": {},
   "outputs": [
    {
     "name": "stdout",
     "output_type": "stream",
     "text": [
      "Examples of 'Have you ever had suicidal thoughts ?' column:\n",
      "0     No\n",
      "1    Yes\n",
      "2    Yes\n",
      "3    Yes\n",
      "4    Yes\n",
      "Name: Have you ever had suicidal thoughts ?, dtype: object\n",
      "\n",
      "Number of unique Have you ever had suicidal thoughts ?: 2\n"
     ]
    }
   ],
   "source": [
    "print(\"Examples of 'Have you ever had suicidal thoughts ?' column:\")\n",
    "print(data[\"Have you ever had suicidal thoughts ?\"].head())\n",
    "\n",
    "print(\"\")\n",
    "\n",
    "print(\"Number of unique Have you ever had suicidal thoughts ?:\", data[\"Have you ever had suicidal thoughts ?\"].nunique())"
   ]
  },
  {
   "cell_type": "markdown",
   "metadata": {},
   "source": [
    "We will also change this column to binary no / yes to 0 / 1"
   ]
  },
  {
   "cell_type": "markdown",
   "metadata": {},
   "source": [
    "# Work Study Hours (No prerocessing needed here)"
   ]
  },
  {
   "cell_type": "code",
   "execution_count": 6806,
   "metadata": {},
   "outputs": [
    {
     "name": "stdout",
     "output_type": "stream",
     "text": [
      "13\n",
      "Unique Work/Study Hours sorted by count (most to least):\n",
      "10.0 14199\n",
      "11.0 12832\n",
      "9.0 12711\n",
      "0.0 12066\n",
      "12.0 11409\n",
      "2.0 10595\n",
      "6.0 10432\n",
      "7.0 9872\n",
      "1.0 9802\n",
      "3.0 9474\n",
      "5.0 9337\n",
      "4.0 9065\n",
      "8.0 8906\n"
     ]
    }
   ],
   "source": [
    "ws_counts = data[\"Work/Study Hours\"].value_counts()\n",
    "print(data[\"Work/Study Hours\"].nunique())\n",
    "\n",
    "print(\"Unique Work/Study Hours sorted by count (most to least):\")\n",
    "for e, (ws, count) in enumerate(ws_counts.items()):\n",
    "    print(ws, count)\n",
    "    if e == 20:\n",
    "        break"
   ]
  },
  {
   "cell_type": "markdown",
   "metadata": {},
   "source": [
    "# Financial Stress"
   ]
  },
  {
   "cell_type": "code",
   "execution_count": 6807,
   "metadata": {},
   "outputs": [
    {
     "name": "stdout",
     "output_type": "stream",
     "text": [
      "5\n",
      "Unique sleep sorted by count (most to least):\n",
      "2.0 31451\n",
      "5.0 28279\n",
      "4.0 27765\n",
      "1.0 27211\n",
      "3.0 25990\n"
     ]
    }
   ],
   "source": [
    "finans_count = data[\"Financial Stress\"].value_counts()\n",
    "print(data[\"Financial Stress\"].nunique())\n",
    "\n",
    "print(\"Unique sleep sorted by count (most to least):\")\n",
    "for e, (fn, count) in enumerate(finans_count.items()):\n",
    "    print(fn, count)\n",
    "    if e == 10:\n",
    "        break"
   ]
  },
  {
   "cell_type": "markdown",
   "metadata": {},
   "source": [
    "Has a few missing values, we will impute the mean in these."
   ]
  },
  {
   "cell_type": "markdown",
   "metadata": {},
   "source": [
    "# Family History of Mental Illness"
   ]
  },
  {
   "cell_type": "code",
   "execution_count": 6808,
   "metadata": {},
   "outputs": [
    {
     "name": "stdout",
     "output_type": "stream",
     "text": [
      "Examples of 'Family History of Mental Illness' column:\n",
      "0     No\n",
      "1     No\n",
      "2     No\n",
      "3    Yes\n",
      "4    Yes\n",
      "Name: Family History of Mental Illness, dtype: object\n",
      "\n",
      "Number of unique Family History of Mental Illnesses: 2\n"
     ]
    }
   ],
   "source": [
    "print(\"Examples of 'Family History of Mental Illness' column:\")\n",
    "print(data[\"Family History of Mental Illness\"].head())\n",
    "\n",
    "print(\"\")\n",
    "\n",
    "print(\"Number of unique Family History of Mental Illnesses:\", data[\"Family History of Mental Illness\"].nunique())"
   ]
  },
  {
   "cell_type": "markdown",
   "metadata": {},
   "source": [
    "For this column we will change yes and no to 1 and 0"
   ]
  },
  {
   "cell_type": "markdown",
   "metadata": {},
   "source": [
    "# Depression - The label\n",
    "Plotting the distribution of the labels"
   ]
  },
  {
   "cell_type": "code",
   "execution_count": 6809,
   "metadata": {},
   "outputs": [
    {
     "data": {
      "image/png": "[encoded data removed]",
      "text/plain": [
       "<Figure size 640x480 with 1 Axes>"
      ]
     },
     "metadata": {},
     "output_type": "display_data"
    }
   ],
   "source": [
    "target_counts = data['Depression'].value_counts()\n",
    "target_counts.plot(kind='bar', color=['pink', 'black'])\n",
    "plt.xticks(ticks=[0, 1], labels=['Not Depressed', 'Depressed'], rotation=0)\n",
    "plt.title('Distribution of Not Depressed vs Depressed')\n",
    "plt.show()"
   ]
  },
  {
   "cell_type": "markdown",
   "metadata": {},
   "source": [
    "You can tell that there is a significant imbalance between depressed and not depressed. "
   ]
  },
  {
   "cell_type": "markdown",
   "metadata": {},
   "source": [
    "# Pre-processing"
   ]
  },
  {
   "cell_type": "markdown",
   "metadata": {},
   "source": [
    "Dropping the Id column"
   ]
  },
  {
   "cell_type": "code",
   "execution_count": 6810,
   "metadata": {},
   "outputs": [],
   "source": [
    "def dropId(data):\n",
    "    data = data.drop(columns=[\"id\"])\n",
    "    return data"
   ]
  },
  {
   "cell_type": "markdown",
   "metadata": {},
   "source": [
    "Encoding the name column, Replacing each name with its frequency in the dataset"
   ]
  },
  {
   "cell_type": "code",
   "execution_count": 6811,
   "metadata": {},
   "outputs": [],
   "source": [
    "def name_freq(data):\n",
    "    data[\"Name\"] = data[\"Name\"].map(data[\"Name\"].value_counts())\n",
    "    return data"
   ]
  },
  {
   "cell_type": "markdown",
   "metadata": {},
   "source": [
    "Encoding gender column 0/1"
   ]
  },
  {
   "cell_type": "code",
   "execution_count": 6812,
   "metadata": {},
   "outputs": [],
   "source": [
    "def gender_encode(data):\n",
    "    data[\"Gender\"] = data[\"Gender\"].map({\"Female\": 0, \"Male\": 1 })\n",
    "    return data"
   ]
  },
  {
   "cell_type": "markdown",
   "metadata": {},
   "source": [
    "Age, changing the type"
   ]
  },
  {
   "cell_type": "code",
   "execution_count": 6813,
   "metadata": {},
   "outputs": [],
   "source": [
    "def age_integer(data):\n",
    "    data[\"Age\"] = data[\"Age\"].astype(int)\n",
    "    return data"
   ]
  },
  {
   "cell_type": "markdown",
   "metadata": {},
   "source": [
    "Academic Preessure, inserting 0 in the empty slots"
   ]
  },
  {
   "cell_type": "code",
   "execution_count": 6814,
   "metadata": {},
   "outputs": [],
   "source": [
    "def academic_pressure(data):\n",
    "    data[\"Academic Pressure\"] = np.where(\n",
    "        data[\"Academic Pressure\"].isnull(), 0,\n",
    "        data[\"Academic Pressure\"]\n",
    "    )\n",
    "    return data"
   ]
  },
  {
   "cell_type": "markdown",
   "metadata": {},
   "source": [
    "Family History of Mental Illnes. -> 0/1"
   ]
  },
  {
   "cell_type": "code",
   "execution_count": 6815,
   "metadata": {},
   "outputs": [],
   "source": [
    "def family_mental_illness(data):\n",
    "    data[\"Family History of Mental Illness\"] = np.where(\n",
    "        data[\"Family History of Mental Illness\"] == \"No\", 0,\n",
    "        np.where(\n",
    "            data[\"Family History of Mental Illness\"] == \"Yes\", 1,\n",
    "            data[\"Family History of Mental Illness\"]\n",
    "        )\n",
    "    )\n",
    "    return data"
   ]
  },
  {
   "cell_type": "markdown",
   "metadata": {},
   "source": [
    "Have you ever had suicidal thoughts? -> 0/1"
   ]
  },
  {
   "cell_type": "code",
   "execution_count": 6816,
   "metadata": {},
   "outputs": [],
   "source": [
    "def suicidal_thoughts(data):\n",
    "    data[\"Have you ever had suicidal thoughts ?\"] = np.where(\n",
    "        data[\"Have you ever had suicidal thoughts ?\"] == \"No\", 0,\n",
    "        np.where(\n",
    "            data[\"Have you ever had suicidal thoughts ?\"] == \"Yes\", 1,\n",
    "            data[\"Have you ever had suicidal thoughts ?\"]\n",
    "        )\n",
    "    )\n",
    "    return data"
   ]
  },
  {
   "cell_type": "markdown",
   "metadata": {},
   "source": [
    "Financial stress"
   ]
  },
  {
   "cell_type": "code",
   "execution_count": 6817,
   "metadata": {},
   "outputs": [],
   "source": [
    "def financial_stress(data):\n",
    "    data[\"Financial Stress\"] = np.where(\n",
    "        data[\"Financial Stress\"].isnull(), round(data[\"Financial Stress\"].mean()), data[\"Financial Stress\"]\n",
    "    )\n",
    "    return data"
   ]
  },
  {
   "cell_type": "markdown",
   "metadata": {},
   "source": [
    "Working Professional or Student. -> 0/1"
   ]
  },
  {
   "cell_type": "code",
   "execution_count": 6818,
   "metadata": {},
   "outputs": [],
   "source": [
    "def working_or_student(data):\n",
    "    data[\"Working Professional or Student\"] = np.where(\n",
    "        data[\"Working Professional or Student\"] == \"Working Professional\", 0,\n",
    "        np.where(\n",
    "            data[\"Working Professional or Student\"] == \"Student\", 1,\n",
    "            data[\"Working Professional or Student\"]\n",
    "        )\n",
    "    )       \n",
    "    return data"
   ]
  },
  {
   "cell_type": "markdown",
   "metadata": {},
   "source": [
    "Profession. Inserting Student in the empty slots if the sample is a student and missing profession if it is empty and the sample is not a student. also inserting \"Missing Profession\" in the professions that has less than 10 occurrences in the dataset because the majority of these are wrong information."
   ]
  },
  {
   "cell_type": "code",
   "execution_count": 6819,
   "metadata": {},
   "outputs": [],
   "source": [
    "def profession(data):\n",
    "    # Count occurrences of each profession\n",
    "    profession_counts = data[\"Profession\"].value_counts()\n",
    "    \n",
    "    # Update the \"Profession\" column\n",
    "    data[\"Profession\"] = np.where(\n",
    "        data[\"Profession\"].isnull() & (data[\"Working Professional or Student\"] == 1),\n",
    "        \"Student\",\n",
    "        np.where(\n",
    "            data[\"Profession\"].isnull() & (data[\"Working Professional or Student\"] == 0), \n",
    "            \"Missing Profession\", \n",
    "            np.where(\n",
    "                data[\"Profession\"].map(profession_counts) < 6,  # If occurrence < 10, set to \"Missing Profession\"\n",
    "                \"Missing Profession\",\n",
    "                data[\"Profession\"]\n",
    "            )\n",
    "        )\n",
    "    )\n",
    "    return data\n"
   ]
  },
  {
   "cell_type": "markdown",
   "metadata": {},
   "source": [
    "Categorizing Professions and giving each category a number. the number is a rating from 0 to 10 on how happy people are in given categories. We used chatGPT to rate them based on different logical points. see professions_mapping dictionary for description of the ratings."
   ]
  },
  {
   "cell_type": "code",
   "execution_count": 6820,
   "metadata": {},
   "outputs": [],
   "source": [
    "def categorize_profession(profession):\n",
    "    if pd.isna(profession) or \"missing\" in profession.lower():\n",
    "        return \"Unknown\"\n",
    "    \n",
    "    profession = profession.lower().strip()\n",
    "\n",
    "    # Technology\n",
    "    tech_keywords = [\"software\", \"data scientist\", \"ux/ui\", \"developer\", \"engineer\"]\n",
    "    if any(keyword in profession for keyword in tech_keywords):\n",
    "        return \"Technology\"\n",
    "\n",
    "    # Finance\n",
    "    finance_keywords = [\"accountant\", \"financial\", \"investment\", \"banker\", \"analyst\"]\n",
    "    if any(keyword in profession for keyword in finance_keywords):\n",
    "        return \"Finance\"\n",
    "\n",
    "    # Healthcare\n",
    "    healthcare_keywords = [\"doctor\", \"pharmacist\", \"dentist\", \"nurse\"]\n",
    "    if any(keyword in profession for keyword in healthcare_keywords):\n",
    "        return \"Healthcare\"\n",
    "\n",
    "    # Education\n",
    "    education_keywords = [\"teacher\", \"professor\", \"educational\"]\n",
    "    if any(keyword in profession for keyword in education_keywords):\n",
    "        return \"Education\"\n",
    "\n",
    "    # Engineering\n",
    "    engineering_keywords = [\"civil engineer\", \"mechanical engineer\", \"architect\"]\n",
    "    if any(keyword in profession for keyword in engineering_keywords):\n",
    "        return \"Engineering\"\n",
    "\n",
    "    # Marketing & Sales\n",
    "    marketing_keywords = [\"marketing\", \"sales\", \"digital marketer\", \"content writer\"]\n",
    "    if any(keyword in profession for keyword in marketing_keywords):\n",
    "        return \"Marketing/Sales\"\n",
    "\n",
    "    # Trade & Manual Work\n",
    "    trade_keywords = [\"electrician\", \"plumber\", \"chef\", \"mechanic\"]\n",
    "    if any(keyword in profession for keyword in trade_keywords):\n",
    "        return \"Trade\"\n",
    "\n",
    "    # Legal\n",
    "    legal_keywords = [\"lawyer\", \"judge\", \"legal\"]\n",
    "    if any(keyword in profession for keyword in legal_keywords):\n",
    "        return \"Legal\"\n",
    "\n",
    "    # Consulting\n",
    "    consulting_keywords = [\"consultant\", \"business analyst\"]\n",
    "    if any(keyword in profession for keyword in consulting_keywords):\n",
    "        return \"Consulting\"\n",
    "\n",
    "    # Other / Unknown\n",
    "    return \"Other\"\n",
    "\n",
    "def Prefession_categorization(data):\n",
    "    # Apply categorization\n",
    "    data[\"Profession_Category\"] = data[\"Profession\"].apply(categorize_profession)\n",
    "\n",
    "    # Encoding Options\n",
    "\n",
    "    ## Option 1: Ordinal Encoding (useful if there's a natural order)\n",
    "    profession_mapping = {\n",
    "    \"Unknown\": 0,           # No data on job satisfaction\n",
    "    \"Other\": 4,             # Mixed bag, depends on the job\n",
    "    \"Trade\": 6,             # Skilled trades often provide satisfaction, but physically demanding\n",
    "    \"Marketing/Sales\": 5,   # High variability, stressful but rewarding\n",
    "    \"Consulting\": 5,        # High pay but often high stress & long hours\n",
    "    \"Education\": 7,         # Fulfilling, but pay can be low and stress can be high\n",
    "    \"Finance\": 6,           # High pay, but long hours and stress\n",
    "    \"Engineering\": 7,       # Good pay, problem-solving, but deadlines can be stressful\n",
    "    \"Healthcare\": 6,        # Rewarding but high stress and burnout risk\n",
    "    \"Legal\": 5,             # High salary, but stressful and demanding\n",
    "    \"Technology\": 8         # High salary, flexibility, remote work options\n",
    "}\n",
    "\n",
    "\n",
    "    data[\"Profession_Encoded\"] = data[\"Profession_Category\"].map(profession_mapping)\n",
    "\n",
    "    data[\"Profession\"] = data[\"Profession_Encoded\"]\n",
    "\n",
    "    data = data.drop(columns=[\"Profession_Encoded\", \"Profession_Category\"])\n",
    "    return data\n",
    "    ## Option 2: One-Hot Encoding (better for categorical data)\n",
    "    # data = pd.get_dummies(data, columns=[\"Profession_Category\"], prefix=\"Profession\")\n"
   ]
  },
  {
   "cell_type": "markdown",
   "metadata": {},
   "source": [
    "Work Pressure"
   ]
  },
  {
   "cell_type": "code",
   "execution_count": 6821,
   "metadata": {},
   "outputs": [],
   "source": [
    "def work_pressure(data):\n",
    "    data[\"Work Pressure\"] = np.where(\n",
    "        data[\"Work Pressure\"].isnull(), 0.0, data[\"Work Pressure\"]\n",
    "    )\n",
    "    return data"
   ]
  },
  {
   "cell_type": "markdown",
   "metadata": {},
   "source": [
    "CGPA"
   ]
  },
  {
   "cell_type": "code",
   "execution_count": 6822,
   "metadata": {},
   "outputs": [],
   "source": [
    "def cgpa(data):\n",
    "    data[\"CGPA\"] = np.where(\n",
    "        data[\"CGPA\"].isnull(), round(data[\"CGPA\"].mean(), 2), data[\"CGPA\"]\n",
    "    )\n",
    "    return data"
   ]
  },
  {
   "cell_type": "markdown",
   "metadata": {},
   "source": [
    "Study- and Job Satisfaction"
   ]
  },
  {
   "cell_type": "code",
   "execution_count": 6823,
   "metadata": {},
   "outputs": [],
   "source": [
    "def satisfaction(data):\n",
    "    satisfaction = np.where(\n",
    "        data[\"Study Satisfaction\"].notnull(), data[\"Study Satisfaction\"], np.where(\n",
    "            data[\"Job Satisfaction\"].notnull(), data[\"Job Satisfaction\"], 0\n",
    "        )\n",
    "    )\n",
    "    data[\"Job Satisfaction\"] = satisfaction\n",
    "    data = data.drop(columns=\"Study Satisfaction\")\n",
    "    data.rename(columns={\"Job Satisfaction\": \"Satisfaction\"}, inplace=True)\n",
    "    return data"
   ]
  },
  {
   "cell_type": "markdown",
   "metadata": {},
   "source": [
    "Sleep Duration"
   ]
  },
  {
   "cell_type": "code",
   "execution_count": 6824,
   "metadata": {},
   "outputs": [],
   "source": [
    "def sleep_duration(data):\n",
    "    data[\"Sleep Duration\"] = np.where(\n",
    "        data[\"Sleep Duration\"] == \"Less than 5 hours\", 1, np.where(\n",
    "            data[\"Sleep Duration\"] == \"5-6 hours\", 2, np.where(\n",
    "                data[\"Sleep Duration\"] == \"7-8 hours\", 3, np.where(\n",
    "                    data[\"Sleep Duration\"] == \"More than 8 hours\", 4, 1\n",
    "                )\n",
    "            )\n",
    "        )\n",
    "    )\n",
    "    return data"
   ]
  },
  {
   "cell_type": "markdown",
   "metadata": {},
   "source": [
    "Dietary Habits"
   ]
  },
  {
   "cell_type": "code",
   "execution_count": 6825,
   "metadata": {},
   "outputs": [],
   "source": [
    "def diet(data):\n",
    "    data[\"Dietary Habits\"] = np.where(\n",
    "        data[\"Dietary Habits\"] == \"Healthy\", 2, np.where(\n",
    "            data[\"Dietary Habits\"] == \"Moderate\", 1, np.where(\n",
    "                data[\"Dietary Habits\"] == \"Unhealthy\", 0, 1\n",
    "            )\n",
    "        )\n",
    "    )\n",
    "    return data"
   ]
  },
  {
   "cell_type": "markdown",
   "metadata": {},
   "source": []
  },
  {
   "cell_type": "code",
   "execution_count": 6826,
   "metadata": {},
   "outputs": [],
   "source": [
    "def categorize_degree(degree):\n",
    "\n",
    "    \"\"\"\n",
    "    Categorizes the differnet degrees into Schoo, Bachelors, Masters, Doctrate, professional and other\n",
    "    \"\"\"\n",
    "    \n",
    "    degree = str(degree).strip().lower()\n",
    "\n",
    "    # School-Level\n",
    "    if \"class 11\" in degree or \"class 12\" in degree:\n",
    "        return \"School\"\n",
    "\n",
    "    # Bachelor's Degrees\n",
    "    bachelor_keywords = [\"b.\", \"b \", \"bachelor\", \"bcom\", \"bsc\", \"btech\", \"be\", \"bba\", \"bca\", \"ba\", \"b.ed\", \"b.arch\"]\n",
    "    if any(keyword in degree for keyword in bachelor_keywords):\n",
    "        return \"Bachelors\"\n",
    "\n",
    "    # Master's Degrees\n",
    "    master_keywords = [\"m.\", \"m \", \"master\", \"mba\", \"mcom\", \"msc\", \"mtech\", \"me\", \"mca\", \"m.ed\", \"mpharm\", \"m.arch\"]\n",
    "    if any(keyword in degree for keyword in master_keywords):\n",
    "        return \"Masters\"\n",
    "\n",
    "    # Doctoral Degrees\n",
    "    if \"phd\" in degree:\n",
    "        return \"Doctorate\"\n",
    "\n",
    "    # Professional Degrees\n",
    "    professional_keywords = [\"mbbs\", \"md\", \"llb\", \"llm\"]\n",
    "    if any(keyword in degree for keyword in professional_keywords):\n",
    "        return \"Professional\"\n",
    "\n",
    "    # Unknown / Noisy Data\n",
    "    return \"Other\"\n",
    "\n",
    "def degree(data):\n",
    "    \n",
    "    # Apply categorization\n",
    "    data[\"Degree\"] = data[\"Degree\"].apply(categorize_degree)\n",
    "\n",
    "\n",
    "    # Define an ordinal mapping\n",
    "    degree_mapping = {\n",
    "        \"School\": 1,\n",
    "        \"Bachelors\": 2,\n",
    "        \"Masters\": 3,\n",
    "        \"Professional\": 4,\n",
    "        \"Doctorate\": 5,\n",
    "        \"Other\": 0  # Keep 'Other' at the highest level or remove it depending on the approach\n",
    "    }\n",
    "\n",
    "    # Apply mapping\n",
    "    data[\"Degree\"] = data[\"Degree\"].map(degree_mapping)\n",
    "\n",
    "    return data \n",
    "\n"
   ]
  },
  {
   "cell_type": "markdown",
   "metadata": {},
   "source": [
    "City"
   ]
  },
  {
   "cell_type": "code",
   "execution_count": 6827,
   "metadata": {},
   "outputs": [],
   "source": [
    "# Load city data\n",
    "city_data_path = \"./Data/indian_cities_data.csv\"\n",
    "df_cities = pd.read_csv(city_data_path)\n",
    "\n",
    "def city_one_hot(data):\n",
    "    # Find the index of the \"City\" column\n",
    "    city_index = data.columns.get_loc(\"City\")\n",
    "\n",
    "    # Merge the data with city information, excluding \"Main Language\"\n",
    "    merged_data = data.merge(df_cities.drop(columns=[\"Main Language\"]), on=\"City\", how=\"left\")\n",
    "\n",
    "    # Calculate the mean values for missing cities\n",
    "    mean_values = merged_data[[\"Population\", \"Density (per km²)\", \"Literacy Rate (%)\", \"Sex Ratio\"]].mean()\n",
    "\n",
    "    # Replace NaN values with the mean of the respective column\n",
    "    merged_data.fillna(mean_values, inplace=True)\n",
    "\n",
    "    # Drop the original \"City\" column\n",
    "    merged_data.drop(columns=[\"City\"], inplace=True)\n",
    "\n",
    "    # Reorder columns to place new city-related columns where \"City\" was\n",
    "    city_columns = [\"Population\", \"Density (per km²)\", \"Literacy Rate (%)\", \"Sex Ratio\"]\n",
    "    cols = merged_data.columns.tolist()\n",
    "\n",
    "    # Move the new city-related columns to the correct index\n",
    "    for col in reversed(city_columns):\n",
    "        cols.insert(city_index, cols.pop(cols.index(col)))\n",
    "\n",
    "    # Reorder the dataframe\n",
    "    merged_data = merged_data[cols]\n",
    "\n",
    "    return merged_data\n"
   ]
  },
  {
   "cell_type": "markdown",
   "metadata": {},
   "source": [
    "Pre-processing function:"
   ]
  },
  {
   "cell_type": "code",
   "execution_count": 6828,
   "metadata": {},
   "outputs": [],
   "source": [
    "def pre_processing(data):\n",
    "\n",
    "    data = dropId(data)\n",
    "    data = name_freq(data)\n",
    "    data = gender_encode(data)\n",
    "    data = age_integer(data)\n",
    "    data = academic_pressure(data)\n",
    "    data = family_mental_illness(data)\n",
    "    data = suicidal_thoughts(data)\n",
    "    data = working_or_student(data)\n",
    "    data = profession(data)\n",
    "    data = work_pressure(data)\n",
    "    data = cgpa(data)\n",
    "    data = satisfaction(data)\n",
    "    data = sleep_duration(data)\n",
    "    data = diet(data)\n",
    "    data = degree(data)\n",
    "    data = Prefession_categorization(data)\n",
    "    data = city_one_hot(data)\n",
    "    data = financial_stress(data)\n",
    "    return data\n",
    "\n",
    "training_data = pre_processing(data)\n",
    "test_data = pre_processing(test)\n",
    "test_data.to_csv(\"test_data.csv\", index=False)"
   ]
  },
  {
   "cell_type": "markdown",
   "metadata": {},
   "source": [
    "Here is The function for Normalizing (0-1) the dataset. This is necessary or helpful if we want to use:\n",
    "\n",
    "| Learning Algorithm |\n",
    "|--------------------|\n",
    "| Logistic Regression |\n",
    "| SVM |\n",
    "| Neural Network - better |\n",
    "| K-Means |"
   ]
  },
  {
   "cell_type": "code",
   "execution_count": 6829,
   "metadata": {},
   "outputs": [],
   "source": [
    "def normalize_dataset(training_data, test_data, columns_to_scale):\n",
    "    scaler = MinMaxScaler()\n",
    "    scaler.fit(training_data[columns_to_scale])\n",
    "    training_data[columns_to_scale] = scaler.transform(training_data[columns_to_scale])\n",
    "    test_data[columns_to_scale] = scaler.transform(test_data[columns_to_scale])\n",
    "    return training_data, test_data"
   ]
  },
  {
   "cell_type": "markdown",
   "metadata": {},
   "source": [
    "Here is The function for Standardising the dataset. This is necessary or helpful if we want to use:\n",
    "\n",
    "| Learning Algorithm |\n",
    "|--------------------|\n",
    "| Logistic Regression |\n",
    "| SVM - better |\n",
    "| Neural Network |\n",
    "| PCA |"
   ]
  },
  {
   "cell_type": "code",
   "execution_count": 6830,
   "metadata": {},
   "outputs": [],
   "source": [
    "def standardize_dataset(training_data, test_data, columns_to_scale):\n",
    "    scaler = StandardScaler()\n",
    "    scaler.fit(training_data[columns_to_scale])\n",
    "    training_data[columns_to_scale] = scaler.transform(training_data[columns_to_scale])\n",
    "    test_data[columns_to_scale] = scaler.transform(test_data[columns_to_scale])\n",
    "    return training_data, test_data"
   ]
  },
  {
   "cell_type": "markdown",
   "metadata": {},
   "source": [
    "The columns that needs to be scaled:"
   ]
  },
  {
   "cell_type": "code",
   "execution_count": 6831,
   "metadata": {},
   "outputs": [],
   "source": [
    "columns_to_scale = [\"Population\", \"Density (per km²)\", \"Literacy Rate (%)\", \"CGPA\", \"Work/Study Hours\"]\n",
    "\n",
    "def scale(method: str, training_data, test_data):\n",
    "    if method == \"Standardize\":\n",
    "        training_data, test_data = standardize_dataset(training_data, test_data, columns_to_scale)\n",
    "    else:\n",
    "        training_data, test_data = normalize_dataset(training_data, test_data, columns_to_scale)\n",
    "    return training_data, test_data"
   ]
  },
  {
   "cell_type": "markdown",
   "metadata": {},
   "source": [
    "Splitting the dataset into Train and val, also extracting the labels."
   ]
  },
  {
   "cell_type": "code",
   "execution_count": 6832,
   "metadata": {},
   "outputs": [],
   "source": [
    "def split_training_data(seed=0, train_size=0.8, data=training_data):\n",
    "    np.random.seed(seed)\n",
    "    X = data.drop(columns=[\"Depression\"])\n",
    "    y = data[\"Depression\"]\n",
    "    X_train, X_val, y_train, y_val = train_test_split(X, y, train_size=train_size, random_state=seed, stratify=y)\n",
    "    return X_train, X_val, y_train, y_val"
   ]
  },
  {
   "cell_type": "markdown",
   "metadata": {},
   "source": [
    "Trying out Random forest classifier"
   ]
  },
  {
   "cell_type": "markdown",
   "metadata": {},
   "source": [
    "Test method to be used anytime you want to try your model. Prints the submission in \"submission.csv\" in the working directory if you want to submit, but also tests it on the validation dataset"
   ]
  },
  {
   "cell_type": "code",
   "execution_count": 6833,
   "metadata": {},
   "outputs": [],
   "source": [
    "def test_model(model, test_data, X_val, y_val, test_or_val=\"val\"):\n",
    "    if test_or_val == \"test\":\n",
    "        predictions = model.predict(test_data)\n",
    "\n",
    "        submission = pd.DataFrame({\n",
    "            \"id\": test[\"id\"], \n",
    "            \"Depression\": predictions\n",
    "        })\n",
    "        submission.to_csv(\"submission.csv\", index=False)\n",
    "        print(\"test successfully executed, results in submission.csv\")\n",
    "    elif test_or_val == \"val\":\n",
    "        predictions = model.predict(X_val)\n",
    "        accuracy = accuracy_score(predictions, y_val)\n",
    "        return accuracy\n"
   ]
  },
  {
   "cell_type": "markdown",
   "metadata": {},
   "source": [
    "# Random Forest classifier"
   ]
  },
  {
   "cell_type": "code",
   "execution_count": 6834,
   "metadata": {},
   "outputs": [],
   "source": [
    "def Random_forest(seed, X_train, y_train):\n",
    "    param_grid = {\n",
    "        \"n_estimators\": [50, 100, 200],\n",
    "        \"max_depth\": [10, 20, 30],\n",
    "        \"min_samples_split\": [2, 5, 10],\n",
    "        \"min_samples_leaf\": [1, 2, 4]\n",
    "    }\n",
    "\n",
    "    param_grid = {\n",
    "        \"n_estimators\": [200],\n",
    "        \"max_depth\": [20],\n",
    "        \"min_samples_split\": [5],\n",
    "        \"min_samples_leaf\": [1]\n",
    "    }\n",
    "\n",
    "    kf = StratifiedKFold(n_splits=5, shuffle=True, random_state=seed)\n",
    "    rf = RandomForestClassifier(random_state=seed)\n",
    "\n",
    "    grid_search = GridSearchCV(\n",
    "        estimator=rf,\n",
    "        param_grid=param_grid,\n",
    "        cv=kf,\n",
    "        scoring=\"accuracy\",\n",
    "        n_jobs=-1,  # Use all available CPU cores\n",
    "        verbose=1   # Shows progress\n",
    "    )\n",
    "\n",
    "    # No scaling required\n",
    "\n",
    "    grid_search.fit(X_train, y_train)\n",
    "    best_params = grid_search.best_params_\n",
    "\n",
    "    print(\"Best Hyperparameters:\", best_params)\n",
    "    \n",
    "    model = RandomForestClassifier(max_depth=best_params[\"max_depth\"], \n",
    "                            min_samples_leaf=best_params[\"min_samples_leaf\"],\n",
    "                            min_samples_split=best_params[\"min_samples_split\"],\n",
    "                            n_estimators=best_params[\"n_estimators\"],\n",
    "                            class_weight=\"balanced\"\n",
    "                            )\n",
    "\n",
    "    model.fit(X_train, y_train)\n",
    "    \n",
    "    return model\n",
    "\n",
    "\n",
    "# rf_training_data, rf_test_data = scale(\"Standardize\", training_data, test_data)\n",
    "X_train, X_val, y_train, y_val = split_training_data(0, data=training_data)\n",
    "# model = Random_forest(0, X_train, y_train)\n",
    "# test_model(model, rf_test_data, X_val, y_val, \"val\")"
   ]
  },
  {
   "cell_type": "markdown",
   "metadata": {},
   "source": [
    "# Improved Random Forest classifier - Magnus Paper implementation\n",
    "\n",
    "[Improved Random forest paper](https://www.sciencedirect.com/science/article/pii/S0957417423020511) <--- link\n",
    "\n",
    "## Split into three equal test sets"
   ]
  },
  {
   "cell_type": "code",
   "execution_count": 6835,
   "metadata": {},
   "outputs": [],
   "source": [
    "X_train, X_reserved, y_train, y_reserved = split_training_data(0, data=training_data)\n",
    "\n",
    "# split the reserved data into three equal parts\n",
    "reserved_size = len(X_reserved) // 3\n",
    "X_res1 = X_reserved.iloc[:reserved_size]\n",
    "X_res2 = X_reserved.iloc[reserved_size:2*reserved_size]\n",
    "X_res3 = X_reserved.iloc[2*reserved_size:]\n",
    "y_res1 = y_reserved.iloc[:reserved_size]\n",
    "y_res2 = y_reserved.iloc[reserved_size:2*reserved_size]\n",
    "y_res3 = y_reserved.iloc[2*reserved_size:]"
   ]
  },
  {
   "cell_type": "markdown",
   "metadata": {},
   "source": [
    "## Training a pool of Decision trees with bagging"
   ]
  },
  {
   "cell_type": "code",
   "execution_count": 6836,
   "metadata": {},
   "outputs": [],
   "source": [
    "def make_trees(N_final, m, max_depth, min_samples_leaf, min_samples_split):\n",
    "    \n",
    "    N_pool = int(N_final * (1 + m)) # total number of trees to train\n",
    "\n",
    "    # list to store the trained trees. \n",
    "    forest_pool = []\n",
    "\n",
    "    for i in range(N_pool):\n",
    "        X_boot, y_boot = resample(X_train, y_train, random_state=i) # different random_state for each sampling to ensures that each bootstrap sample is different\n",
    "        clf = DecisionTreeClassifier(random_state=i, max_depth=max_depth, min_samples_leaf=min_samples_leaf, min_samples_split=min_samples_split)\n",
    "        clf.fit(X_boot, y_boot)\n",
    "        forest_pool.append(clf)\n",
    "        \n",
    "    return forest_pool\n"
   ]
  },
  {
   "cell_type": "markdown",
   "metadata": {},
   "source": [
    "## Evaluating each Decisiontree"
   ]
  },
  {
   "cell_type": "code",
   "execution_count": 6837,
   "metadata": {},
   "outputs": [],
   "source": [
    "def average_classification_accuracy(clf: DecisionTreeClassifier):\n",
    "    \"\"\"\n",
    "    Calculates the average classification accuracy of a decision tree \n",
    "    just how the paper describes it.\n",
    "    \"\"\"\n",
    "    accuracy1 = accuracy_score(y_res1, clf.predict(X_res1))\n",
    "    accuracy2 = accuracy_score(y_res2, clf.predict(X_res2))\n",
    "    accuracy3 = accuracy_score(y_res3, clf.predict(X_res3))\n",
    "    return np.mean([accuracy1, accuracy2, accuracy3])\n",
    "\n",
    "\n",
    "def make_tree_sorted(forest_pool):\n",
    "    # A list of tuples (tree_index, clf, average_classification_accuracy)\n",
    "    tree_info = []\n",
    "\n",
    "    # aplies the average classification accuracy information to each tree in the new list tree_info\n",
    "    for index, clf in enumerate(forest_pool):\n",
    "        aca = average_classification_accuracy(clf)\n",
    "        tree_info.append((index, clf, aca))\n",
    "\n",
    "    # Sorts the trees in descending order based on the average classification accuracy\n",
    "    tree_info_sorted = sorted(tree_info,key=lambda x: x[2], reverse=True)\n",
    "    \n",
    "    return tree_info_sorted\n"
   ]
  },
  {
   "cell_type": "markdown",
   "metadata": {},
   "source": [
    "## Measuring Correlation between decision trees"
   ]
  },
  {
   "cell_type": "code",
   "execution_count": 6838,
   "metadata": {},
   "outputs": [],
   "source": [
    "def improved_similarity(clf1, clf2):\n",
    "    \"\"\"\n",
    "    Calculates the improved dot product based method to measure the \n",
    "    correlation between trees. \n",
    "\n",
    "    Takes in two Decision trees and returns an angle representing the correletion\n",
    "\n",
    "    The paper only considers the feature space meaning the specific features each tree is using, not considering the feature importance.\n",
    "    \"\"\"\n",
    "\n",
    "    # The sets of which features the trees are using\n",
    "    Wi = set(clf1.tree_.feature)\n",
    "    Wi.discard(-2) # removing leaves\n",
    "    Wj = set(clf2.tree_.feature)\n",
    "    Wj.discard(-2) # removing leaves\n",
    "\n",
    "    # calculates the numerator of the improved dot product based method in the paper.\n",
    "    numerator = len(Wi.intersection(Wj))\n",
    "\n",
    "    # calculates the denominator of the improved dot product based method in the paper.\n",
    "    denominator = np.sqrt(len(Wi) * len(Wj))\n",
    "\n",
    "    if denominator == 0:\n",
    "        return 90  # orthogonal if there's no shared features\n",
    "\n",
    "    # Cosine similarity normalization\n",
    "    improved_dot_product = numerator / denominator\n",
    "\n",
    "    # Clip for numerical stability\n",
    "    improved_dot_product = np.clip(improved_dot_product, -1.0, 1.0)\n",
    "\n",
    "    # Puts the whole method for measuring the correlation between two trees. \n",
    "    angle_correlation = np.degrees(np.arccos(improved_dot_product))\n",
    "    \n",
    "    return angle_correlation"
   ]
  },
  {
   "cell_type": "markdown",
   "metadata": {},
   "source": [
    "## Measure the correlation between the trees and mark the bad ones as deletable while also hypertuning the threshold\n",
    "I figured that the correlation angles could differ alot between each model, So i found it reasonable to find the values to tune on based on the mean correlation angle of all the correlations. "
   ]
  },
  {
   "cell_type": "code",
   "execution_count": 6839,
   "metadata": {},
   "outputs": [],
   "source": [
    "def correlation_test(tree_info_sorted, N_final):\n",
    "    \"\"\"\"\n",
    "    Finds the correlation between trees using the improved_similarity() function. \n",
    "    Returns a mask that can be used to filter out what trees are marked as deletable.\n",
    "    \"\"\"\n",
    "\n",
    "    # The matrix keeping track of the correlations between trees.\n",
    "    correlation_matrix = np.zeros((len(tree_info_sorted), len(tree_info_sorted)))\n",
    "\n",
    "    # Finds the correlation between all the trees, adding them to the matrix and marking the \n",
    "    # tree with the lowest accuracy among the pairs with too high correlations as deletable with the binary mask marked_mask.\n",
    "    for i in range(len(tree_info_sorted)):\n",
    "        for j in range(len(tree_info_sorted)):\n",
    "            angle = improved_similarity(tree_info_sorted[i][1], tree_info_sorted[j][1])\n",
    "            correlation_matrix[i, j] = angle\n",
    "            correlation_matrix[j, i] = angle\n",
    "\n",
    "    (width, height) = np.shape(correlation_matrix)\n",
    "    # Hypertune the threshold, tuned differently for each model.\n",
    "    mean_threshold, min_threshold = find_mean_without_diagonal(width, height, correlation_matrix)\n",
    "    min_to_mean_threshold_range = mean_threshold - min_threshold\n",
    "    max_threshold = np.max(correlation_matrix)\n",
    "    mean_to_max_threshold_range = max_threshold - mean_threshold\n",
    "    thresholds = [\n",
    "       mean_threshold + mean_to_max_threshold_range*0.5,\n",
    "       min_threshold + min_to_mean_threshold_range*0.5,\n",
    "       mean_threshold,\n",
    "       mean_threshold + mean_to_max_threshold_range*0.25,\n",
    "       min_threshold + min_to_mean_threshold_range*0.25\n",
    "    ]\n",
    "\n",
    "    best_threshold = 0\n",
    "    best_score = 0\n",
    "    best_mask = []\n",
    "\n",
    "    # Using the grid search method to find the best threshold\n",
    "    for t, threshold in enumerate(thresholds):\n",
    "\n",
    "        # The mask representing the trees marked as \"deletable\" in the tree_info_sorted list\n",
    "        marked_mask = np.zeros(len(tree_info_sorted))\n",
    "        tree_info_sorted_temp = tree_info_sorted.copy()\n",
    "\n",
    "        for i in range(len(tree_info_sorted_temp)):\n",
    "            for j in range(len(tree_info_sorted_temp)):\n",
    "                angle = correlation_matrix[i, j]\n",
    "\n",
    "                if angle < threshold: # if the trees are too correlated\n",
    "                    if i == j: # skip when it is the same tree\n",
    "                        continue\n",
    "                    elif tree_info_sorted_temp[i][2] < tree_info_sorted_temp[j][2]:\n",
    "                        marked_mask[i] = 1 # mark tree[i] as 1 for \"deletable\"\n",
    "                    else:\n",
    "                        marked_mask[j] = 1 # mark tree[j] as 1 for \"deletable\"\n",
    "\n",
    "        # Testing the accuracy of the model with this threshold using the three reserved datasets.\n",
    "        tree_info_sorted_temp = filter_out_trees(tree_info_sorted_temp, marked_mask, N_final)\n",
    "        average_accuracy = 0\n",
    "        trees = [tree_information[1] for tree_information in tree_info_sorted_temp]\n",
    "        for X, y in [(X_res1, y_res1),(X_res2, y_res2), (X_res3, y_res3)]:\n",
    "            predictions = np.array([tree.predict(X) for tree in trees])\n",
    "            majority_vote, _ = mode(predictions, axis=0, keepdims=True)\n",
    "            majority_vote = majority_vote.flatten()\n",
    "            score = accuracy_score(majority_vote, y)\n",
    "            average_accuracy += score\n",
    "        average_accuracy = average_accuracy/3\n",
    "        if average_accuracy > best_score:\n",
    "            best_mask = marked_mask\n",
    "            best_threshold = threshold\n",
    "            best_score = average_accuracy\n",
    "\n",
    "    return best_mask\n",
    "\n",
    "def find_mean_without_diagonal(width, height, matrix):\n",
    "    \"\"\"\n",
    "    Finds the mean and min while excluding the times when a tree is compared to itself because that as irrelevant and will pull the mean and min lower than whats correct.\n",
    "    \"\"\"\n",
    "    \n",
    "    mean = 0\n",
    "    min = 180\n",
    "    for i in range(width):\n",
    "        for j in range(height):\n",
    "            if i == j:\n",
    "                continue\n",
    "            else:\n",
    "                angle = matrix[i][j]\n",
    "                mean += angle\n",
    "                if angle < min:\n",
    "                    min = angle\n",
    "    mean = mean / (width*height - width)\n",
    "    return mean, min\n"
   ]
  },
  {
   "cell_type": "markdown",
   "metadata": {},
   "source": [
    "# Delete trees"
   ]
  },
  {
   "cell_type": "code",
   "execution_count": 6840,
   "metadata": {},
   "outputs": [],
   "source": [
    "def delete_with_accuracy(tree_info_sorted_temp, preset):\n",
    "    \"\"\"\n",
    "    Sequentially removing trees with the lowest average classification accuracy until the preset number is met\n",
    "    \"\"\"\n",
    "    print(\"There were too few in the deletable list, deleting based on accuracy score.\")\n",
    "    idx = len(tree_info_sorted_temp) - 1\n",
    "    while len(tree_info_sorted_temp) > preset and idx >= 0:\n",
    "        tree_info_sorted_temp.pop(idx)\n",
    "        idx -= 1\n",
    "    \n",
    "    \n",
    "    return tree_info_sorted_temp\n",
    "\n",
    "\n",
    "def filter_out_trees(tree_info_sorted_for_deletion, mask, preset):\n",
    "    \"\"\"\n",
    "    Removes trees primarily based on the deletable trees, but if the preset number isn't met when all the deletable trees are deleted,\n",
    "    trees will be removed based solely on their accuracy score. \n",
    "    \"\"\"\n",
    "\n",
    "    mask_temp = list(mask)\n",
    "    \n",
    "    idx = len(tree_info_sorted_for_deletion) - 1\n",
    "    while (len(tree_info_sorted_for_deletion) > preset) and idx >= 0:\n",
    "        if 1 not in mask_temp[:idx + 1]:\n",
    "            tree_info_sorted_for_deletion = delete_with_accuracy(tree_info_sorted_for_deletion, preset)\n",
    "            break\n",
    "        if mask_temp[idx] == 1:\n",
    "            tree_info_sorted_for_deletion.pop(idx)\n",
    "        idx -= 1\n",
    "\n",
    "    return tree_info_sorted_for_deletion"
   ]
  },
  {
   "cell_type": "markdown",
   "metadata": {},
   "source": [
    "## Ensemble the trees to form and implement the improved random forest class."
   ]
  },
  {
   "cell_type": "code",
   "execution_count": 6856,
   "metadata": {},
   "outputs": [],
   "source": [
    "class ImprovedRandomForest:\n",
    "    def __init__(self, N_final, m, max_depth, min_samples_leaf, min_samples_split):\n",
    "        self.N_final = N_final\n",
    "        self.m = m\n",
    "        self.max_depth = max_depth\n",
    "        self.min_samples_leaf = min_samples_leaf\n",
    "        self.min_samples_split = min_samples_split\n",
    "        self.tree_info_sorted = make_tree_sorted(make_trees(self.N_final, self.m, self.max_depth, self.min_samples_leaf, self.min_samples_split))\n",
    "        self.deletable_mask = correlation_test(self.tree_info_sorted, N_final)\n",
    "        self.tree_info_sorted = filter_out_trees(self.tree_info_sorted, self.deletable_mask, self.N_final)\n",
    "        self.trees = [tree_information[1] for tree_information in self.tree_info_sorted]\n",
    "\n",
    "    def get_trees(self):\n",
    "        return self.trees\n",
    "\n",
    "    def predict(self, dataset):\n",
    "        predictions = np.array([tree.predict(dataset) for tree in self.trees])\n",
    "        majority_vote, _ = mode(predictions, axis=0, keepdims=True)\n",
    "        return majority_vote.flatten()"
   ]
  },
  {
   "cell_type": "markdown",
   "metadata": {},
   "source": [
    "## Hypertune parameters with grid search nethod"
   ]
  },
  {
   "cell_type": "code",
   "execution_count": 6842,
   "metadata": {},
   "outputs": [],
   "source": [
    "parameters = {\n",
    "    \"N_final\": [150, 200, 250, 300, 350],\n",
    "    \"m\": [0.15],\n",
    "    \"max_depth\": [9],\n",
    "    \"min_samples_leaf\": [4],\n",
    "    \"min_samples_split\": [2]\n",
    "}\n",
    "\n",
    "train_accuracies = []\n",
    "val_accuracies = []\n",
    "n_estimators = parameters[\"N_final\"]\n",
    "\n",
    "# The best parameters from tuning\n",
    "# parameters = {\n",
    "#     \"N_final\": [200],\n",
    "#     \"m\": [0.5],\n",
    "#     \"max_depth\": [12],\n",
    "#     \"min_samples_leaf\": [4],\n",
    "#     \"min_samples_split\": [2]\n",
    "# }\n",
    "\n",
    "def hypertuned_model(parameters: dict):\n",
    "\n",
    "    # Gives an overview of the computational cost of the hypertuning - for time estamation\n",
    "    total_candidates = 1\n",
    "    for p in parameters:\n",
    "        total_candidates = total_candidates * len(parameters[p])\n",
    "    print(\"The amount of total candidates: \", total_candidates)\n",
    "\n",
    "    best_parameters = {\n",
    "        \"N_final\": None,\n",
    "        \"m\": None,\n",
    "        \"max_depth\": None,\n",
    "        \"min_samples_leaf\": None,\n",
    "        \"min_samples_split\": None\n",
    "    }\n",
    "    best_accuracy_score = 0.0\n",
    "    best_model = None\n",
    "    candidates = total_candidates\n",
    "    for N_final in parameters[\"N_final\"]:\n",
    "        for m in parameters[\"m\"]:\n",
    "            for max_depth in parameters[\"max_depth\"]:\n",
    "                for min_samples_leaf in parameters[\"min_samples_leaf\"]:\n",
    "                    for min_samples_split in parameters[\"min_samples_split\"]:\n",
    "                        print(f\"Testing the parameters: {N_final}, {m}, {max_depth}, {min_samples_leaf}, {min_samples_split}.\")\n",
    "                        model = ImprovedRandomForest(N_final, m, max_depth, min_samples_leaf, min_samples_split)\n",
    "\n",
    "                        # validationset score\n",
    "                        val_accuracy = test_model(model, test_data, X_val, y_val, \"val\")\n",
    "                        val_accuracies.append(val_accuracy)\n",
    "\n",
    "                        # trainingset score\n",
    "                        train_accuracy = test_model(model, test_data, X_train, y_train, \"val\")\n",
    "                        train_accuracies.append(train_accuracy)\n",
    "\n",
    "                        if val_accuracy > best_accuracy_score:\n",
    "                            print(f\"Best parameters so far: {N_final}, {m}, {max_depth}, {min_samples_leaf}, {min_samples_split}, with accuracy: {val_accuracy}\")\n",
    "                            best_parameters = {\n",
    "                                \"N_final\": N_final,\n",
    "                                \"m\": m,\n",
    "                                \"max_depth\": max_depth,\n",
    "                                \"min_samples_leaf\": min_samples_leaf,\n",
    "                                \"min_samples_split\": min_samples_split\n",
    "                            }\n",
    "                            best_model = model\n",
    "                            best_accuracy_score = val_accuracy\n",
    "                        candidates -= 1\n",
    "                        print(f\"Remaining candidates: {candidates}/{total_candidates}\")\n",
    "    print(f\"The best performing model with an accuracy score: {best_accuracy_score}, had these parameters:\")\n",
    "    print(f\"N_final: {best_parameters[\"N_final\"]}\\nm: {best_parameters[\"m\"]}\\nmax_depth: {best_parameters[\"max_depth\"]}\\nmin_samples_leaf: {best_parameters[\"min_samples_leaf\"]}\\nmin_samples_split: {best_parameters[\"min_samples_split\"]}\")\n",
    "    return best_model, best_parameters, best_accuracy_score"
   ]
  },
  {
   "cell_type": "code",
   "execution_count": 6843,
   "metadata": {},
   "outputs": [
    {
     "name": "stdout",
     "output_type": "stream",
     "text": [
      "The amount of total candidates:  5\n",
      "Testing the parameters: 150, 0.15, 9, 4, 2.\n",
      "Best parameters so far: 150, 0.15, 9, 4, 2, with accuracy: 0.9347903340440654\n",
      "Remaining candidates: 4/5\n",
      "Testing the parameters: 200, 0.15, 9, 4, 2.\n",
      "Best parameters so far: 200, 0.15, 9, 4, 2, with accuracy: 0.9349324804548685\n",
      "Remaining candidates: 3/5\n",
      "Testing the parameters: 250, 0.15, 9, 4, 2.\n",
      "Best parameters so far: 250, 0.15, 9, 4, 2, with accuracy: 0.9351101634683724\n",
      "Remaining candidates: 2/5\n",
      "Testing the parameters: 300, 0.15, 9, 4, 2.\n",
      "Remaining candidates: 1/5\n",
      "Testing the parameters: 350, 0.15, 9, 4, 2.\n",
      "Best parameters so far: 350, 0.15, 9, 4, 2, with accuracy: 0.9351457000710732\n",
      "Remaining candidates: 0/5\n",
      "The best performing model with an accuracy score: 0.9351457000710732, had these parameters:\n",
      "N_final: 350\n",
      "m: 0.15\n",
      "max_depth: 9\n",
      "min_samples_leaf: 4\n",
      "min_samples_split: 2\n"
     ]
    }
   ],
   "source": [
    "tuned_model, the_best_parameters, the_best_accuracy_score = hypertuned_model(parameters)"
   ]
  },
  {
   "cell_type": "code",
   "execution_count": 6844,
   "metadata": {},
   "outputs": [
    {
     "data": {
      "image/png": "[encoded data removed]",
      "text/plain": [
       "<Figure size 1000x600 with 1 Axes>"
      ]
     },
     "metadata": {},
     "output_type": "display_data"
    }
   ],
   "source": [
    "plt.figure(figsize=(10, 6))\n",
    "plt.plot(n_estimators, train_accuracies, label='Train Accuracy', marker='o')\n",
    "plt.plot(n_estimators, val_accuracies, label='Val Accuracy', marker='s')\n",
    "\n",
    "plt.xlabel('Number of Estimators (n_estimators)')\n",
    "plt.ylabel('Accuracy')\n",
    "plt.title('Model Performance vs Number of Estimators')\n",
    "plt.legend()\n",
    "plt.grid(True)\n",
    "plt.show()"
   ]
  },
  {
   "cell_type": "markdown",
   "metadata": {},
   "source": [
    "## Test the tuned model on validation data"
   ]
  },
  {
   "cell_type": "code",
   "execution_count": 6845,
   "metadata": {},
   "outputs": [
    {
     "data": {
      "text/plain": [
       "0.9351457000710732"
      ]
     },
     "execution_count": 6845,
     "metadata": {},
     "output_type": "execute_result"
    }
   ],
   "source": [
    "test_model(tuned_model, test_data, X_val, y_val, \"val\")"
   ]
  },
  {
   "cell_type": "markdown",
   "metadata": {},
   "source": [
    "# Test the tuned model on the test data"
   ]
  },
  {
   "cell_type": "code",
   "execution_count": 6846,
   "metadata": {},
   "outputs": [],
   "source": [
    "# test_model(tuned_model, test_data, X_val, y_val, \"test\")"
   ]
  },
  {
   "cell_type": "code",
   "execution_count": null,
   "metadata": {},
   "outputs": [
    {
     "name": "stdout",
     "output_type": "stream",
     "text": [
      "7\n",
      "12\n",
      "17\n",
      "22\n",
      "27\n",
      "32\n",
      "37\n",
      "42\n",
      "47\n",
      "9\n",
      "9\n"
     ]
    },
    {
     "data": {
      "image/png": "[encoded data removed]",
      "text/plain": [
       "<Figure size 1000x600 with 1 Axes>"
      ]
     },
     "metadata": {},
     "output_type": "display_data"
    }
   ],
   "source": [
    "trymodel = ImprovedRandomForest(50, 0.3, 12, 2, 2)\n",
    "\n",
    "forest_trees = list(trymodel.get_trees())\n",
    "\n",
    "estimators = [7, 12, 17, 22, 27, 32, 37, 42, 47]\n",
    "train_a = []\n",
    "val_a = []\n",
    "\n",
    "for e in estimators:\n",
    "    print(e)\n",
    "    predictions = np.array([tree.predict(X_val) for tree in forest_trees[:e]])\n",
    "    majority_vote, _ = mode(predictions, axis=0, keepdims=True)\n",
    "    the_vote = majority_vote.flatten()\n",
    "    val_a.append(accuracy_score(the_vote, y_val))\n",
    "\n",
    "\n",
    "plt.figure(figsize=(10, 6))\n",
    "# plt.plot(n_estimators, train_accuracies, label='Train Accuracy', marker='o')\n",
    "plt.plot(estimators, val_a, label='Val Accuracy', marker='o')\n",
    "\n",
    "plt.xlabel('Number of Estimators (n_estimators)')\n",
    "plt.ylabel('Accuracy')\n",
    "plt.title('Model Performance vs Number of Estimators')\n",
    "plt.legend()\n",
    "plt.grid(True)\n",
    "plt.show()\n",
    "\n"
   ]
  },
  {
   "cell_type": "code",
   "execution_count": 6864,
   "metadata": {},
   "outputs": [
    {
     "name": "stdout",
     "output_type": "stream",
     "text": [
      "50\n",
      "75\n",
      "100\n",
      "125\n",
      "150\n",
      "175\n",
      "190\n"
     ]
    },
    {
     "data": {
      "image/png": "[encoded data removed]",
      "text/plain": [
       "<Figure size 1000x600 with 1 Axes>"
      ]
     },
     "metadata": {},
     "output_type": "display_data"
    }
   ],
   "source": [
    "trymodel = ImprovedRandomForest(200, 0.5, 14, 2, 2)\n",
    "\n",
    "forest_trees = list(trymodel.get_trees())\n",
    "\n",
    "estimators = [50, 75, 100, 125, 150, 175, 190]\n",
    "train_a = []\n",
    "val_a = []\n",
    "\n",
    "for e in estimators:\n",
    "    print(e)\n",
    "    predictions = np.array([tree.predict(X_val) for tree in forest_trees[:e]])\n",
    "    majority_vote, _ = mode(predictions, axis=0, keepdims=True)\n",
    "    the_vote = majority_vote.flatten()\n",
    "    val_a.append(accuracy_score(the_vote, y_val))\n",
    "\n",
    "\n",
    "plt.figure(figsize=(10, 6))\n",
    "# plt.plot(n_estimators, train_accuracies, label='Train Accuracy', marker='o')\n",
    "plt.plot(estimators, val_a, label='Val Accuracy', marker='o')\n",
    "\n",
    "plt.xlabel('Number of Estimators (n_estimators)')\n",
    "plt.ylabel('Accuracy')\n",
    "plt.title('Model Performance vs Number of Estimators')\n",
    "plt.legend()\n",
    "plt.grid(True)\n",
    "plt.show()"
   ]
  }
 ],
 "metadata": {
  "kernelspec": {
   "display_name": "INF367A",
   "language": "python",
   "name": "python3"
  },
  "language_info": {
   "codemirror_mode": {
    "name": "ipython",
    "version": 3
   },
   "file_extension": ".py",
   "mimetype": "text/x-python",
   "name": "python",
   "nbconvert_exporter": "python",
   "pygments_lexer": "ipython3",
   "version": "3.12.8"
  }
 },
 "nbformat": 4,
 "nbformat_minor": 2
}
