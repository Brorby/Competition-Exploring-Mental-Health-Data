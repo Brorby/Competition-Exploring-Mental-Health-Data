{
 "cells": [
  {
   "cell_type": "code",
   "execution_count": 1,
   "metadata": {},
   "outputs": [],
   "source": [
    "import torch.nn as nn\n",
    "import pandas as pd\n",
    "import torch.nn.functional as F\n",
    "import pandas as pd\n",
    "import matplotlib.pyplot as plt\n",
    "from sklearn.ensemble import RandomForestClassifier\n",
    "from sklearn.model_selection import GridSearchCV, StratifiedKFold\n",
    "from sklearn.metrics import accuracy_score\n",
    "from sklearn.preprocessing import StandardScaler, MinMaxScaler\n",
    "from sklearn.model_selection import train_test_split\n",
    "from sklearn.metrics import accuracy_score\n",
    "from torch.utils.data import DataLoader, TensorDataset\n",
    "\n",
    "import sys, os\n",
    "\n",
    "import dynamic_selection as ds\n",
    "\n",
    "from dynamic_selection import MaskingPretrainer, GreedyDynamicSelection\n",
    "from torch.distributions import Distribution\n",
    "Distribution.set_default_validate_args(False)"
   ]
  },
  {
   "cell_type": "code",
   "execution_count": 2,
   "metadata": {},
   "outputs": [],
   "source": [
    "import random\n",
    "import numpy as np\n",
    "import torch\n",
    "import os\n",
    "\n",
    "seed = 42\n",
    "\n",
    "# Python\n",
    "random.seed(seed)\n",
    "os.environ['PYTHONHASHSEED'] = str(seed)\n",
    "\n",
    "# NumPy\n",
    "np.random.seed(seed)\n",
    "\n",
    "# PyTorch\n",
    "torch.manual_seed(seed)\n",
    "if torch.cuda.is_available():\n",
    "    torch.cuda.manual_seed_all(seed)\n",
    "    \n",
    "# For deterministic behavior on GPU (may slow training)\n",
    "torch.backends.cudnn.deterministic = True\n",
    "torch.backends.cudnn.benchmark = False\n"
   ]
  },
  {
   "cell_type": "markdown",
   "metadata": {},
   "source": [
    "# Data exploration\n",
    "\n",
    "Here we explore each feature column and comment on how we are going to preprocess each one and what we might consider doing in the future. We have a total of 140700 samples. The last feature is the label depression which we will train on.\n",
    "\n",
    "## Loading the dataset"
   ]
  },
  {
   "cell_type": "code",
   "execution_count": 3,
   "metadata": {},
   "outputs": [
    {
     "name": "stdout",
     "output_type": "stream",
     "text": [
      "Samples in training set 140700\n",
      "Samples in test set: 93800\n"
     ]
    }
   ],
   "source": [
    "# Load the datasets\n",
    "data_file = 'data/train.csv'\n",
    "test_file = 'data/test.csv'\n",
    "\n",
    "data = pd.read_csv(data_file)\n",
    "test = pd.read_csv(test_file)\n",
    "\n",
    "print(f\"Samples in training set {data.shape[0]}\")\n",
    "print(f\"Samples in test set: {test.shape[0]}\")"
   ]
  },
  {
   "cell_type": "markdown",
   "metadata": {},
   "source": [
    "# id Column"
   ]
  },
  {
   "cell_type": "code",
   "execution_count": 4,
   "metadata": {},
   "outputs": [
    {
     "name": "stdout",
     "output_type": "stream",
     "text": [
      "Examples of 'id' column:\n",
      "0    0\n",
      "1    1\n",
      "2    2\n",
      "3    3\n",
      "4    4\n",
      "Name: id, dtype: int64\n",
      "\n",
      "We have  140700  amount of samples\n"
     ]
    }
   ],
   "source": [
    "# Print examples of the 'id' column\n",
    "print(\"Examples of 'id' column:\")\n",
    "print(data[\"id\"].head())\n",
    "\n",
    "print(\"\")\n",
    "\n",
    "print(\"We have \" ,data[\"id\"].count(),\" amount of samples\")"
   ]
  },
  {
   "cell_type": "markdown",
   "metadata": {},
   "source": [
    "We will drop the id column since there is no correlation between this and the label."
   ]
  },
  {
   "cell_type": "markdown",
   "metadata": {},
   "source": [
    "## Name column"
   ]
  },
  {
   "cell_type": "code",
   "execution_count": 5,
   "metadata": {},
   "outputs": [
    {
     "name": "stdout",
     "output_type": "stream",
     "text": [
      "Unique names sorted by count (most to least):\n",
      "Rohan: 3178\n",
      "Aarav: 2336\n",
      "Rupak: 2176\n",
      "Aaradhya: 2045\n",
      "Anvi: 2035\n",
      "Raghavendra: 1877\n",
      "Vani: 1657\n",
      "Tushar: 1596\n",
      "Ritvik: 1589\n",
      "Shiv: 1568\n",
      "Riya: 1548\n",
      "Rashi: 1547\n",
      "Raunak: 1524\n",
      "Anand: 1486\n",
      "Ishaani: 1477\n",
      "Ansh: 1423\n",
      "Vidya: 1408\n",
      "Ritika: 1313\n",
      "Anushka: 1279\n",
      "Sanya: 1272\n",
      "Aarush: 1266\n",
      "Aariv: 1254\n",
      "Abhishek: 1252\n",
      "Rupal: 1234\n",
      "Harsha: 1230\n",
      "Harsh: 1156\n",
      "Vikram: 1154\n",
      "Shivam: 1146\n",
      "Raghav: 1120\n",
      "Armaan: 1116\n",
      "Prachi: 1104\n",
      "Ayaan: 1090\n",
      "Ivaan: 1090\n",
      "Siddhesh: 1090\n",
      "Ira: 1061\n",
      "Prisha: 1055\n",
      "Rahil: 1051\n",
      "Rishi: 1040\n",
      "Ritik: 1033\n",
      "Aniket: 1023\n",
      "Pratham: 1023\n",
      "Chhavi: 1003\n",
      "Vibha: 974\n",
      "Vivan: 963\n",
      "Aishwarya: 962\n",
      "Gauri: 959\n",
      "Nikita: 951\n",
      "Naina: 946\n",
      "Veda: 940\n",
      "Arav: 925\n",
      "Vidhi: 913\n",
      "Jiya: 912\n",
      "Advait: 910\n",
      "Krishna: 875\n",
      "Vedant: 872\n",
      "Ayush: 869\n",
      "Aditi: 851\n",
      "Shaurya: 848\n",
      "Kashish: 845\n",
      "Gagan: 842\n",
      "Eshita: 831\n",
      "Pratyush: 816\n",
      "Ila: 799\n",
      "Simran: 790\n",
      "Aadhya: 787\n",
      "Shreya: 784\n",
      "Rudransh: 776\n",
      "Garima: 769\n",
      "Yashvi: 767\n",
      "Anjali: 757\n",
      "Vihaan: 744\n",
      "Keshav: 737\n",
      "Yuvraj: 730\n",
      "Ishan: 714\n",
      "Tanisha: 713\n",
      "Harshil: 712\n",
      "Sanket: 710\n",
      "Rajat: 706\n",
      "Kunal: 700\n",
      "Nikhil: 690\n",
      "Kiran: 687\n",
      "Aanchal: 684\n",
      "Zara: 681\n",
      "Shlok: 672\n",
      "Nandini: 663\n",
      "Pranav: 655\n",
      "Mahika: 652\n",
      "Kavya: 643\n",
      "Jhanvi: 635\n",
      "Satyam: 632\n",
      "Esha: 632\n",
      "Reyansh: 627\n",
      "Shrey: 626\n",
      "Janvi: 611\n",
      "Anaya: 610\n",
      "Anirudh: 606\n",
      "Arnav: 595\n",
      "Aahana: 593\n",
      "Aarti: 586\n",
      "Pallavi: 586\n",
      "Amit: 583\n",
      "Ishwar: 574\n",
      "Utkarsh: 547\n",
      "Siddharth: 539\n",
      "Saanvi: 537\n",
      "Asha: 534\n",
      "Darsh: 526\n",
      "Abhinav: 524\n",
      "Anika: 520\n",
      "Parth: 518\n",
      "Aditya: 512\n",
      "Aarohi: 504\n",
      "Tanya: 501\n",
      "Nishant: 501\n",
      "Rhea: 499\n",
      "Samar: 498\n",
      "Chirag: 493\n",
      "Kriti: 490\n",
      "Manvi: 486\n",
      "Divya: 481\n",
      "Kabir: 481\n",
      "Kian: 481\n",
      "Pooja: 481\n",
      "Hrithik: 475\n",
      "Shruti: 467\n",
      "Ayansh: 461\n",
      "Mahi: 461\n",
      "Trisha: 458\n",
      "Kartikeya: 456\n",
      "Atharv: 438\n",
      "Mihir: 433\n",
      "Monika: 433\n",
      "Shivansh: 419\n",
      "Tanmay: 418\n",
      "Arjun: 403\n",
      "Diya: 391\n",
      "Yash: 389\n",
      "Charvi: 387\n",
      "Sanjeev: 387\n",
      "Vrinda: 383\n",
      "Sai: 382\n",
      "Aryan: 379\n",
      "Manan: 378\n",
      "Ishita: 377\n",
      "Damini: 374\n",
      "Virat: 374\n",
      "Bhavesh: 362\n",
      "Khushi: 356\n",
      "Ishaan: 355\n",
      "Nalini: 353\n",
      "Jai: 343\n",
      "Neha: 342\n",
      "Palak: 339\n",
      "Yogesh: 338\n",
      "Gaurav: 336\n",
      "Deepak: 335\n",
      "Dhruv: 334\n",
      "Tara: 331\n",
      "Vivaan: 329\n",
      "Pari: 319\n",
      "Lavanya: 315\n",
      "Aakash: 313\n",
      "Navya: 311\n",
      "Leela: 310\n",
      "Siddhi: 310\n",
      "Soham: 306\n",
      "Tanvi: 300\n",
      "Kartik: 296\n",
      "Arya: 289\n",
      "Tina: 285\n",
      "Vanya: 280\n",
      "Kush: 274\n",
      "Isha: 266\n",
      "Nisha: 264\n",
      "Samaira: 263\n",
      "Suhani: 261\n",
      "Saurav: 258\n",
      "Apoorva: 252\n",
      "Yamini: 250\n",
      "Aarya: 247\n",
      "Neil: 244\n",
      "Karishma: 240\n",
      "Lata: 237\n",
      "Zoya: 232\n",
      "Nirvaan: 231\n",
      "Rudra: 220\n",
      "Vaishnavi: 217\n",
      "Om: 216\n",
      "Mayank: 215\n",
      "Dev: 210\n",
      "Vaanya: 209\n",
      "Nakul: 206\n",
      "Rajveer: 199\n",
      "Himani: 196\n",
      "Barkha: 190\n",
      "Tejas: 185\n",
      "Sneha: 180\n",
      "Bhavna: 167\n",
      "Ranveer: 162\n",
      "Rupa: 151\n",
      "Srishti: 150\n",
      "Kiara: 138\n",
      "Kanika: 138\n",
      "Mira: 137\n",
      "Mithila: 132\n",
      "Radhika: 122\n",
      "Sara: 108\n",
      "Pihu: 104\n",
      "Varun: 97\n",
      "Jasmine: 94\n",
      "Lakshay: 80\n",
      "Avni: 71\n",
      "Shanaya: 65\n",
      "Mukund: 57\n",
      "Meera: 51\n",
      "Harini: 47\n",
      "Kalyan: 21\n",
      "Kolkata: 3\n",
      "Aarash: 3\n",
      "Tarsh: 3\n",
      "Rupar: 3\n",
      "Siddh: 2\n",
      "Shivar: 2\n",
      "Aarvi: 2\n",
      "Aisha: 2\n",
      "Rani: 2\n",
      "Aanya: 2\n",
      "Jhaan: 2\n",
      "Patna: 2\n",
      "Aan: 2\n",
      "Pradhya: 2\n",
      "Thane: 2\n",
      "Kartika: 2\n",
      "Rupadhya: 2\n",
      "Aam: 2\n",
      "Hra: 2\n",
      "Shivvi: 2\n",
      "Nanya: 2\n",
      "Prishti: 2\n",
      "Vashi: 2\n",
      "Aniv: 2\n",
      "Shivan: 2\n",
      "Shivna: 2\n",
      "Anya: 2\n",
      "Niki: 1\n",
      "Shivsh: 1\n",
      "Ishaesh: 1\n",
      "Prishi: 1\n",
      "Rohik: 1\n",
      "Nya: 1\n",
      "Harshav: 1\n",
      "Ewesh: 1\n",
      "Aanket: 1\n",
      "Tohar: 1\n",
      "Ryouvik: 1\n",
      "Niya: 1\n",
      "Anjun: 1\n",
      "Rupat: 1\n",
      "Anahk: 1\n",
      "Kanisha: 1\n",
      "Anisha: 1\n",
      "Harshaun: 1\n",
      "Abishma: 1\n",
      "Mahak: 1\n",
      "Parvik: 1\n",
      "Vlaan: 1\n",
      "Krav: 1\n",
      "A.Ed: 1\n",
      "Ayhan: 1\n",
      "Prvi: 1\n",
      "Parvi: 1\n",
      "Rudegrav: 1\n",
      "Kupa: 1\n",
      "Aarsh: 1\n",
      "Rupil: 1\n",
      "Ani: 1\n",
      "Aieter: 1\n",
      "Nishita: 1\n",
      "Irit: 1\n",
      "Aarani: 1\n",
      "Anariv: 1\n",
      "Ritak: 1\n",
      "Kashi: 1\n",
      "Kike: 1\n",
      "Shivvaan: 1\n",
      "Aarla: 1\n",
      "Nishi: 1\n",
      "Aarand: 1\n",
      "Adiya: 1\n",
      "Shivak: 1\n",
      "Golkut: 1\n",
      "Kartal: 1\n",
      "Krey: 1\n",
      "Prarav: 1\n",
      "Aiya: 1\n",
      "Anil: 1\n",
      "Ayash: 1\n",
      "Vivani: 1\n",
      "R.Com: 1\n",
      "Anohi: 1\n",
      "Rietal: 1\n",
      "18: 1\n",
      "Aavya: 1\n",
      "Ronnie: 1\n",
      "Viv: 1\n",
      "Anarush: 1\n",
      "BE: 1\n",
      "Raghavvi: 1\n",
      "Rajankot: 1\n",
      "Taurav: 1\n",
      "K. Kavya: 1\n",
      "Rai: 1\n",
      "Ayut: 1\n",
      "Pariv: 1\n",
      "Gavrachi: 1\n",
      "Hreya: 1\n",
      "Shivivaam: 1\n",
      "M.Com: 1\n",
      "Noreen: 1\n",
      "Haurav: 1\n",
      "Rivaan: 1\n",
      "Anakash: 1\n",
      "Jush: 1\n",
      "Randik: 1\n",
      "Adachi: 1\n",
      "Tinmay: 1\n",
      "Vohi: 1\n",
      "Aarat: 1\n",
      "Aariket: 1\n",
      "Aohi: 1\n",
      "Anish: 1\n",
      "Zahra: 1\n",
      "Rieta: 1\n",
      "Vavya: 1\n",
      "Jhav: 1\n",
      "Jathesh: 1\n",
      "Anh: 1\n",
      "Vidvi: 1\n",
      "Mahir: 1\n",
      "Raghavik: 1\n",
      "Ishaam: 1\n",
      "Anhil: 1\n",
      "Prishant: 1\n",
      "Sansh: 1\n",
      "Researcher: 1\n",
      "Eirini: 1\n",
      "Shaina: 1\n",
      "Aani: 1\n",
      "Plumber: 1\n",
      "Tanak: 1\n",
      "Manik: 1\n",
      "Nanchal: 1\n",
      "Ayoub: 1\n",
      "Siddir: 1\n",
      "Nikya: 1\n",
      "Arnar: 1\n",
      "Vakash: 1\n",
      "Rhesh: 1\n",
      "Kani: 1\n",
      "Vidra: 1\n",
      "Aarsush: 1\n",
      "Zegmay: 1\n",
      "Airav: 1\n",
      "Naly: 1\n",
      "Chrinda: 1\n",
      "Ishma: 1\n",
      "Vita: 1\n",
      "Prandini: 1\n",
      "Mahav: 1\n",
      "Nhanini: 1\n",
      "Anupal: 1\n",
      "Tani: 1\n",
      "Jaish: 1\n",
      "Rajya: 1\n",
      "Arsha: 1\n",
      "Eikram: 1\n",
      "Manr: 1\n",
      "Harshir: 1\n",
      "Shivwar: 1\n",
      "Abarav: 1\n",
      "Ayya: 1\n",
      "Shivlok: 1\n",
      "Rupai: 1\n",
      "Rudrithik: 1\n",
      "K.Pharm: 1\n",
      "Varanasi: 1\n",
      "UX/UI Designer: 1\n",
      "Ariti: 1\n",
      "Harshand: 1\n",
      "Ranchal: 1\n",
      "Arvik: 1\n",
      "Manjun: 1\n",
      "Ijra: 1\n",
      "Rupika: 1\n",
      "Parha: 1\n",
      "Vidha: 1\n",
      "Prayat: 1\n",
      "Aaransh: 1\n",
      "Yurav: 1\n",
      "Srinagar: 1\n",
      "Aaranya: 1\n",
      "Anishi: 1\n",
      "Aikash: 1\n",
      "Nhanvi: 1\n",
      "Jiram: 1\n",
      "Anar: 1\n",
      "Rudrey: 1\n",
      "Shashi: 1\n",
      "Eisha: 1\n",
      "Vhaani: 1\n",
      "Prilak: 1\n",
      "Ishaansh: 1\n",
      "Virar: 1\n",
      "Sharth: 1\n",
      "M.Tech: 1\n",
      "Shir: 1\n",
      "Rietvik: 1\n",
      "Vasai-Virar: 1\n",
      "Ishlok: 1\n",
      "Vika: 1\n",
      "Rika: 1\n",
      "Aarun: 1\n",
      "Total unique names: 422\n"
     ]
    }
   ],
   "source": [
    "# Count occurrences of each unique name\n",
    "name_counts = data[\"Name\"].value_counts()\n",
    "\n",
    "# Print results\n",
    "print(\"Unique names sorted by count (most to least):\")\n",
    "for name, count in name_counts.items():\n",
    "    print(f\"{name}: {count}\")\n",
    "\n",
    "print(f\"Total unique names: {len(name_counts)}\")\n"
   ]
  },
  {
   "cell_type": "markdown",
   "metadata": {},
   "source": [
    "We thought about dropping the name column since we thought that this may not have any correlation to the label. But we realised that there might be a correlation, so we decided to keep it. The correlation being that for example having a \"unattractive\" name can affect your life in a bad way. \n",
    "\n",
    "\n",
    "For pre-processing this we will to give a value of how unique it is in the dataset, so for now we change the name with how frequent it is.\n",
    "\n",
    "\n",
    "Things to consider:\n",
    "\n",
    "Find a way to \"rate\" each name instead of how frequent the name is. Impute or change wrong names to missing name."
   ]
  },
  {
   "cell_type": "markdown",
   "metadata": {},
   "source": [
    "## Gender"
   ]
  },
  {
   "cell_type": "code",
   "execution_count": 6,
   "metadata": {},
   "outputs": [
    {
     "name": "stdout",
     "output_type": "stream",
     "text": [
      "Examples of 'Name' column:\n",
      "0    Female\n",
      "1      Male\n",
      "2      Male\n",
      "3      Male\n",
      "4    Female\n",
      "Name: Gender, dtype: object\n",
      "\n",
      "Number of unique genders: 2\n"
     ]
    }
   ],
   "source": [
    "# Print examples of the 'Name' column\n",
    "print(\"Examples of 'Name' column:\")\n",
    "print(data[\"Gender\"].head())\n",
    "\n",
    "print(\"\")\n",
    "\n",
    "print(\"Number of unique genders:\", data[\"Gender\"].nunique())"
   ]
  },
  {
   "cell_type": "markdown",
   "metadata": {},
   "source": [
    "We will just encode male to 1 and female to 0."
   ]
  },
  {
   "cell_type": "markdown",
   "metadata": {},
   "source": [
    "## Age"
   ]
  },
  {
   "cell_type": "code",
   "execution_count": 7,
   "metadata": {},
   "outputs": [
    {
     "name": "stdout",
     "output_type": "stream",
     "text": [
      "Examples of 'Age' column:\n",
      "0    49.0\n",
      "1    26.0\n",
      "2    33.0\n",
      "3    22.0\n",
      "4    30.0\n",
      "Name: Age, dtype: float64\n",
      "\n",
      "Number of unique ages: 43\n"
     ]
    }
   ],
   "source": [
    "print(\"Examples of 'Age' column:\")\n",
    "print(data[\"Age\"].head())\n",
    "\n",
    "print(\"\")\n",
    "\n",
    "print(\"Number of unique ages:\", data[\"Age\"].nunique())"
   ]
  },
  {
   "cell_type": "markdown",
   "metadata": {},
   "source": [
    "We will only change the number from float to integer."
   ]
  },
  {
   "cell_type": "markdown",
   "metadata": {},
   "source": [
    "## City"
   ]
  },
  {
   "cell_type": "code",
   "execution_count": 8,
   "metadata": {},
   "outputs": [
    {
     "name": "stdout",
     "output_type": "stream",
     "text": [
      "Examples of 'City' column:\n",
      "0         Ludhiana\n",
      "1         Varanasi\n",
      "2    Visakhapatnam\n",
      "3           Mumbai\n",
      "4           Kanpur\n",
      "Name: City, dtype: object\n",
      "\n",
      "Number of unique cities: 43\n"
     ]
    }
   ],
   "source": [
    "print(\"Examples of 'City' column:\")\n",
    "print(data[\"City\"].head())\n",
    "\n",
    "print(\"\")\n",
    "\n",
    "print(\"Number of unique cities:\", data[\"Age\"].nunique())"
   ]
  },
  {
   "cell_type": "code",
   "execution_count": 9,
   "metadata": {},
   "outputs": [
    {
     "name": "stdout",
     "output_type": "stream",
     "text": [
      "Unique cities sorted by count (most to least):\n",
      "Kalyan: First Index = 36, Count = 6591\n",
      "Patna: First Index = 9, Count = 5924\n",
      "Vasai-Virar: First Index = 49, Count = 5765\n",
      "Kolkata: First Index = 28, Count = 5689\n",
      "Ahmedabad: First Index = 5, Count = 5613\n",
      "Meerut: First Index = 17, Count = 5528\n",
      "Ludhiana: First Index = 0, Count = 5226\n",
      "Pune: First Index = 13, Count = 5210\n",
      "Rajkot: First Index = 10, Count = 5207\n",
      "Visakhapatnam: First Index = 2, Count = 5176\n",
      "Srinagar: First Index = 26, Count = 5074\n",
      "Mumbai: First Index = 3, Count = 4966\n",
      "Indore: First Index = 189, Count = 4872\n",
      "Agra: First Index = 18, Count = 4684\n",
      "Surat: First Index = 20, Count = 4636\n",
      "Varanasi: First Index = 1, Count = 4606\n",
      "Vadodara: First Index = 43, Count = 4568\n",
      "Hyderabad: First Index = 23, Count = 4496\n",
      "Kanpur: First Index = 4, Count = 4398\n",
      "Jaipur: First Index = 12, Count = 4328\n",
      "Thane: First Index = 6, Count = 4289\n",
      "Lucknow: First Index = 16, Count = 4280\n",
      "Nagpur: First Index = 37, Count = 4209\n",
      "Bangalore: First Index = 8, Count = 4123\n",
      "Chennai: First Index = 34, Count = 4044\n",
      "Ghaziabad: First Index = 27, Count = 3620\n",
      "Delhi: First Index = 76, Count = 3593\n",
      "Bhopal: First Index = 141, Count = 3475\n",
      "Faridabad: First Index = 21, Count = 3268\n",
      "Nashik: First Index = 7, Count = 3144\n",
      "Mihir: First Index = 44166, Count = 7\n",
      "Nandini: First Index = 32706, Count = 4\n",
      "Harsha: First Index = 15181, Count = 3\n",
      "Saanvi: First Index = 22293, Count = 3\n",
      "Mahi: First Index = 76335, Count = 3\n",
      "Vidya: First Index = 52500, Count = 3\n",
      "Pratyush: First Index = 34247, Count = 3\n",
      "Bhavna: First Index = 28862, Count = 3\n",
      "City: First Index = 34300, Count = 3\n",
      "M.Com: First Index = 33276, Count = 2\n",
      "Nalini: First Index = 17337, Count = 2\n",
      "Ayush: First Index = 2123, Count = 2\n",
      "Atharv: First Index = 33447, Count = 2\n",
      "MCA: First Index = 38232, Count = 2\n",
      "Molkata: First Index = 100610, Count = 2\n",
      "Keshav: First Index = 12371, Count = 2\n",
      "Gurgaon: First Index = 3554, Count = 1\n",
      "Vidhi: First Index = 1190, Count = 1\n",
      "Ishanabad: First Index = 762, Count = 1\n",
      "Raghavendra: First Index = 22215, Count = 1\n",
      "Plata: First Index = 33408, Count = 1\n",
      "Less Delhi: First Index = 30231, Count = 1\n",
      "M.Tech: First Index = 28672, Count = 1\n",
      "Aishwarya: First Index = 8772, Count = 1\n",
      "Krishna: First Index = 3753, Count = 1\n",
      "Mira: First Index = 38817, Count = 1\n",
      "Less than 5 Kalyan: First Index = 36993, Count = 1\n",
      "3.0: First Index = 35309, Count = 1\n",
      "Morena: First Index = 42134, Count = 1\n",
      "Moreadhyay: First Index = 39217, Count = 1\n",
      "Kashk: First Index = 43050, Count = 1\n",
      "Ishkarsh: First Index = 42470, Count = 1\n",
      "Tolkata: First Index = 53366, Count = 1\n",
      "Anvi: First Index = 55970, Count = 1\n",
      "Aditya: First Index = 18496, Count = 1\n",
      "Malyansh: First Index = 20886, Count = 1\n",
      "Ayansh: First Index = 58776, Count = 1\n",
      "Krinda: First Index = 57185, Count = 1\n",
      "Vaanya: First Index = 63830, Count = 1\n",
      "Shrey: First Index = 60210, Count = 1\n",
      "Harsh: First Index = 68667, Count = 1\n",
      "Reyansh: First Index = 70407, Count = 1\n",
      "Kashish: First Index = 71995, Count = 1\n",
      "Ivaan: First Index = 61687, Count = 1\n",
      "Kibara: First Index = 73510, Count = 1\n",
      "Vaishnavi: First Index = 73571, Count = 1\n",
      "Chhavi: First Index = 74881, Count = 1\n",
      "Parth: First Index = 75591, Count = 1\n",
      "Tushar: First Index = 77791, Count = 1\n",
      "MSc: First Index = 82304, Count = 1\n",
      "No: First Index = 82472, Count = 1\n",
      "Gaurav: First Index = 65042, Count = 1\n",
      "Rashi: First Index = 86723, Count = 1\n",
      "ME: First Index = 93066, Count = 1\n",
      "Researcher: First Index = 105684, Count = 1\n",
      "Kagan: First Index = 106809, Count = 1\n",
      "Armaan: First Index = 109183, Count = 1\n",
      "Ithal: First Index = 112975, Count = 1\n",
      "Nalyan: First Index = 115761, Count = 1\n",
      "Dhruv: First Index = 116546, Count = 1\n",
      "Galesabad: First Index = 117760, Count = 1\n",
      "Itheg: First Index = 121908, Count = 1\n",
      "Aaradhya: First Index = 123642, Count = 1\n",
      "Pooja: First Index = 124395, Count = 1\n",
      "Khushi: First Index = 125289, Count = 1\n",
      "Khaziabad: First Index = 126752, Count = 1\n",
      "Jhanvi: First Index = 136563, Count = 1\n",
      "Unirar: First Index = 138190, Count = 1\n",
      "Total unique cities: 98\n"
     ]
    },
    {
     "name": "stderr",
     "output_type": "stream",
     "text": [
      "C:\\Users\\elias\\AppData\\Local\\Temp\\ipykernel_38924\\1198885951.py:5: DeprecationWarning: DataFrameGroupBy.apply operated on the grouping columns. This behavior is deprecated, and in a future version of pandas the grouping columns will be excluded from the operation. Either pass `include_groups=False` to exclude the groupings or explicitly select the grouping columns after groupby to silence this warning.\n",
      "  first_occurrence = data.groupby(\"City\").apply(lambda x: x.index[0])\n"
     ]
    }
   ],
   "source": [
    "# Count occurrences of each unique city\n",
    "city_counts = data[\"City\"].value_counts()\n",
    "\n",
    "# Find first occurrence index for each unique city\n",
    "first_occurrence = data.groupby(\"City\").apply(lambda x: x.index[0])\n",
    "\n",
    "# Sort cities by count in descending order\n",
    "sorted_cities = city_counts.index  # Cities sorted by count (default sorting from most to least)\n",
    "\n",
    "count = 0\n",
    "# Print results\n",
    "print(\"Unique cities sorted by count (most to least):\")\n",
    "for city in sorted_cities:\n",
    "    if city_counts[city] > 0:\n",
    "        count += 1\n",
    "        print(f\"{city}: First Index = {first_occurrence[city]}, Count = {city_counts[city]}\")\n",
    "\n",
    "print(f\"Total unique cities: {count}\")\n"
   ]
  },
  {
   "cell_type": "markdown",
   "metadata": {},
   "source": [
    "We found population, density, literacy and sex ratio for each major city in our dataset. We then merged this in our data and removed city column. For the minor cities or the wrongly written cities we took the average of the other columns.\n",
    "\n",
    "\n",
    "To consider:\n",
    "\n",
    "We should consider adjusting the imputing of the minor and wrongly written cities to for example lower than average."
   ]
  },
  {
   "cell_type": "markdown",
   "metadata": {},
   "source": [
    "# Working Professional or Student"
   ]
  },
  {
   "cell_type": "code",
   "execution_count": 10,
   "metadata": {},
   "outputs": [
    {
     "name": "stdout",
     "output_type": "stream",
     "text": [
      "Examples of 'Working Professional or Student' column:\n",
      "0    Working Professional\n",
      "1    Working Professional\n",
      "2                 Student\n",
      "3    Working Professional\n",
      "4    Working Professional\n",
      "Name: Working Professional or Student, dtype: object\n",
      "\n",
      "Number of unique Working Professional or Student: 2\n"
     ]
    }
   ],
   "source": [
    "print(\"Examples of 'Working Professional or Student' column:\")\n",
    "print(data[\"Working Professional or Student\"].head())\n",
    "\n",
    "print(\"\")\n",
    "\n",
    "print(\"Number of unique Working Professional or Student:\", data[\"Working Professional or Student\"].nunique())"
   ]
  },
  {
   "cell_type": "markdown",
   "metadata": {},
   "source": [
    "In this column we will change \"working professional\" to 0 and \"student\" to 1."
   ]
  },
  {
   "cell_type": "markdown",
   "metadata": {},
   "source": [
    "# Profession"
   ]
  },
  {
   "cell_type": "code",
   "execution_count": 11,
   "metadata": {},
   "outputs": [
    {
     "name": "stdout",
     "output_type": "stream",
     "text": [
      "Examples of 'Profession' column:\n",
      "0                Chef\n",
      "1             Teacher\n",
      "2                 NaN\n",
      "3             Teacher\n",
      "4    Business Analyst\n",
      "Name: Profession, dtype: object\n",
      "\n",
      "NaN is student:\n",
      "nan\n",
      "Student\n",
      "\n",
      "Number of unique Profession: 64\n"
     ]
    }
   ],
   "source": [
    "print(\"Examples of 'Profession' column:\")\n",
    "print(data[\"Profession\"].head())\n",
    "print(\"\")\n",
    "print(\"NaN is student:\")\n",
    "print(data[\"Profession\"][2])\n",
    "print(data[\"Working Professional or Student\"][2])\n",
    "\n",
    "print(\"\")\n",
    "\n",
    "print(\"Number of unique Profession:\", data[\"Profession\"].nunique())\n",
    "\n"
   ]
  },
  {
   "cell_type": "markdown",
   "metadata": {},
   "source": [
    "There are occurences of NaN in this column, this happens when the sample is a student. We find it reasonable to insert \"Student\" in those slots. there are also occurences of NaN on samples that are not students, here we will insert \"Missing Profession\""
   ]
  },
  {
   "cell_type": "markdown",
   "metadata": {},
   "source": [
    "# Academic Pressure"
   ]
  },
  {
   "cell_type": "code",
   "execution_count": 12,
   "metadata": {},
   "outputs": [
    {
     "name": "stdout",
     "output_type": "stream",
     "text": [
      "Examples of 'Academic pressure' column:\n",
      "0    NaN\n",
      "1    NaN\n",
      "2    5.0\n",
      "3    NaN\n",
      "4    NaN\n",
      "Name: Academic Pressure, dtype: float64\n",
      "\n",
      "Number of unique Academic pressures: 5\n"
     ]
    }
   ],
   "source": [
    "print(\"Examples of 'Academic pressure' column:\")\n",
    "print(data[\"Academic Pressure\"].head())\n",
    "\n",
    "print(\"\")\n",
    "\n",
    "print(\"Number of unique Academic pressures:\", data[\"Academic Pressure\"].nunique())"
   ]
  },
  {
   "cell_type": "markdown",
   "metadata": {},
   "source": [
    "For the \"Academic Pressure\" column we want to replace NaN with zeros.\n",
    "We are aslo considering merging this feature with work pressure, since they complete eachother. but for now we will have it like this and maybe change it for improving the model later."
   ]
  },
  {
   "cell_type": "markdown",
   "metadata": {},
   "source": [
    "# Work pressure"
   ]
  },
  {
   "cell_type": "code",
   "execution_count": 13,
   "metadata": {},
   "outputs": [
    {
     "name": "stdout",
     "output_type": "stream",
     "text": [
      "Examples of 'Work Pressure' column:\n",
      "0    5.0\n",
      "1    4.0\n",
      "2    NaN\n",
      "3    5.0\n",
      "4    1.0\n",
      "Name: Work Pressure, dtype: float64\n",
      "\n",
      "Number of unique Work Pressure: [ 5.  4. nan  1.  2.  3.]\n"
     ]
    }
   ],
   "source": [
    "print(\"Examples of 'Work Pressure' column:\")\n",
    "print(data[\"Work Pressure\"].head())\n",
    "\n",
    "print(\"\")\n",
    "\n",
    "print(\"Number of unique Work Pressure:\", data[\"Work Pressure\"].unique())"
   ]
  },
  {
   "cell_type": "markdown",
   "metadata": {},
   "source": [
    "We assume that a lower number means less work pressure, therefore We will change Nan to 0 because it is the students that has NaN on Work Pressure"
   ]
  },
  {
   "cell_type": "markdown",
   "metadata": {},
   "source": [
    "# CGPA"
   ]
  },
  {
   "cell_type": "code",
   "execution_count": 14,
   "metadata": {},
   "outputs": [
    {
     "name": "stdout",
     "output_type": "stream",
     "text": [
      "Examples of 'CGPA' column:\n",
      "0     NaN\n",
      "1     NaN\n",
      "2    8.97\n",
      "3     NaN\n",
      "4     NaN\n",
      "Name: CGPA, dtype: float64\n",
      "7.658636192558608\n"
     ]
    }
   ],
   "source": [
    "print(\"Examples of 'CGPA' column:\")\n",
    "print(data[\"CGPA\"].head())\n",
    "print(data[\"CGPA\"].mean())"
   ]
  },
  {
   "cell_type": "markdown",
   "metadata": {},
   "source": [
    "We consider changing the NaN slots to the average of the dataset, which is 7.66"
   ]
  },
  {
   "cell_type": "markdown",
   "metadata": {},
   "source": [
    "# Study Satisfaction and Job Satisfaction (Satisfaction)"
   ]
  },
  {
   "cell_type": "code",
   "execution_count": 15,
   "metadata": {},
   "outputs": [
    {
     "name": "stdout",
     "output_type": "stream",
     "text": [
      "Examples of 'Study Satisfaction' and 'Job Satisfaction' column:\n",
      "0    NaN\n",
      "1    NaN\n",
      "2    2.0\n",
      "3    NaN\n",
      "4    NaN\n",
      "Name: Study Satisfaction, dtype: float64\n",
      "0    2.0\n",
      "1    3.0\n",
      "2    NaN\n",
      "3    1.0\n",
      "4    1.0\n",
      "Name: Job Satisfaction, dtype: float64\n"
     ]
    }
   ],
   "source": [
    "print(\"Examples of 'Study Satisfaction' and 'Job Satisfaction' column:\")\n",
    "print(data[\"Study Satisfaction\"].head())\n",
    "print(data[\"Job Satisfaction\"].head())"
   ]
  },
  {
   "cell_type": "markdown",
   "metadata": {},
   "source": [
    "You can tell that when there is missing a value in the study satisfaction column, there is a value in the same sample but on the job satisfaction problem. these two columns complete eachother, so we will combine these two columns into one \"satisfaction\" column."
   ]
  },
  {
   "cell_type": "markdown",
   "metadata": {},
   "source": [
    "# Sleep Duration"
   ]
  },
  {
   "cell_type": "code",
   "execution_count": 16,
   "metadata": {},
   "outputs": [
    {
     "name": "stdout",
     "output_type": "stream",
     "text": [
      "Unique sleep sorted by count (most to least):\n",
      "Less than 5 hours 38784\n",
      "7-8 hours 36969\n",
      "More than 8 hours 32726\n",
      "5-6 hours 32142\n",
      "3-4 hours 12\n",
      "6-7 hours 8\n",
      "4-5 hours 7\n"
     ]
    }
   ],
   "source": [
    "sleep_counts = data[\"Sleep Duration\"].value_counts()\n",
    "\n",
    "print(\"Unique sleep sorted by count (most to least):\")\n",
    "for e, (duration, count) in enumerate(sleep_counts.items()):\n",
    "    print(duration, count)\n",
    "    if e == 6:\n",
    "        break"
   ]
  },
  {
   "cell_type": "markdown",
   "metadata": {},
   "source": [
    "This one looks a bit tricky. since there are so few occurnces of other than the four most common inputs in this feature, we will change the numbers to a scale from 1 to 4, where 1 is \"less than 5 hours\" all the way to 4 which is \"more than 8 hours\". all the others will be set to 1."
   ]
  },
  {
   "cell_type": "markdown",
   "metadata": {},
   "source": [
    "# Dietary Habits"
   ]
  },
  {
   "cell_type": "code",
   "execution_count": 17,
   "metadata": {},
   "outputs": [
    {
     "name": "stdout",
     "output_type": "stream",
     "text": [
      "Unique sleep sorted by count (most to least):\n",
      "Moderate 49705\n",
      "Unhealthy 46227\n",
      "Healthy 44741\n",
      "Yes 2\n",
      "More Healthy 2\n",
      "No 2\n",
      "Pratham 1\n"
     ]
    }
   ],
   "source": [
    "diet_counts = data[\"Dietary Habits\"].value_counts()\n",
    "\n",
    "print(\"Unique sleep sorted by count (most to least):\")\n",
    "for e, (diet, count) in enumerate(diet_counts.items()):\n",
    "    print(diet, count)\n",
    "    if e == 6:\n",
    "        break"
   ]
  },
  {
   "cell_type": "markdown",
   "metadata": {},
   "source": [
    "* Healthy -> 2\n",
    "* Moderate -> 1\n",
    "* Unhealthy -> 0\n",
    "* The rest -> 1"
   ]
  },
  {
   "cell_type": "markdown",
   "metadata": {},
   "source": [
    "# Degree"
   ]
  },
  {
   "cell_type": "code",
   "execution_count": 18,
   "metadata": {},
   "outputs": [
    {
     "name": "stdout",
     "output_type": "stream",
     "text": [
      "115\n",
      "Unique sleep sorted by count (most to least):\n",
      "Class 12 14729\n",
      "B.Ed 11691\n",
      "B.Arch 8742\n",
      "B.Com 8113\n",
      "B.Pharm 5856\n",
      "BCA 5739\n",
      "M.Ed 5668\n",
      "MCA 5234\n",
      "BBA 5030\n",
      "BSc 5027\n",
      "MSc 4879\n"
     ]
    }
   ],
   "source": [
    "degree_counts = data[\"Degree\"].value_counts()\n",
    "print(data[\"Degree\"].nunique())\n",
    "\n",
    "print(\"Unique sleep sorted by count (most to least):\")\n",
    "for e, (degree, count) in enumerate(degree_counts.items()):\n",
    "    print(degree, count)\n",
    "    if e == 10:\n",
    "        break"
   ]
  },
  {
   "cell_type": "markdown",
   "metadata": {},
   "source": [
    "This one is particularly difficult because there are 115 unique degrees and there are not just a few degrees that covers the majority of the dataset either as the case is in the dietary habit feature. Our approach here is to somehow categorize the different degrees into bachelor, master, doctrine etc. and then give each of them a number from -1 to 4 based on the rank of the degree, going from \"other\" (which is the case where we can't define what degree it is) to professional."
   ]
  },
  {
   "cell_type": "markdown",
   "metadata": {},
   "source": [
    "# Have you ever had suicidal thoughts ?"
   ]
  },
  {
   "cell_type": "code",
   "execution_count": 19,
   "metadata": {},
   "outputs": [
    {
     "name": "stdout",
     "output_type": "stream",
     "text": [
      "Examples of 'Have you ever had suicidal thoughts ?' column:\n",
      "0     No\n",
      "1    Yes\n",
      "2    Yes\n",
      "3    Yes\n",
      "4    Yes\n",
      "Name: Have you ever had suicidal thoughts ?, dtype: object\n",
      "\n",
      "Number of unique Have you ever had suicidal thoughts ?: 2\n"
     ]
    }
   ],
   "source": [
    "print(\"Examples of 'Have you ever had suicidal thoughts ?' column:\")\n",
    "print(data[\"Have you ever had suicidal thoughts ?\"].head())\n",
    "\n",
    "print(\"\")\n",
    "\n",
    "print(\"Number of unique Have you ever had suicidal thoughts ?:\", data[\"Have you ever had suicidal thoughts ?\"].nunique())"
   ]
  },
  {
   "cell_type": "markdown",
   "metadata": {},
   "source": [
    "We will also change this column to binary no / yes to 0 / 1"
   ]
  },
  {
   "cell_type": "markdown",
   "metadata": {},
   "source": [
    "# Work Study Hours (No prerocessing needed here)"
   ]
  },
  {
   "cell_type": "code",
   "execution_count": 20,
   "metadata": {},
   "outputs": [
    {
     "name": "stdout",
     "output_type": "stream",
     "text": [
      "13\n",
      "Unique Work/Study Hours sorted by count (most to least):\n",
      "10.0 14199\n",
      "11.0 12832\n",
      "9.0 12711\n",
      "0.0 12066\n",
      "12.0 11409\n",
      "2.0 10595\n",
      "6.0 10432\n",
      "7.0 9872\n",
      "1.0 9802\n",
      "3.0 9474\n",
      "5.0 9337\n",
      "4.0 9065\n",
      "8.0 8906\n"
     ]
    }
   ],
   "source": [
    "ws_counts = data[\"Work/Study Hours\"].value_counts()\n",
    "print(data[\"Work/Study Hours\"].nunique())\n",
    "\n",
    "print(\"Unique Work/Study Hours sorted by count (most to least):\")\n",
    "for e, (ws, count) in enumerate(ws_counts.items()):\n",
    "    print(ws, count)\n",
    "    if e == 20:\n",
    "        break"
   ]
  },
  {
   "cell_type": "markdown",
   "metadata": {},
   "source": [
    "# Financial Stress"
   ]
  },
  {
   "cell_type": "code",
   "execution_count": 21,
   "metadata": {},
   "outputs": [
    {
     "name": "stdout",
     "output_type": "stream",
     "text": [
      "5\n",
      "Unique sleep sorted by count (most to least):\n",
      "2.0 31451\n",
      "5.0 28279\n",
      "4.0 27765\n",
      "1.0 27211\n",
      "3.0 25990\n"
     ]
    }
   ],
   "source": [
    "finans_count = data[\"Financial Stress\"].value_counts()\n",
    "print(data[\"Financial Stress\"].nunique())\n",
    "\n",
    "print(\"Unique sleep sorted by count (most to least):\")\n",
    "for e, (fn, count) in enumerate(finans_count.items()):\n",
    "    print(fn, count)\n",
    "    if e == 10:\n",
    "        break"
   ]
  },
  {
   "cell_type": "markdown",
   "metadata": {},
   "source": [
    "Has a few missing values, we will impute the mean in these."
   ]
  },
  {
   "cell_type": "markdown",
   "metadata": {},
   "source": [
    "# Family History of Mental Illness"
   ]
  },
  {
   "cell_type": "code",
   "execution_count": 22,
   "metadata": {},
   "outputs": [
    {
     "name": "stdout",
     "output_type": "stream",
     "text": [
      "Examples of 'Family History of Mental Illness' column:\n",
      "0     No\n",
      "1     No\n",
      "2     No\n",
      "3    Yes\n",
      "4    Yes\n",
      "Name: Family History of Mental Illness, dtype: object\n",
      "\n",
      "Number of unique Family History of Mental Illnesses: 2\n"
     ]
    }
   ],
   "source": [
    "print(\"Examples of 'Family History of Mental Illness' column:\")\n",
    "print(data[\"Family History of Mental Illness\"].head())\n",
    "\n",
    "print(\"\")\n",
    "\n",
    "print(\"Number of unique Family History of Mental Illnesses:\", data[\"Family History of Mental Illness\"].nunique())"
   ]
  },
  {
   "cell_type": "markdown",
   "metadata": {},
   "source": [
    "For this column we will change yes and no to 1 and 0"
   ]
  },
  {
   "cell_type": "markdown",
   "metadata": {},
   "source": [
    "# Depression - The label\n",
    "Plotting the distribution of the labels"
   ]
  },
  {
   "cell_type": "code",
   "execution_count": 23,
   "metadata": {},
   "outputs": [
    {
     "data": {
      "image/png": "[encoded data removed]",
      "text/plain": [
       "<Figure size 640x480 with 1 Axes>"
      ]
     },
     "metadata": {},
     "output_type": "display_data"
    }
   ],
   "source": [
    "target_counts = data['Depression'].value_counts()\n",
    "target_counts.plot(kind='bar', color=['pink', 'black'])\n",
    "plt.xticks(ticks=[0, 1], labels=['Not Depressed', 'Depressed'], rotation=0)\n",
    "plt.title('Distribution of Not Depressed vs Depressed')\n",
    "plt.show()"
   ]
  },
  {
   "cell_type": "markdown",
   "metadata": {},
   "source": [
    "You can tell that there is a significant imbalance between depressed and not depressed. "
   ]
  },
  {
   "cell_type": "markdown",
   "metadata": {},
   "source": [
    "# Pre-processing"
   ]
  },
  {
   "cell_type": "markdown",
   "metadata": {},
   "source": [
    "Dropping the Id column"
   ]
  },
  {
   "cell_type": "code",
   "execution_count": 24,
   "metadata": {},
   "outputs": [],
   "source": [
    "def dropId(data):\n",
    "    data = data.drop(columns=[\"id\"])\n",
    "    return data"
   ]
  },
  {
   "cell_type": "markdown",
   "metadata": {},
   "source": [
    "Encoding the name column, Replacing each name with its frequency in the dataset"
   ]
  },
  {
   "cell_type": "code",
   "execution_count": 25,
   "metadata": {},
   "outputs": [],
   "source": [
    "def name_freq(data):\n",
    "    data[\"Name\"] = data[\"Name\"].map(data[\"Name\"].value_counts())\n",
    "    return data"
   ]
  },
  {
   "cell_type": "markdown",
   "metadata": {},
   "source": [
    "Encoding gender column 0/1"
   ]
  },
  {
   "cell_type": "code",
   "execution_count": 26,
   "metadata": {},
   "outputs": [],
   "source": [
    "def gender_encode(data):\n",
    "    data[\"Gender\"] = data[\"Gender\"].map({\"Female\": 0, \"Male\": 1 })\n",
    "    return data"
   ]
  },
  {
   "cell_type": "markdown",
   "metadata": {},
   "source": [
    "Age, changing the type"
   ]
  },
  {
   "cell_type": "code",
   "execution_count": 27,
   "metadata": {},
   "outputs": [],
   "source": [
    "def age_integer(data):\n",
    "    data[\"Age\"] = data[\"Age\"].astype(int)\n",
    "    return data"
   ]
  },
  {
   "cell_type": "markdown",
   "metadata": {},
   "source": [
    "Academic Preessure, inserting 0 in the empty slots"
   ]
  },
  {
   "cell_type": "code",
   "execution_count": 28,
   "metadata": {},
   "outputs": [],
   "source": [
    "def academic_pressure(data):\n",
    "    data[\"Academic Pressure\"] = np.where(\n",
    "        data[\"Academic Pressure\"].isnull(), 0,\n",
    "        data[\"Academic Pressure\"]\n",
    "    )\n",
    "    return data"
   ]
  },
  {
   "cell_type": "markdown",
   "metadata": {},
   "source": [
    "Family History of Mental Illnes. -> 0/1"
   ]
  },
  {
   "cell_type": "code",
   "execution_count": 29,
   "metadata": {},
   "outputs": [],
   "source": [
    "def family_mental_illness(data):\n",
    "    data[\"Family History of Mental Illness\"] = np.where(\n",
    "        data[\"Family History of Mental Illness\"] == \"No\", 0,\n",
    "        np.where(\n",
    "            data[\"Family History of Mental Illness\"] == \"Yes\", 1,\n",
    "            data[\"Family History of Mental Illness\"]\n",
    "        )\n",
    "    )\n",
    "\n",
    "    # Convert to integer type\n",
    "    data[\"Family History of Mental Illness\"] = data[\"Family History of Mental Illness\"].astype(int)\n",
    "    \n",
    "    return data"
   ]
  },
  {
   "cell_type": "markdown",
   "metadata": {},
   "source": [
    "Have you ever had suicidal thoughts? -> 0/1"
   ]
  },
  {
   "cell_type": "code",
   "execution_count": 30,
   "metadata": {},
   "outputs": [],
   "source": [
    "def suicidal_thoughts(data):\n",
    "    data[\"Have you ever had suicidal thoughts ?\"] = np.where(\n",
    "        data[\"Have you ever had suicidal thoughts ?\"] == \"No\", 0,\n",
    "        np.where(\n",
    "            data[\"Have you ever had suicidal thoughts ?\"] == \"Yes\", 1,\n",
    "            data[\"Have you ever had suicidal thoughts ?\"]\n",
    "        )\n",
    "    )\n",
    "    data[\"Have you ever had suicidal thoughts ?\"] = data[\"Have you ever had suicidal thoughts ?\"].astype(int)\n",
    "    return data"
   ]
  },
  {
   "cell_type": "markdown",
   "metadata": {},
   "source": [
    "Financial stress"
   ]
  },
  {
   "cell_type": "code",
   "execution_count": 31,
   "metadata": {},
   "outputs": [],
   "source": [
    "def financial_stress(data):\n",
    "    data[\"Financial Stress\"] = np.where(\n",
    "        data[\"Financial Stress\"].isnull(), round(data[\"Financial Stress\"].mean()), data[\"Financial Stress\"]\n",
    "    )\n",
    "    return data"
   ]
  },
  {
   "cell_type": "markdown",
   "metadata": {},
   "source": [
    "Working Professional or Student. -> 0/1"
   ]
  },
  {
   "cell_type": "code",
   "execution_count": 32,
   "metadata": {},
   "outputs": [],
   "source": [
    "def working_or_student(data):\n",
    "    data[\"Working Professional or Student\"] = np.where(\n",
    "        data[\"Working Professional or Student\"] == \"Working Professional\", 0,\n",
    "        np.where(\n",
    "            data[\"Working Professional or Student\"] == \"Student\", 1,\n",
    "            data[\"Working Professional or Student\"]\n",
    "        )\n",
    "    )       \n",
    "\n",
    "    # Convert to integer type\n",
    "    data[\"Working Professional or Student\"] = data[\"Working Professional or Student\"].astype(int)\n",
    "    \n",
    "    return data"
   ]
  },
  {
   "cell_type": "markdown",
   "metadata": {},
   "source": [
    "Profession. Inserting Student in the empty slots if the sample is a student and missing profession if it is empty and the sample is not a student. also inserting \"Missing Profession\" in the professions that has less than 10 occurrences in the dataset because the majority of these are wrong information."
   ]
  },
  {
   "cell_type": "code",
   "execution_count": 33,
   "metadata": {},
   "outputs": [],
   "source": [
    "def profession(data):\n",
    "    # Count occurrences of each profession\n",
    "    profession_counts = data[\"Profession\"].value_counts()\n",
    "    \n",
    "    # Update the \"Profession\" column\n",
    "    data[\"Profession\"] = np.where(\n",
    "        data[\"Profession\"].isnull() & (data[\"Working Professional or Student\"] == 1),\n",
    "        \"Student\",\n",
    "        np.where(\n",
    "            data[\"Profession\"].isnull() & (data[\"Working Professional or Student\"] == 0), \n",
    "            \"Missing Profession\", \n",
    "            np.where(\n",
    "                data[\"Profession\"].map(profession_counts) < 6,  # If occurrence < 10, set to \"Missing Profession\"\n",
    "                \"Missing Profession\",\n",
    "                data[\"Profession\"]\n",
    "            )\n",
    "        )\n",
    "    )\n",
    "    return data\n"
   ]
  },
  {
   "cell_type": "markdown",
   "metadata": {},
   "source": [
    "Categorizing Professions and giving each category a number. the number is a rating from 0 to 10 on how happy people are in given categories. We used chatGPT to rate them based on different logical points. see professions_mapping dictionary for description of the ratings."
   ]
  },
  {
   "cell_type": "code",
   "execution_count": 34,
   "metadata": {},
   "outputs": [],
   "source": [
    "def categorize_profession(profession):\n",
    "    if pd.isna(profession) or \"missing\" in profession.lower():\n",
    "        return \"Unknown\"\n",
    "    \n",
    "    profession = profession.lower().strip()\n",
    "\n",
    "    # Technology\n",
    "    tech_keywords = [\"software\", \"data scientist\", \"ux/ui\", \"developer\", \"engineer\"]\n",
    "    if any(keyword in profession for keyword in tech_keywords):\n",
    "        return \"Technology\"\n",
    "\n",
    "    # Finance\n",
    "    finance_keywords = [\"accountant\", \"financial\", \"investment\", \"banker\", \"analyst\"]\n",
    "    if any(keyword in profession for keyword in finance_keywords):\n",
    "        return \"Finance\"\n",
    "\n",
    "    # Healthcare\n",
    "    healthcare_keywords = [\"doctor\", \"pharmacist\", \"dentist\", \"nurse\"]\n",
    "    if any(keyword in profession for keyword in healthcare_keywords):\n",
    "        return \"Healthcare\"\n",
    "\n",
    "    # Education\n",
    "    education_keywords = [\"teacher\", \"professor\", \"educational\"]\n",
    "    if any(keyword in profession for keyword in education_keywords):\n",
    "        return \"Education\"\n",
    "\n",
    "    # Engineering\n",
    "    engineering_keywords = [\"civil engineer\", \"mechanical engineer\", \"architect\"]\n",
    "    if any(keyword in profession for keyword in engineering_keywords):\n",
    "        return \"Engineering\"\n",
    "\n",
    "    # Marketing & Sales\n",
    "    marketing_keywords = [\"marketing\", \"sales\", \"digital marketer\", \"content writer\"]\n",
    "    if any(keyword in profession for keyword in marketing_keywords):\n",
    "        return \"Marketing/Sales\"\n",
    "\n",
    "    # Trade & Manual Work\n",
    "    trade_keywords = [\"electrician\", \"plumber\", \"chef\", \"mechanic\"]\n",
    "    if any(keyword in profession for keyword in trade_keywords):\n",
    "        return \"Trade\"\n",
    "\n",
    "    # Legal\n",
    "    legal_keywords = [\"lawyer\", \"judge\", \"legal\"]\n",
    "    if any(keyword in profession for keyword in legal_keywords):\n",
    "        return \"Legal\"\n",
    "\n",
    "    # Consulting\n",
    "    consulting_keywords = [\"consultant\", \"business analyst\"]\n",
    "    if any(keyword in profession for keyword in consulting_keywords):\n",
    "        return \"Consulting\"\n",
    "\n",
    "    # Other / Unknown\n",
    "    return \"Other\"\n",
    "\n",
    "def Prefession_categorization(data):\n",
    "    # Apply categorization\n",
    "    data[\"Profession_Category\"] = data[\"Profession\"].apply(categorize_profession)\n",
    "\n",
    "    # Encoding Options\n",
    "\n",
    "    ## Option 1: Ordinal Encoding (useful if there's a natural order)\n",
    "    profession_mapping = {\n",
    "    \"Unknown\": 0,           # No data on job satisfaction\n",
    "    \"Other\": 4,             # Mixed bag, depends on the job\n",
    "    \"Trade\": 6,             # Skilled trades often provide satisfaction, but physically demanding\n",
    "    \"Marketing/Sales\": 5,   # High variability, stressful but rewarding\n",
    "    \"Consulting\": 5,        # High pay but often high stress & long hours\n",
    "    \"Education\": 7,         # Fulfilling, but pay can be low and stress can be high\n",
    "    \"Finance\": 6,           # High pay, but long hours and stress\n",
    "    \"Engineering\": 7,       # Good pay, problem-solving, but deadlines can be stressful\n",
    "    \"Healthcare\": 6,        # Rewarding but high stress and burnout risk\n",
    "    \"Legal\": 5,             # High salary, but stressful and demanding\n",
    "    \"Technology\": 8         # High salary, flexibility, remote work options\n",
    "}\n",
    "\n",
    "\n",
    "    data[\"Profession_Encoded\"] = data[\"Profession_Category\"].map(profession_mapping)\n",
    "\n",
    "    data[\"Profession\"] = data[\"Profession_Encoded\"]\n",
    "\n",
    "    data = data.drop(columns=[\"Profession_Encoded\", \"Profession_Category\"])\n",
    "    return data\n",
    "    ## Option 2: One-Hot Encoding (better for categorical data)\n",
    "    # data = pd.get_dummies(data, columns=[\"Profession_Category\"], prefix=\"Profession\")\n"
   ]
  },
  {
   "cell_type": "markdown",
   "metadata": {},
   "source": [
    "Work Pressure"
   ]
  },
  {
   "cell_type": "code",
   "execution_count": 35,
   "metadata": {},
   "outputs": [],
   "source": [
    "def work_pressure(data):\n",
    "    data[\"Work Pressure\"] = np.where(\n",
    "        data[\"Work Pressure\"].isnull(), 0.0, data[\"Work Pressure\"]\n",
    "    )\n",
    "    return data"
   ]
  },
  {
   "cell_type": "markdown",
   "metadata": {},
   "source": [
    "CGPA"
   ]
  },
  {
   "cell_type": "code",
   "execution_count": 36,
   "metadata": {},
   "outputs": [],
   "source": [
    "def cgpa(data):\n",
    "    data[\"CGPA\"] = np.where(\n",
    "        data[\"CGPA\"].isnull(), round(data[\"CGPA\"].mean(), 2), data[\"CGPA\"]\n",
    "    )\n",
    "    return data"
   ]
  },
  {
   "cell_type": "markdown",
   "metadata": {},
   "source": [
    "Study- and Job Satisfaction"
   ]
  },
  {
   "cell_type": "code",
   "execution_count": 37,
   "metadata": {},
   "outputs": [],
   "source": [
    "def satisfaction(data):\n",
    "    satisfaction = np.where(\n",
    "        data[\"Study Satisfaction\"].notnull(), data[\"Study Satisfaction\"], np.where(\n",
    "            data[\"Job Satisfaction\"].notnull(), data[\"Job Satisfaction\"], 0\n",
    "        )\n",
    "    )\n",
    "    data[\"Job Satisfaction\"] = satisfaction\n",
    "    data = data.drop(columns=\"Study Satisfaction\")\n",
    "    data.rename(columns={\"Job Satisfaction\": \"Satisfaction\"}, inplace=True)\n",
    "    return data"
   ]
  },
  {
   "cell_type": "markdown",
   "metadata": {},
   "source": [
    "Sleep Duration"
   ]
  },
  {
   "cell_type": "code",
   "execution_count": 38,
   "metadata": {},
   "outputs": [],
   "source": [
    "def sleep_duration(data):\n",
    "    data[\"Sleep Duration\"] = np.where(\n",
    "        data[\"Sleep Duration\"] == \"Less than 5 hours\", 1, np.where(\n",
    "            data[\"Sleep Duration\"] == \"5-6 hours\", 2, np.where(\n",
    "                data[\"Sleep Duration\"] == \"7-8 hours\", 3, np.where(\n",
    "                    data[\"Sleep Duration\"] == \"More than 8 hours\", 4, 1\n",
    "                )\n",
    "            )\n",
    "        )\n",
    "    )\n",
    "    return data"
   ]
  },
  {
   "cell_type": "markdown",
   "metadata": {},
   "source": [
    "Dietary Habits"
   ]
  },
  {
   "cell_type": "code",
   "execution_count": 39,
   "metadata": {},
   "outputs": [],
   "source": [
    "def diet(data):\n",
    "    data[\"Dietary Habits\"] = np.where(\n",
    "        data[\"Dietary Habits\"] == \"Healthy\", 2, np.where(\n",
    "            data[\"Dietary Habits\"] == \"Moderate\", 1, np.where(\n",
    "                data[\"Dietary Habits\"] == \"Unhealthy\", 0, 1\n",
    "            )\n",
    "        )\n",
    "    )\n",
    "    return data"
   ]
  },
  {
   "cell_type": "markdown",
   "metadata": {},
   "source": []
  },
  {
   "cell_type": "code",
   "execution_count": 40,
   "metadata": {},
   "outputs": [],
   "source": [
    "def categorize_degree(degree):\n",
    "\n",
    "    \"\"\"\n",
    "    Categorizes the differnet degrees into Schoo, Bachelors, Masters, Doctrate, professional and other\n",
    "    \"\"\"\n",
    "    \n",
    "    degree = str(degree).strip().lower()\n",
    "\n",
    "    # School-Level\n",
    "    if \"class 11\" in degree or \"class 12\" in degree:\n",
    "        return \"School\"\n",
    "\n",
    "    # Bachelor's Degrees\n",
    "    bachelor_keywords = [\"b.\", \"b \", \"bachelor\", \"bcom\", \"bsc\", \"btech\", \"be\", \"bba\", \"bca\", \"ba\", \"b.ed\", \"b.arch\"]\n",
    "    if any(keyword in degree for keyword in bachelor_keywords):\n",
    "        return \"Bachelors\"\n",
    "\n",
    "    # Master's Degrees\n",
    "    master_keywords = [\"m.\", \"m \", \"master\", \"mba\", \"mcom\", \"msc\", \"mtech\", \"me\", \"mca\", \"m.ed\", \"mpharm\", \"m.arch\"]\n",
    "    if any(keyword in degree for keyword in master_keywords):\n",
    "        return \"Masters\"\n",
    "\n",
    "    # Doctoral Degrees\n",
    "    if \"phd\" in degree:\n",
    "        return \"Doctorate\"\n",
    "\n",
    "    # Professional Degrees\n",
    "    professional_keywords = [\"mbbs\", \"md\", \"llb\", \"llm\"]\n",
    "    if any(keyword in degree for keyword in professional_keywords):\n",
    "        return \"Professional\"\n",
    "\n",
    "    # Unknown / Noisy Data\n",
    "    return \"Other\"\n",
    "\n",
    "def degree(data):\n",
    "    \n",
    "    # Apply categorization\n",
    "    data[\"Degree\"] = data[\"Degree\"].apply(categorize_degree)\n",
    "\n",
    "\n",
    "    # Define an ordinal mapping\n",
    "    degree_mapping = {\n",
    "        \"School\": 1,\n",
    "        \"Bachelors\": 2,\n",
    "        \"Masters\": 3,\n",
    "        \"Professional\": 4,\n",
    "        \"Doctorate\": 5,\n",
    "        \"Other\": 0  # Keep 'Other' at the highest level or remove it depending on the approach\n",
    "    }\n",
    "\n",
    "    # Apply mapping\n",
    "    data[\"Degree\"] = data[\"Degree\"].map(degree_mapping)\n",
    "\n",
    "    return data \n",
    "\n"
   ]
  },
  {
   "cell_type": "markdown",
   "metadata": {},
   "source": [
    "City"
   ]
  },
  {
   "cell_type": "code",
   "execution_count": 41,
   "metadata": {},
   "outputs": [],
   "source": [
    "# Load city data\n",
    "city_data_path = \"./Data/indian_cities_data.csv\"\n",
    "df_cities = pd.read_csv(city_data_path)\n",
    "\n",
    "def city_one_hot(data):\n",
    "    # Find the index of the \"City\" column\n",
    "    city_index = data.columns.get_loc(\"City\")\n",
    "\n",
    "    # Merge the data with city information, excluding \"Main Language\"\n",
    "    merged_data = data.merge(df_cities.drop(columns=[\"Main Language\"]), on=\"City\", how=\"left\")\n",
    "\n",
    "    # Calculate the mean values for missing cities\n",
    "    mean_values = merged_data[[\"Population\", \"Density (per km²)\", \"Literacy Rate (%)\", \"Sex Ratio\"]].mean()\n",
    "\n",
    "    # Replace NaN values with the mean of the respective column\n",
    "    merged_data.fillna(mean_values, inplace=True)\n",
    "\n",
    "    # Drop the original \"City\" column\n",
    "    merged_data.drop(columns=[\"City\"], inplace=True)\n",
    "\n",
    "    # Reorder columns to place new city-related columns where \"City\" was\n",
    "    city_columns = [\"Population\", \"Density (per km²)\", \"Literacy Rate (%)\", \"Sex Ratio\"]\n",
    "    cols = merged_data.columns.tolist()\n",
    "\n",
    "    # Move the new city-related columns to the correct index\n",
    "    for col in reversed(city_columns):\n",
    "        cols.insert(city_index, cols.pop(cols.index(col)))\n",
    "\n",
    "    # Reorder the dataframe\n",
    "    merged_data = merged_data[cols]\n",
    "\n",
    "    return merged_data\n"
   ]
  },
  {
   "cell_type": "markdown",
   "metadata": {},
   "source": [
    "Pre-processing function:"
   ]
  },
  {
   "cell_type": "code",
   "execution_count": 42,
   "metadata": {},
   "outputs": [],
   "source": [
    "def pre_processing(data):\n",
    "\n",
    "    data = dropId(data)\n",
    "    data = name_freq(data)\n",
    "    data = gender_encode(data)\n",
    "    data = age_integer(data)\n",
    "    data = academic_pressure(data)\n",
    "    data = family_mental_illness(data)\n",
    "    data = suicidal_thoughts(data)\n",
    "    data = working_or_student(data)\n",
    "    data = profession(data)\n",
    "    data = work_pressure(data)\n",
    "    data = cgpa(data)\n",
    "    data = satisfaction(data)\n",
    "    data = sleep_duration(data)\n",
    "    data = diet(data)\n",
    "    data = degree(data)\n",
    "    data = Prefession_categorization(data)\n",
    "    data = city_one_hot(data)\n",
    "    data = financial_stress(data)\n",
    "    return data\n",
    "\n",
    "train_val = pre_processing(data)\n",
    "test = pre_processing(test)"
   ]
  },
  {
   "cell_type": "markdown",
   "metadata": {},
   "source": [
    "Here is The function for Normalizing (0-1) the dataset. This is necessary or helpful if we want to use:\n",
    "\n",
    "| Learning Algorithm |\n",
    "|--------------------|\n",
    "| Logistic Regression |\n",
    "| SVM |\n",
    "| Neural Network - better |\n",
    "| K-Means |"
   ]
  },
  {
   "cell_type": "code",
   "execution_count": 43,
   "metadata": {},
   "outputs": [],
   "source": [
    "def split_xy(data, target_col=\"Depression\"):\n",
    "    X = data.drop(columns=[target_col])\n",
    "    y = data[target_col]\n",
    "    return X, y\n",
    "\n",
    "\n",
    "def split_data_train_val(\n",
    "    data,\n",
    "    train_size=0.8,\n",
    "    seed=42,\n",
    "    stratify=True,\n",
    "    target_col=\"Depression\"\n",
    "):\n",
    "    stratify_arg = data[target_col] if stratify else None\n",
    "    train_df, val_df = train_test_split(\n",
    "        data,\n",
    "        train_size=train_size,\n",
    "        random_state=seed,\n",
    "        stratify=stratify_arg\n",
    "    )\n",
    "    return train_df, val_df\n",
    "\n",
    "def normalize_dataset(train_data, test_data):\n",
    "    # Identify binary columns (values only 0 or 1)\n",
    "    binary_columns = [col for col in train_data.columns if train_data[col].dropna().isin([0, 1]).all()]\n",
    "    \n",
    "    # Identify continuous numerical columns (everything else)\n",
    "    continuous_columns = [col for col in train_data.columns if col not in binary_columns]\n",
    "\n",
    "    # Initialize MinMaxScaler\n",
    "    scaler = MinMaxScaler()\n",
    "\n",
    "    # Fit on training data only, then transform both training and test data\n",
    "    train_data_scaled = train_data.copy()\n",
    "    test_data_scaled = test_data.copy()\n",
    "\n",
    "    train_data_scaled[continuous_columns] = scaler.fit_transform(train_data[continuous_columns])\n",
    "    test_data_scaled[continuous_columns] = scaler.transform(test_data[continuous_columns])  # Only transform\n",
    "\n",
    "    return train_data_scaled, test_data_scaled\n",
    "\n",
    "\n",
    "\n",
    "def make_specialized(data, target_value):\n",
    "    \"\"\"\n",
    "    Create a specialized dataset for a specific target value.\n",
    "\n",
    "    Where the data becomes 95% of the target value and 5% of the other target value.\n",
    "    \"\"\"\n",
    "    # Get the target column name\n",
    "    target_col = \"Depression\"\n",
    "\n",
    "    # Create a mask for the target value\n",
    "    target_mask = data[target_col] == target_value\n",
    "\n",
    "    # Get the specialized data for the target value\n",
    "    specialized_data = data[target_mask].copy()\n",
    "\n",
    "    # Get the other target value\n",
    "    other_target_value = 1 - target_value\n",
    "\n",
    "    # Get a sample of 5% from the other target value\n",
    "    other_data_sample = data[data[target_col] == other_target_value].sample(frac=0.05, random_state=seed)\n",
    "\n",
    "    # Combine the specialized data with the sampled other data\n",
    "    combined_data = pd.concat([specialized_data, other_data_sample], ignore_index=True)\n",
    "\n",
    "    return combined_data\n",
    "\n",
    "\n",
    "def make_loader(X_tr, y_tr, X_vl, y_vl, batch_size=128):\n",
    "    # turn into tensors and center by training‐set mean\n",
    "    X_tr_t = torch.tensor(X_tr.values, dtype=torch.float32)\n",
    "    mean   = X_tr_t.mean(dim=0, keepdim=True)\n",
    "    X_tr_t = X_tr_t - mean\n",
    "    y_tr_t = torch.tensor(y_tr.values, dtype=torch.long)\n",
    "\n",
    "    X_vl_t = torch.tensor(X_vl.values, dtype=torch.float32) - mean\n",
    "    y_vl_t = torch.tensor(y_vl.values, dtype=torch.long)\n",
    "\n",
    "    train_ds = TensorDataset(X_tr_t, y_tr_t)\n",
    "    val_ds   = TensorDataset(X_vl_t, y_vl_t)\n",
    "\n",
    "    train_loader = DataLoader(train_ds, batch_size=batch_size,\n",
    "                              shuffle=True, drop_last=True)\n",
    "    val_loader   = DataLoader(val_ds,   batch_size=batch_size,\n",
    "                              shuffle=False, drop_last=False)\n",
    "    return train_loader, val_loader\n"
   ]
  },
  {
   "cell_type": "markdown",
   "metadata": {},
   "source": [
    "### Normalizing and splitting the data\n",
    "\n",
    "\n",
    "We split the data into train val and test.\n",
    "Further we split the train into bl_train and bl_val  (bl = baselearners)\n",
    "\n",
    "We also create specialized data where one label is 95% of the label in that dataset."
   ]
  },
  {
   "cell_type": "code",
   "execution_count": 44,
   "metadata": {},
   "outputs": [],
   "source": [
    "\n",
    "# Normalize Training and Test Data\n",
    "train_val, test = normalize_dataset(train_val, test)\n",
    "\n",
    "\n",
    "# X and y\n",
    "train_val_X, train_val_y = split_xy(train_val)\n",
    "\n",
    "# Split train_val into train and val\n",
    "train, val = split_data_train_val(train_val, train_size=0.8)\n",
    "\n",
    "# X and y\n",
    "train_X, train_y = split_xy(train)\n",
    "val_X, val_y = split_xy(val)\n",
    "\n",
    "\n",
    "# For base learners\n",
    "bl_train_val = train.copy()\n",
    "bl_train_val_happy = make_specialized(bl_train_val,0)\n",
    "bl_train_val_depressed = make_specialized(bl_train_val, 1)\n",
    "\n",
    "\n",
    "# X and y\n",
    "bl_train_val_X, bl_train_val_y = split_xy(bl_train_val)\n",
    "bl_train_val_happy_X, bl_train_val_happy_y = split_xy(bl_train_val_happy)\n",
    "bl_train_val_depressed_X, bl_train_val_depressed_y = split_xy(bl_train_val_depressed)\n",
    "\n",
    "\n",
    "# train and val splits\n",
    "bl_train, bl_val = split_data_train_val(bl_train_val, train_size=0.8)\n",
    "bl_train_happy, bl_val_happy = split_data_train_val(bl_train_val_happy, train_size=0.8)\n",
    "bl_train_depressed, bl_val_depressed = split_data_train_val(bl_train_val_depressed, train_size=0.8)\n",
    "\n",
    "\n",
    "# X and y for base learners\n",
    "bl_train_X, bl_train_y = split_xy(bl_train)\n",
    "bl_val_X, bl_val_y = split_xy(bl_val)\n",
    "\n",
    "bl_train_happy_X, bl_train_happy_y = split_xy(bl_train_happy)\n",
    "bl_val_happy_X, bl_val_happy_y = split_xy(bl_val_happy)\n",
    "\n",
    "bl_train_depressed_X, bl_train_depressed_y = split_xy(bl_train_depressed)\n",
    "bl_val_depressed_X, bl_val_depressed_y = split_xy(bl_val_depressed)"
   ]
  },
  {
   "cell_type": "markdown",
   "metadata": {},
   "source": [
    "# Random Forest classifier (base model)"
   ]
  },
  {
   "cell_type": "code",
   "execution_count": 45,
   "metadata": {},
   "outputs": [
    {
     "name": "stdout",
     "output_type": "stream",
     "text": [
      "Fitting 5 folds for each of 36 candidates, totalling 180 fits\n",
      "Best Score: 0.9370\n",
      "Best Hyperparameters: {'max_depth': 30, 'min_samples_leaf': 2, 'min_samples_split': 2, 'n_estimators': 200}\n"
     ]
    }
   ],
   "source": [
    "def Random_forest(seed, X_train, y_train):\n",
    "    param_grid = {\n",
    "        \"n_estimators\": [50, 100, 200],\n",
    "        \"max_depth\": [10, 20, 30],\n",
    "        \"min_samples_split\": [2, 4],\n",
    "        \"min_samples_leaf\": [2, 4]\n",
    "    }\n",
    "\n",
    "    kf = StratifiedKFold(n_splits=5, shuffle=True, random_state=seed)\n",
    "    rf = RandomForestClassifier(random_state=seed)\n",
    "\n",
    "    grid_search = GridSearchCV(\n",
    "        estimator=rf,\n",
    "        param_grid=param_grid,\n",
    "        cv=kf,\n",
    "        scoring=\"accuracy\",\n",
    "        n_jobs=-1,  # Use all available CPU cores\n",
    "        verbose=1   # Shows progress\n",
    "    )\n",
    "\n",
    "\n",
    "    grid_search.fit(X_train, y_train)\n",
    "    best_params = grid_search.best_params_\n",
    "\n",
    "    best_score = grid_search.best_score_\n",
    "    print(f\"Best Score: {best_score:.4f}\")\n",
    "\n",
    "    print(\"Best Hyperparameters:\", best_params)\n",
    "    \n",
    "    model = RandomForestClassifier(max_depth=best_params[\"max_depth\"], \n",
    "                            min_samples_leaf=best_params[\"min_samples_leaf\"],\n",
    "                            min_samples_split=best_params[\"min_samples_split\"],\n",
    "                            n_estimators=best_params[\"n_estimators\"],\n",
    "                            class_weight=\"balanced\"\n",
    "                            )\n",
    "\n",
    "    model.fit(X_train, y_train)\n",
    "    \n",
    "    return model, best_score\n",
    "\n",
    "random_forest_base_model, random_forest_base_model_best_score = Random_forest(seed,train_val_X, train_val_y)"
   ]
  },
  {
   "cell_type": "markdown",
   "metadata": {},
   "source": [
    "# Improved Random Forest classifier - Magnus Paper implementation - implementation in \"Magnus_implementation\" folder.\n",
    "\n",
    "[Improved Random forest paper](https://www.sciencedirect.com/science/article/pii/S0957417423020511) <--- link"
   ]
  },
  {
   "cell_type": "code",
   "execution_count": 46,
   "metadata": {},
   "outputs": [],
   "source": [
    "from Magnus_implementation.ImprovedRandomForest import ImprovedRandomForest"
   ]
  },
  {
   "cell_type": "markdown",
   "metadata": {},
   "source": [
    "## Hypertune parameters for the improved random forest with grid search method"
   ]
  },
  {
   "cell_type": "code",
   "execution_count": 47,
   "metadata": {},
   "outputs": [
    {
     "name": "stdout",
     "output_type": "stream",
     "text": [
      "Validation accuracy of the improved random forest model: 0.9361\n"
     ]
    }
   ],
   "source": [
    "def hypertuned_model(improved_training_data, X_train, y_train, X_val, y_val):\n",
    "\n",
    "    parameters = {\n",
    "        \"N_final\": [100,200],\n",
    "        \"m\": [0.3, 0.7],\n",
    "        \"max_depth\": [8,15],\n",
    "        \"min_samples_leaf\": [2, 4],\n",
    "        \"min_samples_split\": [2, 4]\n",
    "    }\n",
    "\n",
    "    # The best parameters from tuning on regular training set\n",
    "    # parameters = {\n",
    "    #     \"N_final\": [200],\n",
    "    #     \"m\": [0.7],\n",
    "    #     \"max_depth\": [15],\n",
    "    #     \"min_samples_leaf\": [4],\n",
    "    #     \"min_samples_split\": [2]\n",
    "    # }\n",
    "\n",
    "    train_accuracies = []\n",
    "    val_accuracies = []\n",
    "    n_estimators = parameters[\"N_final\"]\n",
    "\n",
    "    # Gives an overview of the computational cost of the hypertuning - for time estamation\n",
    "    total_candidates = 1\n",
    "    for p in parameters:\n",
    "        total_candidates = total_candidates * len(parameters[p])\n",
    "    print(\"The total amount of candidates: \", total_candidates)\n",
    "\n",
    "    best_parameters = {\n",
    "        \"N_final\": None,\n",
    "        \"m\": None,\n",
    "        \"max_depth\": None,\n",
    "        \"min_samples_leaf\": None,\n",
    "        \"min_samples_split\": None\n",
    "    }\n",
    "    best_accuracy_score = 0.0\n",
    "    best_model = None\n",
    "    candidates = total_candidates\n",
    "    for N_final in parameters[\"N_final\"]:\n",
    "        for m in parameters[\"m\"]:\n",
    "            for max_depth in parameters[\"max_depth\"]:\n",
    "                for min_samples_leaf in parameters[\"min_samples_leaf\"]:\n",
    "                    for min_samples_split in parameters[\"min_samples_split\"]:\n",
    "                        # print(f\"Testing the parameters: {N_final}, {m}, {max_depth}, {min_samples_leaf}, {min_samples_split}.\")\n",
    "                        model = ImprovedRandomForest(N_final, m, max_depth, min_samples_leaf, min_samples_split, improved_training_data)\n",
    "\n",
    "                        # validationset score\n",
    "                        val_accuracy = accuracy_score(y_val, model.predict(X_val))\n",
    "                        val_accuracies.append(val_accuracy)\n",
    "\n",
    "                        # trainingset score\n",
    "                        train_accuracy = accuracy_score(y_train, model.predict(X_train))\n",
    "                        train_accuracies.append(train_accuracy)\n",
    "\n",
    "                        if val_accuracy > best_accuracy_score:\n",
    "                            print(f\"Best parameters so far: {N_final}, {m}, {max_depth}, {min_samples_leaf}, {min_samples_split}, with accuracy: {round(val_accuracy, 4)}\")\n",
    "                            best_parameters = {\n",
    "                                \"N_final\": N_final,\n",
    "                                \"m\": m,\n",
    "                                \"max_depth\": max_depth,\n",
    "                                \"min_samples_leaf\": min_samples_leaf,\n",
    "                                \"min_samples_split\": min_samples_split\n",
    "                            }\n",
    "                            best_model = model\n",
    "                            best_accuracy_score = val_accuracy\n",
    "                        candidates -= 1\n",
    "                        print(f\"Remaining candidates: {candidates}/{total_candidates}\")\n",
    "    print(f\"The best performing model with an accuracy score: {round(best_accuracy_score, 4)}, had these parameters:\")\n",
    "    print(f\"N_final: {best_parameters['N_final']}\\nm: {best_parameters['m']}\\nmax_depth: {best_parameters['max_depth']}\\nmin_samples_leaf: {best_parameters['min_samples_leaf']}\\nmin_samples_split: {best_parameters['min_samples_split']}\")\n",
    "    return best_model, best_parameters, round(best_accuracy_score, 4)\n",
    "\n",
    "\n",
    "improved_random_forest_model= ImprovedRandomForest(200, 0.7, 15, 4, 2, train_val)\n",
    "\n",
    "improved_random_forest_model_val_accuracy = accuracy_score(val_y, improved_random_forest_model.predict(val_X))\n",
    "print(f\"Validation accuracy of the improved random forest model: {improved_random_forest_model_val_accuracy:.4f}\")\n"
   ]
  },
  {
   "cell_type": "markdown",
   "metadata": {},
   "source": [
    "\n",
    "# Elias's Selection net\n",
    "## Base learners for selection net:"
   ]
  },
  {
   "cell_type": "code",
   "execution_count": 48,
   "metadata": {},
   "outputs": [
    {
     "name": "stdout",
     "output_type": "stream",
     "text": [
      "Trained logistic_depr with best parameters: {'C': 10}\n",
      "Trained tree_depr with best parameters: {'max_depth': 5, 'min_samples_split': 2}\n",
      "Trained rf_depr with best parameters: {'max_depth': None, 'n_estimators': 100}\n",
      "Trained xgb_depr with best parameters: {'learning_rate': 0.1, 'max_depth': 3, 'n_estimators': 200}\n",
      "Trained ada_depr with best parameters: {'learning_rate': 1.5, 'n_estimators': 200}\n",
      "\n",
      "\n",
      "Trained logistic_nondepr with best parameters: {'C': 1}\n",
      "Trained tree_nondepr with best parameters: {'max_depth': 5, 'min_samples_split': 2}\n",
      "Trained rf_nondepr with best parameters: {'max_depth': 20, 'n_estimators': 200}\n",
      "Trained xgb_nondepr with best parameters: {'learning_rate': 0.1, 'max_depth': 3, 'n_estimators': 200}\n",
      "Trained ada_nondepr with best parameters: {'learning_rate': 1.5, 'n_estimators': 200}\n",
      "\n",
      "Total specialized base learners trained: 10\n"
     ]
    }
   ],
   "source": [
    "from sklearn.linear_model import LogisticRegression\n",
    "from sklearn.tree import DecisionTreeClassifier\n",
    "from sklearn.ensemble import RandomForestClassifier, AdaBoostClassifier\n",
    "import xgboost as xgb\n",
    "from sklearn.model_selection import GridSearchCV\n",
    "\n",
    "import warnings\n",
    "warnings.filterwarnings(\"ignore\", category=FutureWarning, module=\"sklearn.ensemble._weight_boosting\")\n",
    "\n",
    "# Define parameter grids for each model type.\n",
    "logistic_params = {'C': [0.01, 0.1, 1, 10]}\n",
    "tree_params = {'max_depth': [None, 5, 10], 'min_samples_split': [2, 5, 10]}\n",
    "rf_params = {'n_estimators': [100, 200], 'max_depth': [None, 10, 20]}\n",
    "xgb_params = {'learning_rate': [0.01, 0.1, 0.2], 'max_depth': [3, 5, 7], 'n_estimators': [100, 200]}\n",
    "ada_params = {'n_estimators': [50, 100, 200], 'learning_rate': [0.5, 1.0, 1.5]}\n",
    "\n",
    "# Create dictionaries to hold the specialized learners.\n",
    "# We want 5 models for depression = 1 (depressed) and 5 for depression = 0 (non-depressed).\n",
    "\n",
    "specialized_learners = {}\n",
    "\n",
    "# --- For the Depressed Group (label == 1) ---\n",
    "# Assume X_special_depr and y_special_depr are the enriched training data for depression=1.\n",
    "# Logistic Regression specialized for depressed samples.\n",
    "logistic_depr_grid = GridSearchCV(LogisticRegression(max_iter=1000), logistic_params, cv=5, scoring='accuracy')\n",
    "logistic_depr_grid.fit(bl_train_val_depressed_X, bl_train_val_depressed_y)\n",
    "specialized_learners[\"logistic_depr\"] = logistic_depr_grid.best_estimator_\n",
    "print(\"Trained logistic_depr with best parameters:\", logistic_depr_grid.best_params_)\n",
    "\n",
    "# Decision Tree specialized for depressed samples.\n",
    "tree_depr_grid = GridSearchCV(DecisionTreeClassifier(random_state=seed), tree_params, cv=5, scoring='accuracy')\n",
    "tree_depr_grid.fit(bl_train_val_depressed_X, bl_train_val_depressed_y)\n",
    "specialized_learners[\"tree_depr\"] = tree_depr_grid.best_estimator_\n",
    "print(\"Trained tree_depr with best parameters:\", tree_depr_grid.best_params_)\n",
    "\n",
    "# Random Forest specialized for depressed samples.\n",
    "rf_depr_grid = GridSearchCV(RandomForestClassifier(random_state=seed), rf_params, cv=5, scoring='accuracy')\n",
    "rf_depr_grid.fit(bl_train_val_depressed_X, bl_train_val_depressed_y)\n",
    "specialized_learners[\"rf_depr\"] = rf_depr_grid.best_estimator_\n",
    "print(\"Trained rf_depr with best parameters:\", rf_depr_grid.best_params_)\n",
    "\n",
    "# XGBoost specialized for depressed samples.\n",
    "xgb_depr_grid = GridSearchCV(xgb.XGBClassifier(eval_metric='logloss'), xgb_params, cv=5, scoring='accuracy')\n",
    "xgb_depr_grid.fit(bl_train_val_depressed_X, bl_train_val_depressed_y)\n",
    "specialized_learners[\"xgb_depr\"] = xgb_depr_grid.best_estimator_\n",
    "print(\"Trained xgb_depr with best parameters:\", xgb_depr_grid.best_params_)\n",
    "\n",
    "# AdaBoost specialized for depressed samples.\n",
    "ada_depr_grid = GridSearchCV(AdaBoostClassifier(algorithm='SAMME', random_state=seed), ada_params, cv=5, scoring='accuracy')\n",
    "ada_depr_grid.fit(bl_train_val_depressed_X, bl_train_val_depressed_y)\n",
    "specialized_learners[\"ada_depr\"] = ada_depr_grid.best_estimator_\n",
    "print(\"Trained ada_depr with best parameters:\", ada_depr_grid.best_params_)\n",
    "\n",
    "\n",
    "print(\"\\n\")\n",
    "\n",
    "# --- For the Non-Depressed Group (label == 0) ---\n",
    "# Assume X_special_non_depr and y_special_non_depr are the enriched training data for depression=0.\n",
    "# Logistic Regression specialized for non-depressed samples.\n",
    "logistic_non_depr_grid = GridSearchCV(LogisticRegression(max_iter=1000), logistic_params, cv=5, scoring='accuracy')\n",
    "logistic_non_depr_grid.fit(bl_train_val_happy_X, bl_train_val_happy_y)\n",
    "specialized_learners[\"logistic_nondepr\"] = logistic_non_depr_grid.best_estimator_\n",
    "print(\"Trained logistic_nondepr with best parameters:\", logistic_non_depr_grid.best_params_)\n",
    "\n",
    "# Decision Tree specialized for non-depressed samples.\n",
    "tree_non_depr_grid = GridSearchCV(DecisionTreeClassifier(random_state=seed), tree_params, cv=5, scoring='accuracy')\n",
    "tree_non_depr_grid.fit(bl_train_val_happy_X, bl_train_val_happy_y)\n",
    "specialized_learners[\"tree_nondepr\"] = tree_non_depr_grid.best_estimator_\n",
    "print(\"Trained tree_nondepr with best parameters:\", tree_non_depr_grid.best_params_)\n",
    "\n",
    "# Random Forest specialized for non-depressed samples.\n",
    "rf_non_depr_grid = GridSearchCV(RandomForestClassifier(random_state=seed), rf_params, cv=5, scoring='accuracy')\n",
    "rf_non_depr_grid.fit(bl_train_val_happy_X, bl_train_val_happy_y)\n",
    "specialized_learners[\"rf_nondepr\"] = rf_non_depr_grid.best_estimator_\n",
    "print(\"Trained rf_nondepr with best parameters:\", rf_non_depr_grid.best_params_)\n",
    "\n",
    "# XGBoost specialized for non-depressed samples.\n",
    "xgb_non_depr_grid = GridSearchCV(xgb.XGBClassifier(eval_metric='logloss'), xgb_params, cv=5, scoring='accuracy')\n",
    "xgb_non_depr_grid.fit(bl_train_val_happy_X, bl_train_val_happy_y)\n",
    "specialized_learners[\"xgb_nondepr\"] = xgb_non_depr_grid.best_estimator_\n",
    "print(\"Trained xgb_nondepr with best parameters:\", xgb_non_depr_grid.best_params_)\n",
    "\n",
    "# AdaBoost specialized for non-depressed samples.\n",
    "ada_non_depr_grid = GridSearchCV(AdaBoostClassifier(algorithm='SAMME', random_state=seed), ada_params, cv=5, scoring='accuracy')\n",
    "ada_non_depr_grid.fit(bl_train_val_happy_X, bl_train_val_happy_y)\n",
    "specialized_learners[\"ada_nondepr\"] = ada_non_depr_grid.best_estimator_\n",
    "print(\"Trained ada_nondepr with best parameters:\", ada_non_depr_grid.best_params_)\n",
    "\n",
    "print(\"\\nTotal specialized base learners trained:\", len(specialized_learners))"
   ]
  },
  {
   "cell_type": "code",
   "execution_count": 49,
   "metadata": {},
   "outputs": [
    {
     "name": "stdout",
     "output_type": "stream",
     "text": [
      "Tuning selection network...\n",
      "Training for k=1...\n",
      "Epoch 1/5...\n",
      "Epoch 2/5...\n",
      "Epoch 3/5...\n",
      "Epoch 4/5...\n",
      "Epoch 5/5...\n",
      "Training for k=2...\n",
      "Epoch 1/5...\n",
      "Epoch 2/5...\n",
      "Epoch 3/5...\n",
      "Epoch 4/5...\n",
      "Epoch 5/5...\n",
      "Training for k=3...\n",
      "Epoch 1/5...\n",
      "Epoch 2/5...\n",
      "Epoch 3/5...\n",
      "Epoch 4/5...\n",
      "Epoch 5/5...\n",
      "Training for k=4...\n",
      "Epoch 1/5...\n",
      "Epoch 2/5...\n",
      "Epoch 3/5...\n",
      "Epoch 4/5...\n",
      "Epoch 5/5...\n",
      "Training for k=5...\n",
      "Epoch 1/5...\n",
      "Epoch 2/5...\n",
      "Epoch 3/5...\n",
      "Epoch 4/5...\n",
      "Epoch 5/5...\n",
      "Training for k=6...\n",
      "Epoch 1/5...\n",
      "Epoch 2/5...\n",
      "Epoch 3/5...\n",
      "Epoch 4/5...\n",
      "Epoch 5/5...\n",
      "Training for k=7...\n",
      "Epoch 1/5...\n",
      "Epoch 2/5...\n",
      "Epoch 3/5...\n",
      "Epoch 4/5...\n",
      "Epoch 5/5...\n",
      "Training for k=8...\n",
      "Epoch 1/5...\n",
      "Epoch 2/5...\n",
      "Epoch 3/5...\n",
      "Epoch 4/5...\n",
      "Epoch 5/5...\n",
      "Training for k=9...\n",
      "Epoch 1/5...\n",
      "Epoch 2/5...\n",
      "Epoch 3/5...\n",
      "Epoch 4/5...\n",
      "Epoch 5/5...\n",
      "Training for k=10...\n",
      "Epoch 1/5...\n",
      "Epoch 2/5...\n",
      "Epoch 3/5...\n",
      "Epoch 4/5...\n",
      "Epoch 5/5...\n"
     ]
    },
    {
     "data": {
      "image/png": "[encoded data removed]",
      "text/plain": [
       "<Figure size 1000x600 with 1 Axes>"
      ]
     },
     "metadata": {},
     "output_type": "display_data"
    },
    {
     "data": {
      "image/png": "[encoded data removed]",
      "text/plain": [
       "<Figure size 1000x600 with 1 Axes>"
      ]
     },
     "metadata": {},
     "output_type": "display_data"
    },
    {
     "name": "stdout",
     "output_type": "stream",
     "text": [
      "Best k=2 with validation accuracy=0.9384\n"
     ]
    }
   ],
   "source": [
    "# Default selection net (Elias's paper alone)\n",
    "\n",
    "import importlib\n",
    "import selection_net_module\n",
    "\n",
    "# re-read the .py file and replace the module in memory\n",
    "importlib.reload(selection_net_module)\n",
    "\n",
    "from selection_net_module import SelectionNetwork, ensemble_forward, get_base_predictions, tune_selection_net\n",
    "\n",
    "\n",
    "ks = [1,2,3,4,5,6,7,8,9,10]\n",
    "\n",
    "feature_dim = train_X.shape[1]\n",
    "\n",
    "epoch = 5\n",
    "\n",
    "\n",
    "best_k_special, best_acc, best_state_special, results, losses, accs = tune_selection_net(\n",
    "    specialized_learners, train_X, train_y, val_X, val_y,\n",
    "    ks, feature_dim, num_epochs=epoch, epsilon=0.1, m=1000, batch_size=512, plot=True\n",
    ")\n",
    "\n",
    "print(f\"Best k={best_k_special} with validation accuracy={best_acc:.4f}\")"
   ]
  },
  {
   "cell_type": "markdown",
   "metadata": {},
   "source": [
    "# Greedy dynamic feature selection - Isak paper implementation - Implementation in \"dynamic_selection\" folder\n",
    "\n",
    "[Greedy Dynamic Feature Slection](https://proceedings.mlr.press/v202/covert23a/covert23a.pdf) <--- Link\n",
    "\n"
   ]
  },
  {
   "cell_type": "markdown",
   "metadata": {},
   "source": [
    "## Greedy dynamic feature selection - Isak Paper"
   ]
  },
  {
   "cell_type": "markdown",
   "metadata": {},
   "source": [
    "### Making tensors and loaders"
   ]
  },
  {
   "cell_type": "markdown",
   "metadata": {},
   "source": [
    "### Instantiate the net and pretraining"
   ]
  },
  {
   "cell_type": "code",
   "execution_count": 50,
   "metadata": {},
   "outputs": [],
   "source": [
    "# Creating the dataloaders for greedy dynamic selection\n",
    "\n",
    "batch_size = 128\n",
    "\n",
    "# Full original split\n",
    "train_loader,   val_loader   = make_loader(\n",
    "    train_X,   train_y,\n",
    "    val_X,     val_y,\n",
    "    batch_size)"
   ]
  },
  {
   "cell_type": "code",
   "execution_count": 51,
   "metadata": {},
   "outputs": [
    {
     "name": "stdout",
     "output_type": "stream",
     "text": [
      " Running full model\n"
     ]
    },
    {
     "name": "stderr",
     "output_type": "stream",
     "text": [
      "x:\\Anaconda\\envs\\367A\\lib\\site-packages\\torch\\optim\\lr_scheduler.py:62: UserWarning: The verbose parameter is deprecated. Please use get_last_lr() to access the learning rate.\n",
      "  warnings.warn(\n"
     ]
    },
    {
     "name": "stdout",
     "output_type": "stream",
     "text": [
      "--------Epoch 1--------\n",
      "Val loss = 0.2836\n",
      "\n",
      "--------Epoch 2--------\n",
      "Val loss = 0.2833\n",
      "\n",
      "--------Epoch 3--------\n",
      "Val loss = 0.2765\n",
      "\n",
      "--------Epoch 4--------\n",
      "Val loss = 0.2775\n",
      "\n",
      "--------Epoch 5--------\n",
      "Val loss = 0.2762\n",
      "\n",
      "--------Epoch 6--------\n",
      "Val loss = 0.2773\n",
      "\n",
      "--------Epoch 7--------\n",
      "Val loss = 0.2741\n",
      "\n",
      "--------Epoch 8--------\n",
      "Val loss = 0.2741\n",
      "\n",
      "--------Epoch 9--------\n",
      "Val loss = 0.2740\n",
      "\n",
      "--------Epoch 10--------\n",
      "Val loss = 0.2716\n",
      "\n",
      "--------Epoch 11--------\n",
      "Val loss = 0.2719\n",
      "\n",
      "--------Epoch 12--------\n",
      "Val loss = 0.2720\n",
      "\n",
      "--------Epoch 13--------\n",
      "Val loss = 0.2710\n",
      "\n",
      "--------Epoch 14--------\n",
      "Val loss = 0.2692\n",
      "\n",
      "--------Epoch 15--------\n",
      "Val loss = 0.2685\n",
      "\n",
      "--------Epoch 16--------\n",
      "Val loss = 0.2707\n",
      "\n",
      "--------Epoch 17--------\n",
      "Val loss = 0.2736\n",
      "\n",
      "--------Epoch 18--------\n",
      "Val loss = 0.2734\n",
      "\n",
      "--------Epoch 19--------\n",
      "Val loss = 0.2684\n",
      "\n",
      "--------Epoch 20--------\n",
      "Val loss = 0.2688\n",
      "\n",
      "--------Epoch 21--------\n",
      "Val loss = 0.2669\n",
      "\n",
      "--------Epoch 22--------\n",
      "Val loss = 0.2691\n",
      "\n",
      "--------Epoch 23--------\n",
      "Val loss = 0.2693\n",
      "\n",
      "--------Epoch 24--------\n",
      "Val loss = 0.2670\n",
      "\n",
      "--------Epoch 25--------\n",
      "Val loss = 0.2697\n",
      "\n",
      "Stopping early at epoch 25\n"
     ]
    }
   ],
   "source": [
    "input_size = 20\n",
    "output_size = 2 \n",
    "dropout_rate = 0.4\n",
    "hidden_size = 64\n",
    "\n",
    "\n",
    "predicting_net= nn.Sequential(\n",
    "    nn.Linear(2*input_size,hidden_size),\n",
    "    nn.ReLU(),\n",
    "    nn.Dropout(dropout_rate),\n",
    "    nn.Linear(hidden_size,hidden_size),\n",
    "    nn.ReLU(),\n",
    "    nn.Dropout(dropout_rate),\n",
    "    nn.Linear(hidden_size,output_size))\n",
    "\n",
    "selecting_net = nn.Sequential(\n",
    "    nn.Linear(2 * input_size, hidden_size),\n",
    "    nn.ReLU(),\n",
    "    nn.Dropout(dropout_rate),\n",
    "    nn.Linear(hidden_size, hidden_size),\n",
    "    nn.ReLU(),\n",
    "    nn.Dropout(dropout_rate),\n",
    "    nn.Linear(hidden_size, input_size ))\n",
    "\n",
    "\n",
    "mask_layer_full_model = ds.utils.MaskLayer(append=True)\n",
    "\n",
    "\n",
    "print(' Running full model')\n",
    "pretrain_full = MaskingPretrainer(predicting_net, mask_layer_full_model)\n",
    "pretrain_full.fit(\n",
    "    train_loader,\n",
    "    val_loader,\n",
    "    lr=1e-3,\n",
    "    nepochs=100,\n",
    "    loss_fn=nn.CrossEntropyLoss(),\n",
    "    verbose=True)"
   ]
  },
  {
   "cell_type": "markdown",
   "metadata": {},
   "source": [
    "## Training"
   ]
  },
  {
   "cell_type": "code",
   "execution_count": 52,
   "metadata": {},
   "outputs": [
    {
     "name": "stdout",
     "output_type": "stream",
     "text": [
      " Running full model\n",
      "Starting training with temp = 1.0000\n",
      "\n",
      "--------Epoch 1 (1 total)--------\n",
      "Val loss = 0.1709, Zero-temp loss = 0.1760\n",
      "\n",
      "--------Epoch 2 (2 total)--------\n",
      "Val loss = 0.1728, Zero-temp loss = 0.1784\n",
      "\n",
      "--------Epoch 3 (3 total)--------\n",
      "Val loss = 0.1706, Zero-temp loss = 0.1767\n",
      "\n",
      "Stopping temp = 1.0000 at epoch 3\n",
      "\n",
      "Starting training with temp = 0.5623\n",
      "\n",
      "--------Epoch 1 (4 total)--------\n",
      "Val loss = 0.1709, Zero-temp loss = 0.1742\n",
      "\n",
      "--------Epoch 2 (5 total)--------\n",
      "Val loss = 0.1709, Zero-temp loss = 0.1743\n",
      "\n",
      "--------Epoch 3 (6 total)--------\n",
      "Val loss = 0.1724, Zero-temp loss = 0.1766\n",
      "\n",
      "Stopping temp = 0.5623 at epoch 3\n",
      "\n",
      "Starting training with temp = 0.3162\n",
      "\n",
      "--------Epoch 1 (7 total)--------\n",
      "Val loss = 0.1716, Zero-temp loss = 0.1720\n",
      "\n",
      "--------Epoch 2 (8 total)--------\n",
      "Val loss = 0.1781, Zero-temp loss = 0.1786\n",
      "\n",
      "--------Epoch 3 (9 total)--------\n",
      "Val loss = 0.1716, Zero-temp loss = 0.1725\n",
      "\n",
      "Stopping temp = 0.3162 at epoch 3\n",
      "\n",
      "Starting training with temp = 0.1778\n",
      "\n",
      "--------Epoch 1 (10 total)--------\n",
      "Val loss = 0.1721, Zero-temp loss = 0.1722\n",
      "\n",
      "--------Epoch 2 (11 total)--------\n",
      "Val loss = 0.1731, Zero-temp loss = 0.1732\n",
      "\n",
      "--------Epoch 3 (12 total)--------\n",
      "Val loss = 0.1725, Zero-temp loss = 0.1725\n",
      "\n",
      "Stopping temp = 0.1778 at epoch 3\n",
      "\n",
      "Starting training with temp = 0.1000\n",
      "\n",
      "--------Epoch 1 (13 total)--------\n",
      "Val loss = 0.1726, Zero-temp loss = 0.1726\n",
      "\n",
      "--------Epoch 2 (14 total)--------\n",
      "Val loss = 0.1718, Zero-temp loss = 0.1718\n",
      "\n",
      "--------Epoch 3 (15 total)--------\n",
      "Val loss = 0.1720, Zero-temp loss = 0.1720\n",
      "\n",
      "Stopping temp = 0.1000 at epoch 3\n",
      "\n"
     ]
    }
   ],
   "source": [
    "gdfs_full_model = GreedyDynamicSelection(selecting_net, predicting_net, mask_layer_full_model)\n",
    "print(' Running full model')\n",
    "gdfs_full_model.fit(\n",
    "    train_loader,\n",
    "    val_loader,\n",
    "    lr=1e-3,\n",
    "    nepochs=3,\n",
    "    max_features=20,\n",
    "    loss_fn=nn.CrossEntropyLoss(),\n",
    "    verbose=True)"
   ]
  },
  {
   "cell_type": "code",
   "execution_count": 54,
   "metadata": {},
   "outputs": [],
   "source": [
    "# Testing the val accuracy of the full model\n",
    "# val_acc_full = gdfs_full_model.score(val_loader)\n"
   ]
  },
  {
   "cell_type": "markdown",
   "metadata": {},
   "source": [
    "# Combined selection net"
   ]
  },
  {
   "cell_type": "code",
   "execution_count": 55,
   "metadata": {},
   "outputs": [
    {
     "name": "stdout",
     "output_type": "stream",
     "text": [
      " Running Happy\n",
      "--------Epoch 1--------\n",
      "Val loss = 0.0442\n",
      "\n",
      "--------Epoch 2--------\n",
      "Val loss = 0.0446\n",
      "\n",
      "--------Epoch 3--------\n",
      "Val loss = 0.0439\n",
      "\n",
      "--------Epoch 4--------\n",
      "Val loss = 0.0456\n",
      "\n",
      "--------Epoch 5--------\n",
      "Val loss = 0.0427\n",
      "\n",
      "--------Epoch 6--------\n",
      "Val loss = 0.0444\n",
      "\n",
      "--------Epoch 7--------\n",
      "Val loss = 0.0417\n",
      "\n",
      "--------Epoch 8--------\n",
      "Val loss = 0.0436\n",
      "\n",
      "--------Epoch 9--------\n",
      "Val loss = 0.0449\n",
      "\n",
      "--------Epoch 10--------\n",
      "Val loss = 0.0435\n",
      "\n",
      "--------Epoch 11--------\n",
      "Val loss = 0.0430\n",
      "\n",
      "Stopping early at epoch 11\n",
      " Running depressed\n",
      "--------Epoch 1--------\n",
      "Val loss = 0.3499\n",
      "\n",
      "--------Epoch 2--------\n",
      "Val loss = 0.3011\n",
      "\n",
      "--------Epoch 3--------\n",
      "Val loss = 0.2865\n",
      "\n",
      "--------Epoch 4--------\n",
      "Val loss = 0.2701\n",
      "\n",
      "--------Epoch 5--------\n",
      "Val loss = 0.2817\n",
      "\n",
      "--------Epoch 6--------\n",
      "Val loss = 0.2865\n",
      "\n",
      "--------Epoch 7--------\n",
      "Val loss = 0.2847\n",
      "\n",
      "--------Epoch 8--------\n",
      "Val loss = 0.2794\n",
      "\n",
      "Stopping early at epoch 8\n",
      " Running subtrain\n",
      "--------Epoch 1--------\n",
      "Val loss = 0.2666\n",
      "\n",
      "--------Epoch 2--------\n",
      "Val loss = 0.2711\n",
      "\n",
      "--------Epoch 3--------\n",
      "Val loss = 0.2647\n",
      "\n",
      "--------Epoch 4--------\n",
      "Val loss = 0.2666\n",
      "\n",
      "--------Epoch 5--------\n",
      "Val loss = 0.2637\n",
      "\n",
      "--------Epoch 6--------\n",
      "Val loss = 0.2675\n",
      "\n",
      "--------Epoch 7--------\n",
      "Val loss = 0.2613\n",
      "\n",
      "--------Epoch 8--------\n",
      "Val loss = 0.2679\n",
      "\n",
      "--------Epoch 9--------\n",
      "Val loss = 0.2697\n",
      "\n",
      "--------Epoch 10--------\n",
      "Val loss = 0.2667\n",
      "\n",
      "--------Epoch 11--------\n",
      "Val loss = 0.2642\n",
      "\n",
      "Stopping early at epoch 11\n",
      " Running Happy\n",
      "Starting training with temp = 1.0000\n",
      "\n",
      "--------Epoch 1 (1 total)--------\n",
      "Val loss = 0.0317, Zero-temp loss = 0.0320\n",
      "\n",
      "--------Epoch 2 (2 total)--------\n",
      "Val loss = 0.0321, Zero-temp loss = 0.0326\n",
      "\n",
      "--------Epoch 3 (3 total)--------\n",
      "Val loss = 0.0317, Zero-temp loss = 0.0322\n",
      "\n",
      "Stopping temp = 1.0000 at epoch 3\n",
      "\n",
      "Starting training with temp = 0.5623\n",
      "\n",
      "--------Epoch 1 (4 total)--------\n",
      "Val loss = 0.0327, Zero-temp loss = 0.0329\n",
      "\n",
      "--------Epoch 2 (5 total)--------\n",
      "Val loss = 0.0318, Zero-temp loss = 0.0319\n",
      "\n",
      "--------Epoch 3 (6 total)--------\n",
      "Val loss = 0.0318, Zero-temp loss = 0.0319\n",
      "\n",
      "Stopping temp = 0.5623 at epoch 3\n",
      "\n",
      "Starting training with temp = 0.3162\n",
      "\n",
      "--------Epoch 1 (7 total)--------\n",
      "Val loss = 0.0319, Zero-temp loss = 0.0320\n",
      "\n",
      "--------Epoch 2 (8 total)--------\n",
      "Val loss = 0.0321, Zero-temp loss = 0.0321\n",
      "\n",
      "--------Epoch 3 (9 total)--------\n",
      "Val loss = 0.0319, Zero-temp loss = 0.0320\n",
      "\n",
      "Stopping temp = 0.3162 at epoch 3\n",
      "\n",
      "Starting training with temp = 0.1778\n",
      "\n",
      "--------Epoch 1 (10 total)--------\n",
      "Val loss = 0.0321, Zero-temp loss = 0.0321\n",
      "\n",
      "--------Epoch 2 (11 total)--------\n",
      "Val loss = 0.0321, Zero-temp loss = 0.0321\n",
      "\n",
      "--------Epoch 3 (12 total)--------\n",
      "Val loss = 0.0324, Zero-temp loss = 0.0324\n",
      "\n",
      "Stopping temp = 0.1778 at epoch 3\n",
      "\n",
      "Starting training with temp = 0.1000\n",
      "\n",
      "--------Epoch 1 (13 total)--------\n",
      "Val loss = 0.0319, Zero-temp loss = 0.0319\n",
      "\n",
      "--------Epoch 2 (14 total)--------\n",
      "Val loss = 0.0323, Zero-temp loss = 0.0323\n",
      "\n",
      "--------Epoch 3 (15 total)--------\n",
      "Val loss = 0.0319, Zero-temp loss = 0.0319\n",
      "\n",
      "Stopping temp = 0.1000 at epoch 3\n",
      "\n",
      " Running depressed\n",
      "Starting training with temp = 1.0000\n",
      "\n",
      "--------Epoch 1 (1 total)--------\n",
      "Val loss = 0.2411, Zero-temp loss = 0.2441\n",
      "\n",
      "--------Epoch 2 (2 total)--------\n",
      "Val loss = 0.1882, Zero-temp loss = 0.1968\n",
      "\n",
      "--------Epoch 3 (3 total)--------\n",
      "Val loss = 0.1801, Zero-temp loss = 0.1883\n",
      "\n",
      "Stopping temp = 1.0000 at epoch 3\n",
      "\n",
      "Starting training with temp = 0.5623\n",
      "\n",
      "--------Epoch 1 (4 total)--------\n",
      "Val loss = 0.1723, Zero-temp loss = 0.1750\n",
      "\n",
      "--------Epoch 2 (5 total)--------\n",
      "Val loss = 0.1709, Zero-temp loss = 0.1726\n",
      "\n",
      "--------Epoch 3 (6 total)--------\n",
      "Val loss = 0.1713, Zero-temp loss = 0.1724\n",
      "\n",
      "Stopping temp = 0.5623 at epoch 3\n",
      "\n",
      "Starting training with temp = 0.3162\n",
      "\n",
      "--------Epoch 1 (7 total)--------\n",
      "Val loss = 0.1706, Zero-temp loss = 0.1712\n",
      "\n",
      "--------Epoch 2 (8 total)--------\n",
      "Val loss = 0.1687, Zero-temp loss = 0.1688\n",
      "\n",
      "--------Epoch 3 (9 total)--------\n",
      "Val loss = 0.1695, Zero-temp loss = 0.1697\n",
      "\n",
      "Stopping temp = 0.3162 at epoch 3\n",
      "\n",
      "Starting training with temp = 0.1778\n",
      "\n",
      "--------Epoch 1 (10 total)--------\n",
      "Val loss = 0.1705, Zero-temp loss = 0.1706\n",
      "\n",
      "--------Epoch 2 (11 total)--------\n",
      "Val loss = 0.1685, Zero-temp loss = 0.1685\n",
      "\n",
      "--------Epoch 3 (12 total)--------\n",
      "Val loss = 0.1690, Zero-temp loss = 0.1691\n",
      "\n",
      "Stopping temp = 0.1778 at epoch 3\n",
      "\n",
      "Starting training with temp = 0.1000\n",
      "\n",
      "--------Epoch 1 (13 total)--------\n",
      "Val loss = 0.1692, Zero-temp loss = 0.1692\n",
      "\n",
      "--------Epoch 2 (14 total)--------\n",
      "Val loss = 0.1704, Zero-temp loss = 0.1704\n",
      "\n",
      "--------Epoch 3 (15 total)--------\n",
      "Val loss = 0.1687, Zero-temp loss = 0.1687\n",
      "\n",
      "Stopping temp = 0.1000 at epoch 3\n",
      "\n",
      " Running subtrain\n",
      "Starting training with temp = 1.0000\n",
      "\n",
      "--------Epoch 1 (1 total)--------\n",
      "Val loss = 0.1625, Zero-temp loss = 0.1678\n",
      "\n",
      "--------Epoch 2 (2 total)--------\n",
      "Val loss = 0.1624, Zero-temp loss = 0.1683\n",
      "\n",
      "--------Epoch 3 (3 total)--------\n",
      "Val loss = 0.1607, Zero-temp loss = 0.1680\n",
      "\n",
      "Stopping temp = 1.0000 at epoch 3\n",
      "\n",
      "Starting training with temp = 0.5623\n",
      "\n",
      "--------Epoch 1 (4 total)--------\n",
      "Val loss = 0.1638, Zero-temp loss = 0.1670\n",
      "\n",
      "--------Epoch 2 (5 total)--------\n",
      "Val loss = 0.1628, Zero-temp loss = 0.1668\n",
      "\n",
      "--------Epoch 3 (6 total)--------\n",
      "Val loss = 0.1615, Zero-temp loss = 0.1653\n",
      "\n",
      "Stopping temp = 0.5623 at epoch 3\n",
      "\n",
      "Starting training with temp = 0.3162\n",
      "\n",
      "--------Epoch 1 (7 total)--------\n",
      "Val loss = 0.1625, Zero-temp loss = 0.1635\n",
      "\n",
      "--------Epoch 2 (8 total)--------\n",
      "Val loss = 0.1646, Zero-temp loss = 0.1655\n",
      "\n",
      "--------Epoch 3 (9 total)--------\n",
      "Val loss = 0.1632, Zero-temp loss = 0.1642\n",
      "\n",
      "Stopping temp = 0.3162 at epoch 3\n",
      "\n",
      "Starting training with temp = 0.1778\n",
      "\n",
      "--------Epoch 1 (10 total)--------\n",
      "Val loss = 0.1638, Zero-temp loss = 0.1638\n",
      "\n",
      "--------Epoch 2 (11 total)--------\n",
      "Val loss = 0.1629, Zero-temp loss = 0.1629\n",
      "\n",
      "--------Epoch 3 (12 total)--------\n",
      "Val loss = 0.1634, Zero-temp loss = 0.1634\n",
      "\n",
      "Stopping temp = 0.1778 at epoch 3\n",
      "\n",
      "Starting training with temp = 0.1000\n",
      "\n",
      "--------Epoch 1 (13 total)--------\n",
      "Val loss = 0.1642, Zero-temp loss = 0.1642\n",
      "\n",
      "--------Epoch 2 (14 total)--------\n",
      "Val loss = 0.1640, Zero-temp loss = 0.1640\n",
      "\n",
      "--------Epoch 3 (15 total)--------\n",
      "Val loss = 0.1650, Zero-temp loss = 0.1651\n",
      "\n",
      "Stopping temp = 0.1000 at epoch 3\n",
      "\n"
     ]
    }
   ],
   "source": [
    "# Base learners dataloaders\n",
    "# 1) Depressed\n",
    "bl_dep_train_loader,    bl_dep_val_loader    = make_loader(\n",
    "    bl_train_depressed_X, bl_train_depressed_y, bl_val_depressed_X, bl_val_depressed_y, batch_size)\n",
    "\n",
    "# 2) Happy\n",
    "bl_happy_train_loader,  bl_happy_val_loader  = make_loader(\n",
    "    bl_train_happy_X, bl_train_happy_y, bl_val_happy_X, bl_val_happy_y, batch_size)\n",
    "\n",
    "# 3) bs_train and bs_val\n",
    "bl_train_loader,    bl_val_loader    = make_loader(\n",
    "    bl_train_X, bl_train_y,\n",
    "    bl_val_X,   bl_val_y,\n",
    "    batch_size)\n",
    "\n",
    "\n",
    "\n",
    "bl_mask_layer_happy = ds.utils.MaskLayer(append=True)\n",
    "\n",
    "bl_mask_layer_dep = ds.utils.MaskLayer(append=True)\n",
    "\n",
    "bl_mask_layer_full = ds.utils.MaskLayer(append=True)\n",
    "\n",
    "\n",
    "# Pretraining\n",
    "\n",
    "print(' Running Happy')\n",
    "pretrain_happy = MaskingPretrainer(predicting_net, bl_mask_layer_happy)\n",
    "pretrain_happy.fit(\n",
    "    bl_happy_train_loader,\n",
    "    bl_happy_val_loader,\n",
    "    lr=1e-3,\n",
    "    nepochs=100,\n",
    "    loss_fn=nn.CrossEntropyLoss(),\n",
    "    verbose=True)\n",
    "\n",
    "print(' Running depressed')\n",
    "pretrain_dep = MaskingPretrainer(predicting_net, bl_mask_layer_dep)\n",
    "pretrain_dep.fit(\n",
    "    bl_dep_train_loader,\n",
    "    bl_dep_val_loader,\n",
    "    lr=1e-3,\n",
    "    nepochs=100,\n",
    "    loss_fn=nn.CrossEntropyLoss(),\n",
    "    verbose=True)\n",
    "\n",
    "\n",
    "print(' Running subtrain')\n",
    "pretrain_sub = MaskingPretrainer(predicting_net, bl_mask_layer_full)\n",
    "pretrain_sub.fit(\n",
    "    bl_train_loader,\n",
    "    bl_val_loader,\n",
    "    lr=1e-3,\n",
    "    nepochs=100,\n",
    "    loss_fn=nn.CrossEntropyLoss(),\n",
    "    verbose=True)\n",
    "\n",
    "\n",
    "# Training\n",
    "\n",
    "bl_gdfs_happy = GreedyDynamicSelection(selecting_net, predicting_net, bl_mask_layer_happy)\n",
    "print(' Running Happy')\n",
    "bl_gdfs_happy.fit(\n",
    "    bl_happy_train_loader,\n",
    "    bl_happy_val_loader,\n",
    "    lr=1e-3,\n",
    "    nepochs=3,\n",
    "    max_features=20,\n",
    "    loss_fn=nn.CrossEntropyLoss(),\n",
    "    verbose=True)\n",
    "\n",
    "bl_gdfs_dep = GreedyDynamicSelection(selecting_net, predicting_net, bl_mask_layer_dep)\n",
    "print(' Running depressed')\n",
    "bl_gdfs_dep.fit(\n",
    "    bl_dep_train_loader,\n",
    "    bl_dep_val_loader,\n",
    "    lr=1e-3,\n",
    "    nepochs=3,\n",
    "    max_features=20,\n",
    "    loss_fn=nn.CrossEntropyLoss(),\n",
    "    verbose=True)\n",
    "\n",
    "bl_gdfs_sub = GreedyDynamicSelection(selecting_net, predicting_net, bl_mask_layer_full)\n",
    "print(' Running subtrain')\n",
    "bl_gdfs_sub.fit(\n",
    "    bl_train_loader,\n",
    "    bl_val_loader,\n",
    "    lr=1e-3,\n",
    "    nepochs=3,\n",
    "    max_features=20,\n",
    "    loss_fn=nn.CrossEntropyLoss(),\n",
    "    verbose=True)\n",
    "\n"
   ]
  },
  {
   "cell_type": "code",
   "execution_count": 56,
   "metadata": {},
   "outputs": [],
   "source": [
    "class GreedyProbaWrapper:\n",
    "    def __init__(self, greedy_model, max_features=20):\n",
    "        # force the underlying model (and its helper device) to CPU\n",
    "        self.greedy = greedy_model.cpu()\n",
    "        self.max_features = max_features\n",
    "\n",
    "    def predict_proba(self, X):\n",
    "        # turn X into a plain numpy array\n",
    "        X_arr = X.values if hasattr(X, \"values\") else X\n",
    "        # build a CPU tensor (so m = zeros(...) also lands on CPU)\n",
    "        X_t   = torch.tensor(X_arr, dtype=torch.float32)  \n",
    "        # forward returns (logits, mask, m)\n",
    "        logits, mask, m = self.greedy(X_t, self.max_features)\n",
    "        # sigmoid → probabilities\n",
    "        probs = torch.sigmoid(logits)\n",
    "        # back to numpy\n",
    "        return probs.detach().cpu().numpy()\n",
    "\n",
    "\n",
    "# Creating three base learners from greedy dynamic selection\n",
    "# 1) Full dataset\n",
    "bl_greedy_wrapped_full_sub = GreedyProbaWrapper(bl_gdfs_sub, max_features=20)\n",
    "\n",
    "# 2) Depressed dataset\n",
    "bl_greedy_wrapped_dep = GreedyProbaWrapper(bl_gdfs_dep, max_features=20)\n",
    "\n",
    "# 3) Happy dataset\n",
    "bl_greedy_wrapped_happy = GreedyProbaWrapper(bl_gdfs_happy, max_features=20)"
   ]
  },
  {
   "cell_type": "code",
   "execution_count": null,
   "metadata": {},
   "outputs": [
    {
     "name": "stdout",
     "output_type": "stream",
     "text": [
      "The total amount of candidates:  32\n"
     ]
    }
   ],
   "source": [
    "# Creating three different base learners from improved random forest\n",
    "# 1) For the full dataset\n",
    "bl_improved_random_forest, _, _ = hypertuned_model(bl_train_val, bl_train_X, bl_train_y, bl_val_X, bl_val_y)\n",
    "\n",
    "# 2) For the depressed group\n",
    "bl_improved_random_forest_dep,_ ,_ = hypertuned_model(bl_train_val_depressed, bl_train_depressed_X, bl_train_depressed_y, bl_val_depressed_X, bl_val_depressed_y)\n",
    "\n",
    "# 3) For the happy group\n",
    "bl_improved_random_forest_happy,_ ,_ = hypertuned_model(bl_train_val_happy, bl_train_happy_X, bl_train_happy_y, bl_val_happy_X, bl_val_happy_y)\n",
    "\n",
    "\n",
    "# Creating three different base learners from the default random forest\n",
    "# 1) For the full dataset\n",
    "bl_base_model_random_forest,_ = Random_forest(seed, bl_train_val_X, bl_train_val_y)\n",
    "\n",
    "# 2) For the depressed group\n",
    "bl_base_model_random_forest_depressed,_ = Random_forest(seed, bl_train_val_depressed_X, bl_train_val_depressed_y)\n",
    "\n",
    "# 3) For the happy group\n",
    "bl_base_model_random_forest_happy,_ = Random_forest(seed, bl_train_val_happy_X, bl_train_val_happy_y)\n",
    "\n",
    "\n",
    "\n",
    "# Creating a dictionary of all the base learners\n",
    "combined_base_learners = {\n",
    "    \"base model Random Forest\": bl_base_model_random_forest,\n",
    "    \"base model Random Forest depr\": bl_base_model_random_forest_depressed,\n",
    "    \"base model Random Forest happy\": bl_base_model_random_forest_happy,\n",
    "    \"improved random forest\": bl_improved_random_forest,\n",
    "    \"improved random forest depr\": bl_improved_random_forest_dep,\n",
    "    \"improved random forest happy\": bl_improved_random_forest_happy,\n",
    "    \"greedy\": bl_greedy_wrapped_full_sub,\n",
    "    \"greedy depressed\": bl_greedy_wrapped_dep,\n",
    "    \"greedy happy\": bl_greedy_wrapped_happy\n",
    "}"
   ]
  },
  {
   "cell_type": "code",
   "execution_count": null,
   "metadata": {},
   "outputs": [
    {
     "name": "stdout",
     "output_type": "stream",
     "text": [
      "Tuning selection network...\n",
      "Training for k=1...\n"
     ]
    },
    {
     "ename": "AttributeError",
     "evalue": "'tuple' object has no attribute 'predict_proba'",
     "output_type": "error",
     "traceback": [
      "\u001b[1;31m---------------------------------------------------------------------------\u001b[0m",
      "\u001b[1;31mAttributeError\u001b[0m                            Traceback (most recent call last)",
      "Cell \u001b[1;32mIn[58], line 9\u001b[0m\n\u001b[0;32m      5\u001b[0m feature_dim \u001b[38;5;241m=\u001b[39m train_X\u001b[38;5;241m.\u001b[39mshape[\u001b[38;5;241m1\u001b[39m]\n\u001b[0;32m      7\u001b[0m epoch \u001b[38;5;241m=\u001b[39m \u001b[38;5;241m5\u001b[39m\n\u001b[1;32m----> 9\u001b[0m best_k_combined, best_acc, best_state_combined, results, losses, accs \u001b[38;5;241m=\u001b[39m \u001b[43mtune_selection_net\u001b[49m\u001b[43m(\u001b[49m\n\u001b[0;32m     10\u001b[0m \u001b[43m    \u001b[49m\u001b[43mcombined_base_learners\u001b[49m\u001b[43m,\u001b[49m\u001b[43m \u001b[49m\u001b[43mtrain_X\u001b[49m\u001b[43m,\u001b[49m\u001b[43m \u001b[49m\u001b[43mtrain_y\u001b[49m\u001b[43m,\u001b[49m\u001b[43m \u001b[49m\u001b[43mval_X\u001b[49m\u001b[43m,\u001b[49m\u001b[43m \u001b[49m\u001b[43mval_y\u001b[49m\u001b[43m,\u001b[49m\n\u001b[0;32m     11\u001b[0m \u001b[43m    \u001b[49m\u001b[43mks\u001b[49m\u001b[43m,\u001b[49m\u001b[43m \u001b[49m\u001b[43mfeature_dim\u001b[49m\u001b[43m,\u001b[49m\u001b[43m \u001b[49m\u001b[43mnum_epochs\u001b[49m\u001b[38;5;241;43m=\u001b[39;49m\u001b[43mepoch\u001b[49m\u001b[43m,\u001b[49m\u001b[43m \u001b[49m\u001b[43mepsilon\u001b[49m\u001b[38;5;241;43m=\u001b[39;49m\u001b[38;5;241;43m0.1\u001b[39;49m\u001b[43m,\u001b[49m\u001b[43m \u001b[49m\u001b[43mm\u001b[49m\u001b[38;5;241;43m=\u001b[39;49m\u001b[38;5;241;43m1000\u001b[39;49m\u001b[43m,\u001b[49m\u001b[43m \u001b[49m\u001b[43mbatch_size\u001b[49m\u001b[38;5;241;43m=\u001b[39;49m\u001b[38;5;241;43m512\u001b[39;49m\u001b[43m,\u001b[49m\u001b[43mplot\u001b[49m\u001b[38;5;241;43m=\u001b[39;49m\u001b[43m \u001b[49m\u001b[38;5;28;43;01mTrue\u001b[39;49;00m\n\u001b[0;32m     12\u001b[0m \u001b[43m)\u001b[49m\n\u001b[0;32m     14\u001b[0m \u001b[38;5;28mprint\u001b[39m(\u001b[38;5;124mf\u001b[39m\u001b[38;5;124m\"\u001b[39m\u001b[38;5;124mBest k=\u001b[39m\u001b[38;5;132;01m{\u001b[39;00mbest_k_combined\u001b[38;5;132;01m}\u001b[39;00m\u001b[38;5;124m with validation accuracy=\u001b[39m\u001b[38;5;132;01m{\u001b[39;00mbest_acc\u001b[38;5;132;01m:\u001b[39;00m\u001b[38;5;124m.4f\u001b[39m\u001b[38;5;132;01m}\u001b[39;00m\u001b[38;5;124m\"\u001b[39m)\n",
      "File \u001b[1;32mx:\\Koding\\Skole\\367A\\Competition-Exploring-Mental-Health-Data\\selection_net_module.py:276\u001b[0m, in \u001b[0;36mtune_selection_net\u001b[1;34m(learners, X_train, y_train, X_val, y_val, ks, input_size, num_epochs, epsilon, m, batch_size, plot)\u001b[0m\n\u001b[0;32m    274\u001b[0m \u001b[38;5;28;01mfor\u001b[39;00m k \u001b[38;5;129;01min\u001b[39;00m ks:\n\u001b[0;32m    275\u001b[0m     \u001b[38;5;28mprint\u001b[39m(\u001b[38;5;124mf\u001b[39m\u001b[38;5;124m\"\u001b[39m\u001b[38;5;124mTraining for k=\u001b[39m\u001b[38;5;132;01m{\u001b[39;00mk\u001b[38;5;132;01m}\u001b[39;00m\u001b[38;5;124m...\u001b[39m\u001b[38;5;124m\"\u001b[39m)\n\u001b[1;32m--> 276\u001b[0m     acc, state, losses, accs \u001b[38;5;241m=\u001b[39m \u001b[43mtrain_selection_for_k\u001b[49m\u001b[43m(\u001b[49m\n\u001b[0;32m    277\u001b[0m \u001b[43m        \u001b[49m\u001b[43mlearners\u001b[49m\u001b[43m,\u001b[49m\u001b[43m \u001b[49m\u001b[43mX_train\u001b[49m\u001b[43m,\u001b[49m\u001b[43m \u001b[49m\u001b[43my_train\u001b[49m\u001b[43m,\u001b[49m\u001b[43m \u001b[49m\u001b[43mX_val\u001b[49m\u001b[43m,\u001b[49m\u001b[43m \u001b[49m\u001b[43my_val\u001b[49m\u001b[43m,\u001b[49m\n\u001b[0;32m    278\u001b[0m \u001b[43m        \u001b[49m\u001b[43minput_size\u001b[49m\u001b[43m,\u001b[49m\u001b[43m \u001b[49m\u001b[43mk\u001b[49m\u001b[43m,\u001b[49m\u001b[43m \u001b[49m\u001b[43mnum_epochs\u001b[49m\u001b[43m,\u001b[49m\u001b[43m \u001b[49m\u001b[43mepsilon\u001b[49m\u001b[43m,\u001b[49m\u001b[43m \u001b[49m\u001b[43mm\u001b[49m\u001b[43m,\u001b[49m\u001b[43m \u001b[49m\u001b[43mbatch_size\u001b[49m\n\u001b[0;32m    279\u001b[0m \u001b[43m    \u001b[49m\u001b[43m)\u001b[49m\n\u001b[0;32m    280\u001b[0m     results[k] \u001b[38;5;241m=\u001b[39m acc\n\u001b[0;32m    281\u001b[0m     loss_results[k] \u001b[38;5;241m=\u001b[39m losses\n",
      "File \u001b[1;32mx:\\Koding\\Skole\\367A\\Competition-Exploring-Mental-Health-Data\\selection_net_module.py:197\u001b[0m, in \u001b[0;36mtrain_selection_for_k\u001b[1;34m(learners, X_train, y_train, X_val, y_val, input_size, k, num_epochs, epsilon, m, batch_size)\u001b[0m\n\u001b[0;32m    195\u001b[0m X_vl \u001b[38;5;241m=\u001b[39m torch\u001b[38;5;241m.\u001b[39mtensor(X_val\u001b[38;5;241m.\u001b[39mvalues, dtype\u001b[38;5;241m=\u001b[39mtorch\u001b[38;5;241m.\u001b[39mfloat32)\u001b[38;5;241m.\u001b[39mto(device)\n\u001b[0;32m    196\u001b[0m y_vl \u001b[38;5;241m=\u001b[39m torch\u001b[38;5;241m.\u001b[39mtensor(y_val\u001b[38;5;241m.\u001b[39mvalues, dtype\u001b[38;5;241m=\u001b[39mtorch\u001b[38;5;241m.\u001b[39mlong)\u001b[38;5;241m.\u001b[39mto(device)\n\u001b[1;32m--> 197\u001b[0m bp_tr \u001b[38;5;241m=\u001b[39m torch\u001b[38;5;241m.\u001b[39mtensor(\u001b[43mget_base_predictions\u001b[49m\u001b[43m(\u001b[49m\u001b[43mX_train\u001b[49m\u001b[43m,\u001b[49m\u001b[43m \u001b[49m\u001b[43mlearners\u001b[49m\u001b[43m)\u001b[49m,\n\u001b[0;32m    198\u001b[0m                      dtype\u001b[38;5;241m=\u001b[39mtorch\u001b[38;5;241m.\u001b[39mfloat32)\u001b[38;5;241m.\u001b[39mto(device)\n\u001b[0;32m    199\u001b[0m bp_vl \u001b[38;5;241m=\u001b[39m torch\u001b[38;5;241m.\u001b[39mtensor(get_base_predictions(X_val, learners),\n\u001b[0;32m    200\u001b[0m                      dtype\u001b[38;5;241m=\u001b[39mtorch\u001b[38;5;241m.\u001b[39mfloat32)\u001b[38;5;241m.\u001b[39mto(device)\n\u001b[0;32m    202\u001b[0m \u001b[38;5;66;03m# Initialize network and optimizer\u001b[39;00m\n",
      "File \u001b[1;32mx:\\Koding\\Skole\\367A\\Competition-Exploring-Mental-Health-Data\\selection_net_module.py:162\u001b[0m, in \u001b[0;36mget_base_predictions\u001b[1;34m(X, learners)\u001b[0m\n\u001b[0;32m    151\u001b[0m \u001b[38;5;28;01mdef\u001b[39;00m\u001b[38;5;250m \u001b[39m\u001b[38;5;21mget_base_predictions\u001b[39m(X, learners):\n\u001b[0;32m    152\u001b[0m \u001b[38;5;250m    \u001b[39m\u001b[38;5;124;03m\"\"\"\u001b[39;00m\n\u001b[0;32m    153\u001b[0m \u001b[38;5;124;03m    Query a dictionary of scikit-learn style learners for their class probabilities.\u001b[39;00m\n\u001b[0;32m    154\u001b[0m \n\u001b[1;32m   (...)\u001b[0m\n\u001b[0;32m    160\u001b[0m \u001b[38;5;124;03m        np.ndarray: Array of shape (n_samples, n_learners, n_classes).\u001b[39;00m\n\u001b[0;32m    161\u001b[0m \u001b[38;5;124;03m    \"\"\"\u001b[39;00m\n\u001b[1;32m--> 162\u001b[0m     preds \u001b[38;5;241m=\u001b[39m [model\u001b[38;5;241m.\u001b[39mpredict_proba(X) \u001b[38;5;28;01mfor\u001b[39;00m model \u001b[38;5;129;01min\u001b[39;00m learners\u001b[38;5;241m.\u001b[39mvalues()]\n\u001b[0;32m    163\u001b[0m     \u001b[38;5;66;03m# Stack over learners\u001b[39;00m\n\u001b[0;32m    164\u001b[0m     arr \u001b[38;5;241m=\u001b[39m np\u001b[38;5;241m.\u001b[39mstack(preds, axis\u001b[38;5;241m=\u001b[39m\u001b[38;5;241m0\u001b[39m)     \u001b[38;5;66;03m# (n_learners, n_samples, n_classes)\u001b[39;00m\n",
      "File \u001b[1;32mx:\\Koding\\Skole\\367A\\Competition-Exploring-Mental-Health-Data\\selection_net_module.py:162\u001b[0m, in \u001b[0;36m<listcomp>\u001b[1;34m(.0)\u001b[0m\n\u001b[0;32m    151\u001b[0m \u001b[38;5;28;01mdef\u001b[39;00m\u001b[38;5;250m \u001b[39m\u001b[38;5;21mget_base_predictions\u001b[39m(X, learners):\n\u001b[0;32m    152\u001b[0m \u001b[38;5;250m    \u001b[39m\u001b[38;5;124;03m\"\"\"\u001b[39;00m\n\u001b[0;32m    153\u001b[0m \u001b[38;5;124;03m    Query a dictionary of scikit-learn style learners for their class probabilities.\u001b[39;00m\n\u001b[0;32m    154\u001b[0m \n\u001b[1;32m   (...)\u001b[0m\n\u001b[0;32m    160\u001b[0m \u001b[38;5;124;03m        np.ndarray: Array of shape (n_samples, n_learners, n_classes).\u001b[39;00m\n\u001b[0;32m    161\u001b[0m \u001b[38;5;124;03m    \"\"\"\u001b[39;00m\n\u001b[1;32m--> 162\u001b[0m     preds \u001b[38;5;241m=\u001b[39m [\u001b[43mmodel\u001b[49m\u001b[38;5;241;43m.\u001b[39;49m\u001b[43mpredict_proba\u001b[49m(X) \u001b[38;5;28;01mfor\u001b[39;00m model \u001b[38;5;129;01min\u001b[39;00m learners\u001b[38;5;241m.\u001b[39mvalues()]\n\u001b[0;32m    163\u001b[0m     \u001b[38;5;66;03m# Stack over learners\u001b[39;00m\n\u001b[0;32m    164\u001b[0m     arr \u001b[38;5;241m=\u001b[39m np\u001b[38;5;241m.\u001b[39mstack(preds, axis\u001b[38;5;241m=\u001b[39m\u001b[38;5;241m0\u001b[39m)     \u001b[38;5;66;03m# (n_learners, n_samples, n_classes)\u001b[39;00m\n",
      "\u001b[1;31mAttributeError\u001b[0m: 'tuple' object has no attribute 'predict_proba'"
     ]
    }
   ],
   "source": [
    "# Combined selection net where we use magnus paper, isaks paper and our base model as base learners -> 9 base learners\n",
    "\n",
    "ks = [1,2,3,4,5,6,7,8,9]\n",
    "\n",
    "feature_dim = train_X.shape[1]\n",
    "\n",
    "epoch = 5\n",
    "\n",
    "best_k_combined, best_acc, best_state_combined, results, losses, accs = tune_selection_net(\n",
    "    combined_base_learners, train_X, train_y, val_X, val_y,\n",
    "    ks, feature_dim, num_epochs=epoch, epsilon=0.1, m=1000, batch_size=512,plot= True\n",
    ")\n",
    "\n",
    "print(f\"Best k={best_k_combined} with validation accuracy={best_acc:.4f}\")"
   ]
  },
  {
   "cell_type": "markdown",
   "metadata": {},
   "source": [
    "# Model selection"
   ]
  },
  {
   "cell_type": "markdown",
   "metadata": {},
   "source": [
    "### Plot all the different models accuracy on validations\n",
    "\n",
    "### Go further with the best one:"
   ]
  },
  {
   "cell_type": "code",
   "execution_count": null,
   "metadata": {},
   "outputs": [
    {
     "name": "stdout",
     "output_type": "stream",
     "text": [
      "SelNet-Special       → Val accuracy: 0.9382\n",
      "SelNet-Combined      → Val accuracy: 0.9383\n",
      "Magnus Imp. RF       → Val accuracy: 0.9666\n",
      "Isak Greedy          → Val accuracy: 0.8186\n",
      "Base RF              → Val accuracy: 0.9346\n",
      "\n",
      "Best performing model: Magnus Imp. RF with accuracy 0.9666\n"
     ]
    }
   ],
   "source": [
    "import torch\n",
    "import numpy as np\n",
    "from torch.utils.data import TensorDataset, DataLoader\n",
    "from sklearn.metrics import accuracy_score\n",
    "from selection_net_module import SelectionNetwork, get_base_predictions, ensemble_forward\n",
    "\n",
    "\n",
    "device = torch.device(\"cuda\" if torch.cuda.is_available() else \"cpu\")\n",
    "\n",
    "# Helper to evaluate a tuned SelectionNet\n",
    "def evaluate_selection_net(net_state, base_learners, best_k,\n",
    "                           X_val, y_val, feature_dim, epsilon=0.1, m=1000):\n",
    "    # rebuild & load\n",
    "    net = SelectionNetwork(input_size=feature_dim, num_learners=len(base_learners))\n",
    "    net.load_state_dict(net_state)\n",
    "    net.to(device).eval()\n",
    "    # prepare tensors\n",
    "    X_t   = torch.tensor(X_val.values if hasattr(X_val, 'values') else X_val,\n",
    "                         dtype=torch.float32, device=device)\n",
    "    bp_np = get_base_predictions(X_val, base_learners)\n",
    "    bp_t  = torch.tensor(bp_np, dtype=torch.float32, device=device)\n",
    "    # forward & accuracy\n",
    "    with torch.no_grad():\n",
    "        probs = ensemble_forward(net, X_t, bp_t, best_k, epsilon, m)\n",
    "        preds = probs.argmax(dim=1).cpu().numpy()\n",
    "    return accuracy_score(y_val, preds)\n",
    "\n",
    "# Torch‐based accuracy metric for greedy model\n",
    "def torch_acc(preds, labels):\n",
    "    if preds.ndim > 1:\n",
    "        preds = preds.argmax(dim=1)\n",
    "    return (preds == labels).float().mean()\n",
    "\n",
    "\n",
    "\n",
    "# List of models to test\n",
    "models_to_test = [\n",
    "    (\"SelNet-Special\",   \"Selection\",      best_state_special, specialized_learners,   best_k_special,   0.1, 1000),\n",
    "    (\"SelNet-Combined\",  \"Selection\",      best_state_combined,combined_base_learners,best_k_combined,  0.1, 1000),\n",
    "    (\"Magnus Imp. RF\",   \"Random Forest\",  improved_random_forest_model,                None,                  None,            None, None),\n",
    "    (\"Isak Greedy\",      \"Neural Network\", gdfs_full_model,          None,                  None,            None, None),\n",
    "    (\"Base RF\",          \"Random Forest\",  random_forest_base_model,         None,                  None,            None, None),\n",
    "]\n",
    "\n",
    "\n",
    "# Run evaluation loop\n",
    "results = {}\n",
    "feature_dim = train_X.shape[1]\n",
    "\n",
    "for name, mtype, obj, learners, k, eps, m in models_to_test:\n",
    "    if mtype == \"Selection\":\n",
    "        acc = evaluate_selection_net(\n",
    "            obj, learners, k,\n",
    "            val_X, val_y,\n",
    "            feature_dim, epsilon=eps, m=m\n",
    "        )\n",
    "    elif name == \"Base RF\":\n",
    "        acc = random_forest_base_model_best_score\n",
    "    elif name == \"Magnus Imp. RF\":\n",
    "        acc = improved_random_forest_model_val_accuracy\n",
    "    \n",
    "    elif mtype == \"Neural Network\":\n",
    "        acc = obj.evaluate(\n",
    "            loader=val_loader,\n",
    "            max_features=20,\n",
    "            metric=torch_acc,\n",
    "            argmax=True\n",
    "        )\n",
    "    else:\n",
    "        raise ValueError(f\"Unknown model type {mtype}\")\n",
    "    results[name] = acc\n",
    "\n",
    "# Print summary\n",
    "for name, acc in results.items():\n",
    "    print(f\"{name:20s} → Val accuracy: {acc:.4f}\")\n",
    "\n",
    "best_name = max(results, key=results.get)\n",
    "print(f\"\\nBest performing model: {best_name} with accuracy {results[best_name]:.4f}\")\n"
   ]
  },
  {
   "cell_type": "markdown",
   "metadata": {},
   "source": [
    "# Going further with the best model"
   ]
  },
  {
   "cell_type": "code",
   "execution_count": null,
   "metadata": {},
   "outputs": [],
   "source": [
    "def inference(model, test_data):\n",
    "        predictions = model.predict(test_data)\n",
    "\n",
    "        submission = pd.DataFrame({\n",
    "            \"id\": test[\"id\"], \n",
    "            \"Depression\": predictions\n",
    "        })\n",
    "        submission.to_csv(\"submission.csv\", index=False)\n",
    "        print(\"test successfully executed, results in submission.csv\")\n"
   ]
  }
 ],
 "metadata": {
  "kernelspec": {
   "display_name": "367A",
   "language": "python",
   "name": "python3"
  },
  "language_info": {
   "codemirror_mode": {
    "name": "ipython",
    "version": 3
   },
   "file_extension": ".py",
   "mimetype": "text/x-python",
   "name": "python",
   "nbconvert_exporter": "python",
   "pygments_lexer": "ipython3",
   "version": "3.10.16"
  }
 },
 "nbformat": 4,
 "nbformat_minor": 2
}
