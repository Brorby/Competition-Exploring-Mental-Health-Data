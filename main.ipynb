{
 "cells": [
  {
   "cell_type": "code",
   "execution_count": 1,
   "metadata": {},
   "outputs": [],
   "source": [
    "import torch\n",
    "import torch.nn as nn\n",
    "import torch.nn.functional as F\n",
    "import torchvision\n",
    "import torchaudio\n",
    "import numpy as np\n",
    "import scipy\n",
    "import sklearn\n",
    "import pandas as pd\n",
    "import PIL\n",
    "import matplotlib\n",
    "import tokenizers\n",
    "import datasets\n",
    "import transformers\n",
    "import matplotlib.pyplot as plt\n",
    "from collections import Counter\n",
    "import datetime\n",
    "from sklearn.ensemble import RandomForestClassifier\n",
    "from sklearn.model_selection import GridSearchCV, StratifiedKFold\n",
    "from sklearn.metrics import accuracy_score\n",
    "from sklearn.preprocessing import StandardScaler, MinMaxScaler\n",
    "from sklearn.model_selection import train_test_split\n"
   ]
  },
  {
   "cell_type": "code",
   "execution_count": 2,
   "metadata": {},
   "outputs": [],
   "source": [
    "import random\n",
    "import numpy as np\n",
    "import torch\n",
    "import os\n",
    "\n",
    "seed = 42\n",
    "\n",
    "# Python\n",
    "random.seed(seed)\n",
    "os.environ['PYTHONHASHSEED'] = str(seed)\n",
    "\n",
    "# NumPy\n",
    "np.random.seed(seed)\n",
    "\n",
    "# PyTorch\n",
    "torch.manual_seed(seed)\n",
    "if torch.cuda.is_available():\n",
    "    torch.cuda.manual_seed_all(seed)\n",
    "    \n",
    "# For deterministic behavior on GPU (may slow training)\n",
    "torch.backends.cudnn.deterministic = True\n",
    "torch.backends.cudnn.benchmark = False\n"
   ]
  },
  {
   "cell_type": "markdown",
   "metadata": {},
   "source": [
    "# Data exploration\n",
    "\n",
    "Here we explore each feature column and comment on how we are going to preprocess each one and what we might consider doing in the future. We have a total of 140700 samples. The last feature is the label depression which we will train on.\n",
    "\n",
    "## Loading the dataset"
   ]
  },
  {
   "cell_type": "code",
   "execution_count": 3,
   "metadata": {},
   "outputs": [
    {
     "name": "stdout",
     "output_type": "stream",
     "text": [
      "Samples in training set 140700\n",
      "Samples in test set: 93800\n"
     ]
    }
   ],
   "source": [
    "# Load the datasets\n",
    "data_file = 'data/train.csv'\n",
    "test_file = 'data/test.csv'\n",
    "\n",
    "data = pd.read_csv(data_file)\n",
    "test = pd.read_csv(test_file)\n",
    "\n",
    "print(f\"Samples in training set {data.shape[0]}\")\n",
    "print(f\"Samples in test set: {test.shape[0]}\")"
   ]
  },
  {
   "cell_type": "markdown",
   "metadata": {},
   "source": [
    "# id Column"
   ]
  },
  {
   "cell_type": "code",
   "execution_count": 4,
   "metadata": {},
   "outputs": [
    {
     "name": "stdout",
     "output_type": "stream",
     "text": [
      "Examples of 'id' column:\n",
      "0    0\n",
      "1    1\n",
      "2    2\n",
      "3    3\n",
      "4    4\n",
      "Name: id, dtype: int64\n",
      "\n",
      "We have  140700  amount of samples\n"
     ]
    }
   ],
   "source": [
    "# Print examples of the 'id' column\n",
    "print(\"Examples of 'id' column:\")\n",
    "print(data[\"id\"].head())\n",
    "\n",
    "print(\"\")\n",
    "\n",
    "print(\"We have \" ,data[\"id\"].count(),\" amount of samples\")"
   ]
  },
  {
   "cell_type": "markdown",
   "metadata": {},
   "source": [
    "We will drop the id column since there is no correlation between this and the label."
   ]
  },
  {
   "cell_type": "markdown",
   "metadata": {},
   "source": [
    "## Name column"
   ]
  },
  {
   "cell_type": "code",
   "execution_count": 5,
   "metadata": {},
   "outputs": [
    {
     "name": "stdout",
     "output_type": "stream",
     "text": [
      "Unique names sorted by count (most to least):\n",
      "Rohan: 3178\n",
      "Aarav: 2336\n",
      "Rupak: 2176\n",
      "Aaradhya: 2045\n",
      "Anvi: 2035\n",
      "Raghavendra: 1877\n",
      "Vani: 1657\n",
      "Tushar: 1596\n",
      "Ritvik: 1589\n",
      "Shiv: 1568\n",
      "Riya: 1548\n",
      "Rashi: 1547\n",
      "Raunak: 1524\n",
      "Anand: 1486\n",
      "Ishaani: 1477\n",
      "Ansh: 1423\n",
      "Vidya: 1408\n",
      "Ritika: 1313\n",
      "Anushka: 1279\n",
      "Sanya: 1272\n",
      "Aarush: 1266\n",
      "Aariv: 1254\n",
      "Abhishek: 1252\n",
      "Rupal: 1234\n",
      "Harsha: 1230\n",
      "Harsh: 1156\n",
      "Vikram: 1154\n",
      "Shivam: 1146\n",
      "Raghav: 1120\n",
      "Armaan: 1116\n",
      "Prachi: 1104\n",
      "Ivaan: 1090\n",
      "Ayaan: 1090\n",
      "Siddhesh: 1090\n",
      "Ira: 1061\n",
      "Prisha: 1055\n",
      "Rahil: 1051\n",
      "Rishi: 1040\n",
      "Ritik: 1033\n",
      "Pratham: 1023\n",
      "Aniket: 1023\n",
      "Chhavi: 1003\n",
      "Vibha: 974\n",
      "Vivan: 963\n",
      "Aishwarya: 962\n",
      "Gauri: 959\n",
      "Nikita: 951\n",
      "Naina: 946\n",
      "Veda: 940\n",
      "Arav: 925\n",
      "Vidhi: 913\n",
      "Jiya: 912\n",
      "Advait: 910\n",
      "Krishna: 875\n",
      "Vedant: 872\n",
      "Ayush: 869\n",
      "Aditi: 851\n",
      "Shaurya: 848\n",
      "Kashish: 845\n",
      "Gagan: 842\n",
      "Eshita: 831\n",
      "Pratyush: 816\n",
      "Ila: 799\n",
      "Simran: 790\n",
      "Aadhya: 787\n",
      "Shreya: 784\n",
      "Rudransh: 776\n",
      "Garima: 769\n",
      "Yashvi: 767\n",
      "Anjali: 757\n",
      "Vihaan: 744\n",
      "Keshav: 737\n",
      "Yuvraj: 730\n",
      "Ishan: 714\n",
      "Tanisha: 713\n",
      "Harshil: 712\n",
      "Sanket: 710\n",
      "Rajat: 706\n",
      "Kunal: 700\n",
      "Nikhil: 690\n",
      "Kiran: 687\n",
      "Aanchal: 684\n",
      "Zara: 681\n",
      "Shlok: 672\n",
      "Nandini: 663\n",
      "Pranav: 655\n",
      "Mahika: 652\n",
      "Kavya: 643\n",
      "Jhanvi: 635\n",
      "Esha: 632\n",
      "Satyam: 632\n",
      "Reyansh: 627\n",
      "Shrey: 626\n",
      "Janvi: 611\n",
      "Anaya: 610\n",
      "Anirudh: 606\n",
      "Arnav: 595\n",
      "Aahana: 593\n",
      "Aarti: 586\n",
      "Pallavi: 586\n",
      "Amit: 583\n",
      "Ishwar: 574\n",
      "Utkarsh: 547\n",
      "Siddharth: 539\n",
      "Saanvi: 537\n",
      "Asha: 534\n",
      "Darsh: 526\n",
      "Abhinav: 524\n",
      "Anika: 520\n",
      "Parth: 518\n",
      "Aditya: 512\n",
      "Aarohi: 504\n",
      "Nishant: 501\n",
      "Tanya: 501\n",
      "Rhea: 499\n",
      "Samar: 498\n",
      "Chirag: 493\n",
      "Kriti: 490\n",
      "Manvi: 486\n",
      "Divya: 481\n",
      "Kabir: 481\n",
      "Pooja: 481\n",
      "Kian: 481\n",
      "Hrithik: 475\n",
      "Shruti: 467\n",
      "Ayansh: 461\n",
      "Mahi: 461\n",
      "Trisha: 458\n",
      "Kartikeya: 456\n",
      "Atharv: 438\n",
      "Monika: 433\n",
      "Mihir: 433\n",
      "Shivansh: 419\n",
      "Tanmay: 418\n",
      "Arjun: 403\n",
      "Diya: 391\n",
      "Yash: 389\n",
      "Charvi: 387\n",
      "Sanjeev: 387\n",
      "Vrinda: 383\n",
      "Sai: 382\n",
      "Aryan: 379\n",
      "Manan: 378\n",
      "Ishita: 377\n",
      "Virat: 374\n",
      "Damini: 374\n",
      "Bhavesh: 362\n",
      "Khushi: 356\n",
      "Ishaan: 355\n",
      "Nalini: 353\n",
      "Jai: 343\n",
      "Neha: 342\n",
      "Palak: 339\n",
      "Yogesh: 338\n",
      "Gaurav: 336\n",
      "Deepak: 335\n",
      "Dhruv: 334\n",
      "Tara: 331\n",
      "Vivaan: 329\n",
      "Pari: 319\n",
      "Lavanya: 315\n",
      "Aakash: 313\n",
      "Navya: 311\n",
      "Leela: 310\n",
      "Siddhi: 310\n",
      "Soham: 306\n",
      "Tanvi: 300\n",
      "Kartik: 296\n",
      "Arya: 289\n",
      "Tina: 285\n",
      "Vanya: 280\n",
      "Kush: 274\n",
      "Isha: 266\n",
      "Nisha: 264\n",
      "Samaira: 263\n",
      "Suhani: 261\n",
      "Saurav: 258\n",
      "Apoorva: 252\n",
      "Yamini: 250\n",
      "Aarya: 247\n",
      "Neil: 244\n",
      "Karishma: 240\n",
      "Lata: 237\n",
      "Zoya: 232\n",
      "Nirvaan: 231\n",
      "Rudra: 220\n",
      "Vaishnavi: 217\n",
      "Om: 216\n",
      "Mayank: 215\n",
      "Dev: 210\n",
      "Vaanya: 209\n",
      "Nakul: 206\n",
      "Rajveer: 199\n",
      "Himani: 196\n",
      "Barkha: 190\n",
      "Tejas: 185\n",
      "Sneha: 180\n",
      "Bhavna: 167\n",
      "Ranveer: 162\n",
      "Rupa: 151\n",
      "Srishti: 150\n",
      "Kiara: 138\n",
      "Kanika: 138\n",
      "Mira: 137\n",
      "Mithila: 132\n",
      "Radhika: 122\n",
      "Sara: 108\n",
      "Pihu: 104\n",
      "Varun: 97\n",
      "Jasmine: 94\n",
      "Lakshay: 80\n",
      "Avni: 71\n",
      "Shanaya: 65\n",
      "Mukund: 57\n",
      "Meera: 51\n",
      "Harini: 47\n",
      "Kalyan: 21\n",
      "Aarash: 3\n",
      "Rupar: 3\n",
      "Kolkata: 3\n",
      "Tarsh: 3\n",
      "Shivvi: 2\n",
      "Prishti: 2\n",
      "Pradhya: 2\n",
      "Aisha: 2\n",
      "Aanya: 2\n",
      "Rani: 2\n",
      "Patna: 2\n",
      "Hra: 2\n",
      "Shivna: 2\n",
      "Siddh: 2\n",
      "Vashi: 2\n",
      "Aarvi: 2\n",
      "Thane: 2\n",
      "Jhaan: 2\n",
      "Kartika: 2\n",
      "Aniv: 2\n",
      "Aam: 2\n",
      "Shivar: 2\n",
      "Shivan: 2\n",
      "Aan: 2\n",
      "Nanya: 2\n",
      "Rupadhya: 2\n",
      "Anya: 2\n",
      "Rupika: 1\n",
      "Aaransh: 1\n",
      "Ijra: 1\n",
      "Aikash: 1\n",
      "Anishi: 1\n",
      "Aaranya: 1\n",
      "Anar: 1\n",
      "Parha: 1\n",
      "Srinagar: 1\n",
      "Vidha: 1\n",
      "Prayat: 1\n",
      "Yurav: 1\n",
      "Shivak: 1\n",
      "Rupai: 1\n",
      "Arvik: 1\n",
      "Manjun: 1\n",
      "Ranchal: 1\n",
      "Vita: 1\n",
      "Prandini: 1\n",
      "Mahav: 1\n",
      "Nhanini: 1\n",
      "Anupal: 1\n",
      "Manr: 1\n",
      "Eikram: 1\n",
      "Arsha: 1\n",
      "Harshir: 1\n",
      "Shivlok: 1\n",
      "Shivwar: 1\n",
      "Abarav: 1\n",
      "Ayya: 1\n",
      "Rudrithik: 1\n",
      "Varanasi: 1\n",
      "K.Pharm: 1\n",
      "UX/UI Designer: 1\n",
      "Ariti: 1\n",
      "Nhanvi: 1\n",
      "Aarani: 1\n",
      "Jiram: 1\n",
      "M.Tech: 1\n",
      "Kike: 1\n",
      "Shivvaan: 1\n",
      "Aarla: 1\n",
      "Nishi: 1\n",
      "Aarand: 1\n",
      "Adiya: 1\n",
      "Ritak: 1\n",
      "Kashi: 1\n",
      "Krey: 1\n",
      "Prarav: 1\n",
      "Kartal: 1\n",
      "Anariv: 1\n",
      "Irit: 1\n",
      "Kanisha: 1\n",
      "Anisha: 1\n",
      "Harshaun: 1\n",
      "Rietvik: 1\n",
      "Vasai-Virar: 1\n",
      "Ishlok: 1\n",
      "Vika: 1\n",
      "Rika: 1\n",
      "Shir: 1\n",
      "Sharth: 1\n",
      "Rudrey: 1\n",
      "Virar: 1\n",
      "Shashi: 1\n",
      "Eisha: 1\n",
      "Vhaani: 1\n",
      "Prilak: 1\n",
      "Tani: 1\n",
      "Nya: 1\n",
      "Harshav: 1\n",
      "Ewesh: 1\n",
      "Aanket: 1\n",
      "Tohar: 1\n",
      "Ryouvik: 1\n",
      "Niya: 1\n",
      "Anjun: 1\n",
      "Rupat: 1\n",
      "Anahk: 1\n",
      "Shivsh: 1\n",
      "Niki: 1\n",
      "Nishita: 1\n",
      "Rohik: 1\n",
      "Prishi: 1\n",
      "Ishaansh: 1\n",
      "Harshand: 1\n",
      "Manik: 1\n",
      "Chrinda: 1\n",
      "Aavya: 1\n",
      "Anarush: 1\n",
      "Viv: 1\n",
      "Ronnie: 1\n",
      "18: 1\n",
      "Rietal: 1\n",
      "R.Com: 1\n",
      "Anohi: 1\n",
      "Vivani: 1\n",
      "Ayash: 1\n",
      "Anil: 1\n",
      "Aiya: 1\n",
      "Tinmay: 1\n",
      "Rhesh: 1\n",
      "Nikya: 1\n",
      "Arnar: 1\n",
      "Vakash: 1\n",
      "Jush: 1\n",
      "Randik: 1\n",
      "Siddir: 1\n",
      "Raghavvi: 1\n",
      "BE: 1\n",
      "Anakash: 1\n",
      "Taurav: 1\n",
      "Ishaesh: 1\n",
      "A.Ed: 1\n",
      "Golkut: 1\n",
      "Krav: 1\n",
      "Ayhan: 1\n",
      "Parvik: 1\n",
      "Vlaan: 1\n",
      "Mahak: 1\n",
      "Abishma: 1\n",
      "Prvi: 1\n",
      "K. Kavya: 1\n",
      "Aieter: 1\n",
      "Aarsh: 1\n",
      "Kupa: 1\n",
      "Rudegrav: 1\n",
      "Parvi: 1\n",
      "Rajankot: 1\n",
      "Ani: 1\n",
      "Rupil: 1\n",
      "Adachi: 1\n",
      "Ayut: 1\n",
      "Rajya: 1\n",
      "Vidvi: 1\n",
      "Mahir: 1\n",
      "Sansh: 1\n",
      "Prishant: 1\n",
      "Eirini: 1\n",
      "Tanak: 1\n",
      "Researcher: 1\n",
      "Shaina: 1\n",
      "Aani: 1\n",
      "Plumber: 1\n",
      "Nanchal: 1\n",
      "Ayoub: 1\n",
      "Airav: 1\n",
      "Zegmay: 1\n",
      "Aarsush: 1\n",
      "Vidra: 1\n",
      "Kani: 1\n",
      "Ishma: 1\n",
      "Naly: 1\n",
      "Jaish: 1\n",
      "Raghavik: 1\n",
      "Anh: 1\n",
      "Pariv: 1\n",
      "Jhav: 1\n",
      "Rai: 1\n",
      "Hreya: 1\n",
      "Shivivaam: 1\n",
      "M.Com: 1\n",
      "Gavrachi: 1\n",
      "Rivaan: 1\n",
      "Haurav: 1\n",
      "Noreen: 1\n",
      "Anish: 1\n",
      "Aohi: 1\n",
      "Aariket: 1\n",
      "Aarat: 1\n",
      "Vohi: 1\n",
      "Vavya: 1\n",
      "Ishaam: 1\n",
      "Anhil: 1\n",
      "Rieta: 1\n",
      "Zahra: 1\n",
      "Jathesh: 1\n",
      "Aarun: 1\n",
      "Total unique names: 422\n"
     ]
    }
   ],
   "source": [
    "# Count occurrences of each unique name\n",
    "name_counts = data[\"Name\"].value_counts()\n",
    "\n",
    "# Print results\n",
    "print(\"Unique names sorted by count (most to least):\")\n",
    "for name, count in name_counts.items():\n",
    "    print(f\"{name}: {count}\")\n",
    "\n",
    "print(f\"Total unique names: {len(name_counts)}\")\n"
   ]
  },
  {
   "cell_type": "markdown",
   "metadata": {},
   "source": [
    "We thought about dropping the name column since we thought that this may not have any correlation to the label. But we realised that there might be a correlation, so we decided to keep it. The correlation being that for example having a \"unattractive\" name can affect your life in a bad way. \n",
    "\n",
    "\n",
    "For pre-processing this we will to give a value of how unique it is in the dataset, so for now we change the name with how frequent it is.\n",
    "\n",
    "\n",
    "Things to consider:\n",
    "\n",
    "Find a way to \"rate\" each name instead of how frequent the name is. Impute or change wrong names to missing name."
   ]
  },
  {
   "cell_type": "markdown",
   "metadata": {},
   "source": [
    "## Gender"
   ]
  },
  {
   "cell_type": "code",
   "execution_count": 6,
   "metadata": {},
   "outputs": [
    {
     "name": "stdout",
     "output_type": "stream",
     "text": [
      "Examples of 'Name' column:\n",
      "0    Female\n",
      "1      Male\n",
      "2      Male\n",
      "3      Male\n",
      "4    Female\n",
      "Name: Gender, dtype: object\n",
      "\n",
      "Number of unique genders: 2\n"
     ]
    }
   ],
   "source": [
    "# Print examples of the 'Name' column\n",
    "print(\"Examples of 'Name' column:\")\n",
    "print(data[\"Gender\"].head())\n",
    "\n",
    "print(\"\")\n",
    "\n",
    "print(\"Number of unique genders:\", data[\"Gender\"].nunique())"
   ]
  },
  {
   "cell_type": "markdown",
   "metadata": {},
   "source": [
    "We will just encode male to 1 and female to 0."
   ]
  },
  {
   "cell_type": "markdown",
   "metadata": {},
   "source": [
    "## Age"
   ]
  },
  {
   "cell_type": "code",
   "execution_count": 7,
   "metadata": {},
   "outputs": [
    {
     "name": "stdout",
     "output_type": "stream",
     "text": [
      "Examples of 'Age' column:\n",
      "0    49.0\n",
      "1    26.0\n",
      "2    33.0\n",
      "3    22.0\n",
      "4    30.0\n",
      "Name: Age, dtype: float64\n",
      "\n",
      "Number of unique ages: 43\n"
     ]
    }
   ],
   "source": [
    "print(\"Examples of 'Age' column:\")\n",
    "print(data[\"Age\"].head())\n",
    "\n",
    "print(\"\")\n",
    "\n",
    "print(\"Number of unique ages:\", data[\"Age\"].nunique())"
   ]
  },
  {
   "cell_type": "markdown",
   "metadata": {},
   "source": [
    "We will only change the number from float to integer."
   ]
  },
  {
   "cell_type": "markdown",
   "metadata": {},
   "source": [
    "## City"
   ]
  },
  {
   "cell_type": "code",
   "execution_count": 8,
   "metadata": {},
   "outputs": [
    {
     "name": "stdout",
     "output_type": "stream",
     "text": [
      "Examples of 'City' column:\n",
      "0         Ludhiana\n",
      "1         Varanasi\n",
      "2    Visakhapatnam\n",
      "3           Mumbai\n",
      "4           Kanpur\n",
      "Name: City, dtype: object\n",
      "\n",
      "Number of unique cities: 43\n"
     ]
    }
   ],
   "source": [
    "print(\"Examples of 'City' column:\")\n",
    "print(data[\"City\"].head())\n",
    "\n",
    "print(\"\")\n",
    "\n",
    "print(\"Number of unique cities:\", data[\"Age\"].nunique())"
   ]
  },
  {
   "cell_type": "code",
   "execution_count": 9,
   "metadata": {},
   "outputs": [
    {
     "name": "stdout",
     "output_type": "stream",
     "text": [
      "Unique cities sorted by count (most to least):\n",
      "Kalyan: First Index = 36, Count = 6591\n",
      "Patna: First Index = 9, Count = 5924\n",
      "Vasai-Virar: First Index = 49, Count = 5765\n",
      "Kolkata: First Index = 28, Count = 5689\n",
      "Ahmedabad: First Index = 5, Count = 5613\n",
      "Meerut: First Index = 17, Count = 5528\n",
      "Ludhiana: First Index = 0, Count = 5226\n",
      "Pune: First Index = 13, Count = 5210\n",
      "Rajkot: First Index = 10, Count = 5207\n",
      "Visakhapatnam: First Index = 2, Count = 5176\n",
      "Srinagar: First Index = 26, Count = 5074\n",
      "Mumbai: First Index = 3, Count = 4966\n",
      "Indore: First Index = 189, Count = 4872\n",
      "Agra: First Index = 18, Count = 4684\n",
      "Surat: First Index = 20, Count = 4636\n",
      "Varanasi: First Index = 1, Count = 4606\n",
      "Vadodara: First Index = 43, Count = 4568\n",
      "Hyderabad: First Index = 23, Count = 4496\n",
      "Kanpur: First Index = 4, Count = 4398\n",
      "Jaipur: First Index = 12, Count = 4328\n",
      "Thane: First Index = 6, Count = 4289\n",
      "Lucknow: First Index = 16, Count = 4280\n",
      "Nagpur: First Index = 37, Count = 4209\n",
      "Bangalore: First Index = 8, Count = 4123\n",
      "Chennai: First Index = 34, Count = 4044\n",
      "Ghaziabad: First Index = 27, Count = 3620\n",
      "Delhi: First Index = 76, Count = 3593\n",
      "Bhopal: First Index = 141, Count = 3475\n",
      "Faridabad: First Index = 21, Count = 3268\n",
      "Nashik: First Index = 7, Count = 3144\n",
      "Mihir: First Index = 44166, Count = 7\n",
      "Nandini: First Index = 32706, Count = 4\n",
      "Mahi: First Index = 76335, Count = 3\n",
      "Vidya: First Index = 52500, Count = 3\n",
      "City: First Index = 34300, Count = 3\n",
      "Pratyush: First Index = 34247, Count = 3\n",
      "Harsha: First Index = 15181, Count = 3\n",
      "Saanvi: First Index = 22293, Count = 3\n",
      "Bhavna: First Index = 28862, Count = 3\n",
      "Molkata: First Index = 100610, Count = 2\n",
      "MCA: First Index = 38232, Count = 2\n",
      "M.Com: First Index = 33276, Count = 2\n",
      "Atharv: First Index = 33447, Count = 2\n",
      "Nalini: First Index = 17337, Count = 2\n",
      "Keshav: First Index = 12371, Count = 2\n",
      "Ayush: First Index = 2123, Count = 2\n",
      "M.Tech: First Index = 28672, Count = 1\n",
      "Researcher: First Index = 105684, Count = 1\n",
      "Vaishnavi: First Index = 73571, Count = 1\n",
      "Chhavi: First Index = 74881, Count = 1\n",
      "Parth: First Index = 75591, Count = 1\n",
      "Vidhi: First Index = 1190, Count = 1\n",
      "Tushar: First Index = 77791, Count = 1\n",
      "MSc: First Index = 82304, Count = 1\n",
      "No: First Index = 82472, Count = 1\n",
      "Rashi: First Index = 86723, Count = 1\n",
      "ME: First Index = 93066, Count = 1\n",
      "Ishanabad: First Index = 762, Count = 1\n",
      "Armaan: First Index = 109183, Count = 1\n",
      "Kagan: First Index = 106809, Count = 1\n",
      "Kashish: First Index = 71995, Count = 1\n",
      "Ithal: First Index = 112975, Count = 1\n",
      "Nalyan: First Index = 115761, Count = 1\n",
      "Dhruv: First Index = 116546, Count = 1\n",
      "Galesabad: First Index = 117760, Count = 1\n",
      "Itheg: First Index = 121908, Count = 1\n",
      "Aaradhya: First Index = 123642, Count = 1\n",
      "Pooja: First Index = 124395, Count = 1\n",
      "Khushi: First Index = 125289, Count = 1\n",
      "Khaziabad: First Index = 126752, Count = 1\n",
      "Jhanvi: First Index = 136563, Count = 1\n",
      "Kibara: First Index = 73510, Count = 1\n",
      "Harsh: First Index = 68667, Count = 1\n",
      "Reyansh: First Index = 70407, Count = 1\n",
      "Morena: First Index = 42134, Count = 1\n",
      "Less Delhi: First Index = 30231, Count = 1\n",
      "Malyansh: First Index = 20886, Count = 1\n",
      "Aditya: First Index = 18496, Count = 1\n",
      "Plata: First Index = 33408, Count = 1\n",
      "Aishwarya: First Index = 8772, Count = 1\n",
      "3.0: First Index = 35309, Count = 1\n",
      "Less than 5 Kalyan: First Index = 36993, Count = 1\n",
      "Krishna: First Index = 3753, Count = 1\n",
      "Mira: First Index = 38817, Count = 1\n",
      "Moreadhyay: First Index = 39217, Count = 1\n",
      "Ishkarsh: First Index = 42470, Count = 1\n",
      "Raghavendra: First Index = 22215, Count = 1\n",
      "Kashk: First Index = 43050, Count = 1\n",
      "Gurgaon: First Index = 3554, Count = 1\n",
      "Tolkata: First Index = 53366, Count = 1\n",
      "Anvi: First Index = 55970, Count = 1\n",
      "Krinda: First Index = 57185, Count = 1\n",
      "Ayansh: First Index = 58776, Count = 1\n",
      "Shrey: First Index = 60210, Count = 1\n",
      "Ivaan: First Index = 61687, Count = 1\n",
      "Vaanya: First Index = 63830, Count = 1\n",
      "Gaurav: First Index = 65042, Count = 1\n",
      "Unirar: First Index = 138190, Count = 1\n",
      "Total unique cities: 98\n"
     ]
    },
    {
     "name": "stderr",
     "output_type": "stream",
     "text": [
      "C:\\Users\\elias\\AppData\\Local\\Temp\\ipykernel_12904\\1198885951.py:5: DeprecationWarning: DataFrameGroupBy.apply operated on the grouping columns. This behavior is deprecated, and in a future version of pandas the grouping columns will be excluded from the operation. Either pass `include_groups=False` to exclude the groupings or explicitly select the grouping columns after groupby to silence this warning.\n",
      "  first_occurrence = data.groupby(\"City\").apply(lambda x: x.index[0])\n"
     ]
    }
   ],
   "source": [
    "# Count occurrences of each unique city\n",
    "city_counts = data[\"City\"].value_counts()\n",
    "\n",
    "# Find first occurrence index for each unique city\n",
    "first_occurrence = data.groupby(\"City\").apply(lambda x: x.index[0])\n",
    "\n",
    "# Sort cities by count in descending order\n",
    "sorted_cities = city_counts.index  # Cities sorted by count (default sorting from most to least)\n",
    "\n",
    "count = 0\n",
    "# Print results\n",
    "print(\"Unique cities sorted by count (most to least):\")\n",
    "for city in sorted_cities:\n",
    "    if city_counts[city] > 0:\n",
    "        count += 1\n",
    "        print(f\"{city}: First Index = {first_occurrence[city]}, Count = {city_counts[city]}\")\n",
    "\n",
    "print(f\"Total unique cities: {count}\")\n"
   ]
  },
  {
   "cell_type": "markdown",
   "metadata": {},
   "source": [
    "We found population, density, literacy and sex ratio for each major city in our dataset. We then merged this in our data and removed city column. For the minor cities or the wrongly written cities we took the average of the other columns.\n",
    "\n",
    "\n",
    "To consider:\n",
    "\n",
    "We should consider adjusting the imputing of the minor and wrongly written cities to for example lower than average."
   ]
  },
  {
   "cell_type": "markdown",
   "metadata": {},
   "source": [
    "# Working Professional or Student"
   ]
  },
  {
   "cell_type": "code",
   "execution_count": 10,
   "metadata": {},
   "outputs": [
    {
     "name": "stdout",
     "output_type": "stream",
     "text": [
      "Examples of 'Working Professional or Student' column:\n",
      "0    Working Professional\n",
      "1    Working Professional\n",
      "2                 Student\n",
      "3    Working Professional\n",
      "4    Working Professional\n",
      "Name: Working Professional or Student, dtype: object\n",
      "\n",
      "Number of unique Working Professional or Student: 2\n"
     ]
    }
   ],
   "source": [
    "print(\"Examples of 'Working Professional or Student' column:\")\n",
    "print(data[\"Working Professional or Student\"].head())\n",
    "\n",
    "print(\"\")\n",
    "\n",
    "print(\"Number of unique Working Professional or Student:\", data[\"Working Professional or Student\"].nunique())"
   ]
  },
  {
   "cell_type": "markdown",
   "metadata": {},
   "source": [
    "In this column we will change \"working professional\" to 0 and \"student\" to 1."
   ]
  },
  {
   "cell_type": "markdown",
   "metadata": {},
   "source": [
    "# Profession"
   ]
  },
  {
   "cell_type": "code",
   "execution_count": 11,
   "metadata": {},
   "outputs": [
    {
     "name": "stdout",
     "output_type": "stream",
     "text": [
      "Examples of 'Profession' column:\n",
      "0                Chef\n",
      "1             Teacher\n",
      "2                 NaN\n",
      "3             Teacher\n",
      "4    Business Analyst\n",
      "Name: Profession, dtype: object\n",
      "\n",
      "NaN is student:\n",
      "nan\n",
      "Student\n",
      "\n",
      "Number of unique Profession: 64\n"
     ]
    }
   ],
   "source": [
    "print(\"Examples of 'Profession' column:\")\n",
    "print(data[\"Profession\"].head())\n",
    "print(\"\")\n",
    "print(\"NaN is student:\")\n",
    "print(data[\"Profession\"][2])\n",
    "print(data[\"Working Professional or Student\"][2])\n",
    "\n",
    "print(\"\")\n",
    "\n",
    "print(\"Number of unique Profession:\", data[\"Profession\"].nunique())\n",
    "\n"
   ]
  },
  {
   "cell_type": "markdown",
   "metadata": {},
   "source": [
    "There are occurences of NaN in this column, this happens when the sample is a student. We find it reasonable to insert \"Student\" in those slots. there are also occurences of NaN on samples that are not students, here we will insert \"Missing Profession\""
   ]
  },
  {
   "cell_type": "markdown",
   "metadata": {},
   "source": [
    "# Academic Pressure"
   ]
  },
  {
   "cell_type": "code",
   "execution_count": 12,
   "metadata": {},
   "outputs": [
    {
     "name": "stdout",
     "output_type": "stream",
     "text": [
      "Examples of 'Academic pressure' column:\n",
      "0    NaN\n",
      "1    NaN\n",
      "2    5.0\n",
      "3    NaN\n",
      "4    NaN\n",
      "Name: Academic Pressure, dtype: float64\n",
      "\n",
      "Number of unique Academic pressures: 5\n"
     ]
    }
   ],
   "source": [
    "print(\"Examples of 'Academic pressure' column:\")\n",
    "print(data[\"Academic Pressure\"].head())\n",
    "\n",
    "print(\"\")\n",
    "\n",
    "print(\"Number of unique Academic pressures:\", data[\"Academic Pressure\"].nunique())"
   ]
  },
  {
   "cell_type": "markdown",
   "metadata": {},
   "source": [
    "For the \"Academic Pressure\" column we want to replace NaN with zeros.\n",
    "We are aslo considering merging this feature with work pressure, since they complete eachother. but for now we will have it like this and maybe change it for improving the model later."
   ]
  },
  {
   "cell_type": "markdown",
   "metadata": {},
   "source": [
    "# Work pressure"
   ]
  },
  {
   "cell_type": "code",
   "execution_count": 13,
   "metadata": {},
   "outputs": [
    {
     "name": "stdout",
     "output_type": "stream",
     "text": [
      "Examples of 'Work Pressure' column:\n",
      "0    5.0\n",
      "1    4.0\n",
      "2    NaN\n",
      "3    5.0\n",
      "4    1.0\n",
      "Name: Work Pressure, dtype: float64\n",
      "\n",
      "Number of unique Work Pressure: [ 5.  4. nan  1.  2.  3.]\n"
     ]
    }
   ],
   "source": [
    "print(\"Examples of 'Work Pressure' column:\")\n",
    "print(data[\"Work Pressure\"].head())\n",
    "\n",
    "print(\"\")\n",
    "\n",
    "print(\"Number of unique Work Pressure:\", data[\"Work Pressure\"].unique())"
   ]
  },
  {
   "cell_type": "markdown",
   "metadata": {},
   "source": [
    "We assume that a lower number means less work pressure, therefore We will change Nan to 0 because it is the students that has NaN on Work Pressure"
   ]
  },
  {
   "cell_type": "markdown",
   "metadata": {},
   "source": [
    "# CGPA"
   ]
  },
  {
   "cell_type": "code",
   "execution_count": 14,
   "metadata": {},
   "outputs": [
    {
     "name": "stdout",
     "output_type": "stream",
     "text": [
      "Examples of 'CGPA' column:\n",
      "0     NaN\n",
      "1     NaN\n",
      "2    8.97\n",
      "3     NaN\n",
      "4     NaN\n",
      "Name: CGPA, dtype: float64\n",
      "7.658636192558608\n"
     ]
    }
   ],
   "source": [
    "print(\"Examples of 'CGPA' column:\")\n",
    "print(data[\"CGPA\"].head())\n",
    "print(data[\"CGPA\"].mean())"
   ]
  },
  {
   "cell_type": "markdown",
   "metadata": {},
   "source": [
    "We consider changing the NaN slots to the average of the dataset, which is 7.66"
   ]
  },
  {
   "cell_type": "markdown",
   "metadata": {},
   "source": [
    "# Study Satisfaction and Job Satisfaction (Satisfaction)"
   ]
  },
  {
   "cell_type": "code",
   "execution_count": 15,
   "metadata": {},
   "outputs": [
    {
     "name": "stdout",
     "output_type": "stream",
     "text": [
      "Examples of 'Study Satisfaction' and 'Job Satisfaction' column:\n",
      "0    NaN\n",
      "1    NaN\n",
      "2    2.0\n",
      "3    NaN\n",
      "4    NaN\n",
      "Name: Study Satisfaction, dtype: float64\n",
      "0    2.0\n",
      "1    3.0\n",
      "2    NaN\n",
      "3    1.0\n",
      "4    1.0\n",
      "Name: Job Satisfaction, dtype: float64\n"
     ]
    }
   ],
   "source": [
    "print(\"Examples of 'Study Satisfaction' and 'Job Satisfaction' column:\")\n",
    "print(data[\"Study Satisfaction\"].head())\n",
    "print(data[\"Job Satisfaction\"].head())"
   ]
  },
  {
   "cell_type": "markdown",
   "metadata": {},
   "source": [
    "You can tell that when there is missing a value in the study satisfaction column, there is a value in the same sample but on the job satisfaction problem. these two columns complete eachother, so we will combine these two columns into one \"satisfaction\" column."
   ]
  },
  {
   "cell_type": "markdown",
   "metadata": {},
   "source": [
    "# Sleep Duration"
   ]
  },
  {
   "cell_type": "code",
   "execution_count": 16,
   "metadata": {},
   "outputs": [
    {
     "name": "stdout",
     "output_type": "stream",
     "text": [
      "Unique sleep sorted by count (most to least):\n",
      "Less than 5 hours 38784\n",
      "7-8 hours 36969\n",
      "More than 8 hours 32726\n",
      "5-6 hours 32142\n",
      "3-4 hours 12\n",
      "6-7 hours 8\n",
      "4-5 hours 7\n"
     ]
    }
   ],
   "source": [
    "sleep_counts = data[\"Sleep Duration\"].value_counts()\n",
    "\n",
    "print(\"Unique sleep sorted by count (most to least):\")\n",
    "for e, (duration, count) in enumerate(sleep_counts.items()):\n",
    "    print(duration, count)\n",
    "    if e == 6:\n",
    "        break"
   ]
  },
  {
   "cell_type": "markdown",
   "metadata": {},
   "source": [
    "This one looks a bit tricky. since there are so few occurnces of other than the four most common inputs in this feature, we will change the numbers to a scale from 1 to 4, where 1 is \"less than 5 hours\" all the way to 4 which is \"more than 8 hours\". all the others will be set to 1."
   ]
  },
  {
   "cell_type": "markdown",
   "metadata": {},
   "source": [
    "# Dietary Habits"
   ]
  },
  {
   "cell_type": "code",
   "execution_count": 17,
   "metadata": {},
   "outputs": [
    {
     "name": "stdout",
     "output_type": "stream",
     "text": [
      "Unique sleep sorted by count (most to least):\n",
      "Moderate 49705\n",
      "Unhealthy 46227\n",
      "Healthy 44741\n",
      "Yes 2\n",
      "No 2\n",
      "More Healthy 2\n",
      "No Healthy 1\n"
     ]
    }
   ],
   "source": [
    "diet_counts = data[\"Dietary Habits\"].value_counts()\n",
    "\n",
    "print(\"Unique sleep sorted by count (most to least):\")\n",
    "for e, (diet, count) in enumerate(diet_counts.items()):\n",
    "    print(diet, count)\n",
    "    if e == 6:\n",
    "        break"
   ]
  },
  {
   "cell_type": "markdown",
   "metadata": {},
   "source": [
    "* Healthy -> 2\n",
    "* Moderate -> 1\n",
    "* Unhealthy -> 0\n",
    "* The rest -> 1"
   ]
  },
  {
   "cell_type": "markdown",
   "metadata": {},
   "source": [
    "# Degree"
   ]
  },
  {
   "cell_type": "code",
   "execution_count": 18,
   "metadata": {},
   "outputs": [
    {
     "name": "stdout",
     "output_type": "stream",
     "text": [
      "115\n",
      "Unique sleep sorted by count (most to least):\n",
      "Class 12 14729\n",
      "B.Ed 11691\n",
      "B.Arch 8742\n",
      "B.Com 8113\n",
      "B.Pharm 5856\n",
      "BCA 5739\n",
      "M.Ed 5668\n",
      "MCA 5234\n",
      "BBA 5030\n",
      "BSc 5027\n",
      "MSc 4879\n"
     ]
    }
   ],
   "source": [
    "degree_counts = data[\"Degree\"].value_counts()\n",
    "print(data[\"Degree\"].nunique())\n",
    "\n",
    "print(\"Unique sleep sorted by count (most to least):\")\n",
    "for e, (degree, count) in enumerate(degree_counts.items()):\n",
    "    print(degree, count)\n",
    "    if e == 10:\n",
    "        break"
   ]
  },
  {
   "cell_type": "markdown",
   "metadata": {},
   "source": [
    "This one is particularly difficult because there are 115 unique degrees and there are not just a few degrees that covers the majority of the dataset either as the case is in the dietary habit feature. Our approach here is to somehow categorize the different degrees into bachelor, master, doctrine etc. and then give each of them a number from -1 to 4 based on the rank of the degree, going from \"other\" (which is the case where we can't define what degree it is) to professional."
   ]
  },
  {
   "cell_type": "markdown",
   "metadata": {},
   "source": [
    "# Have you ever had suicidal thoughts ?"
   ]
  },
  {
   "cell_type": "code",
   "execution_count": 19,
   "metadata": {},
   "outputs": [
    {
     "name": "stdout",
     "output_type": "stream",
     "text": [
      "Examples of 'Have you ever had suicidal thoughts ?' column:\n",
      "0     No\n",
      "1    Yes\n",
      "2    Yes\n",
      "3    Yes\n",
      "4    Yes\n",
      "Name: Have you ever had suicidal thoughts ?, dtype: object\n",
      "\n",
      "Number of unique Have you ever had suicidal thoughts ?: 2\n"
     ]
    }
   ],
   "source": [
    "print(\"Examples of 'Have you ever had suicidal thoughts ?' column:\")\n",
    "print(data[\"Have you ever had suicidal thoughts ?\"].head())\n",
    "\n",
    "print(\"\")\n",
    "\n",
    "print(\"Number of unique Have you ever had suicidal thoughts ?:\", data[\"Have you ever had suicidal thoughts ?\"].nunique())"
   ]
  },
  {
   "cell_type": "markdown",
   "metadata": {},
   "source": [
    "We will also change this column to binary no / yes to 0 / 1"
   ]
  },
  {
   "cell_type": "markdown",
   "metadata": {},
   "source": [
    "# Work Study Hours (No prerocessing needed here)"
   ]
  },
  {
   "cell_type": "code",
   "execution_count": 20,
   "metadata": {},
   "outputs": [
    {
     "name": "stdout",
     "output_type": "stream",
     "text": [
      "13\n",
      "Unique Work/Study Hours sorted by count (most to least):\n",
      "10.0 14199\n",
      "11.0 12832\n",
      "9.0 12711\n",
      "0.0 12066\n",
      "12.0 11409\n",
      "2.0 10595\n",
      "6.0 10432\n",
      "7.0 9872\n",
      "1.0 9802\n",
      "3.0 9474\n",
      "5.0 9337\n",
      "4.0 9065\n",
      "8.0 8906\n"
     ]
    }
   ],
   "source": [
    "ws_counts = data[\"Work/Study Hours\"].value_counts()\n",
    "print(data[\"Work/Study Hours\"].nunique())\n",
    "\n",
    "print(\"Unique Work/Study Hours sorted by count (most to least):\")\n",
    "for e, (ws, count) in enumerate(ws_counts.items()):\n",
    "    print(ws, count)\n",
    "    if e == 20:\n",
    "        break"
   ]
  },
  {
   "cell_type": "markdown",
   "metadata": {},
   "source": [
    "# Financial Stress"
   ]
  },
  {
   "cell_type": "code",
   "execution_count": 21,
   "metadata": {},
   "outputs": [
    {
     "name": "stdout",
     "output_type": "stream",
     "text": [
      "5\n",
      "Unique sleep sorted by count (most to least):\n",
      "2.0 31451\n",
      "5.0 28279\n",
      "4.0 27765\n",
      "1.0 27211\n",
      "3.0 25990\n"
     ]
    }
   ],
   "source": [
    "finans_count = data[\"Financial Stress\"].value_counts()\n",
    "print(data[\"Financial Stress\"].nunique())\n",
    "\n",
    "print(\"Unique sleep sorted by count (most to least):\")\n",
    "for e, (fn, count) in enumerate(finans_count.items()):\n",
    "    print(fn, count)\n",
    "    if e == 10:\n",
    "        break"
   ]
  },
  {
   "cell_type": "markdown",
   "metadata": {},
   "source": [
    "Has a few missing values, we will impute the mean in these."
   ]
  },
  {
   "cell_type": "markdown",
   "metadata": {},
   "source": [
    "# Family History of Mental Illness"
   ]
  },
  {
   "cell_type": "code",
   "execution_count": 22,
   "metadata": {},
   "outputs": [
    {
     "name": "stdout",
     "output_type": "stream",
     "text": [
      "Examples of 'Family History of Mental Illness' column:\n",
      "0     No\n",
      "1     No\n",
      "2     No\n",
      "3    Yes\n",
      "4    Yes\n",
      "Name: Family History of Mental Illness, dtype: object\n",
      "\n",
      "Number of unique Family History of Mental Illnesses: 2\n"
     ]
    }
   ],
   "source": [
    "print(\"Examples of 'Family History of Mental Illness' column:\")\n",
    "print(data[\"Family History of Mental Illness\"].head())\n",
    "\n",
    "print(\"\")\n",
    "\n",
    "print(\"Number of unique Family History of Mental Illnesses:\", data[\"Family History of Mental Illness\"].nunique())"
   ]
  },
  {
   "cell_type": "markdown",
   "metadata": {},
   "source": [
    "For this column we will change yes and no to 1 and 0"
   ]
  },
  {
   "cell_type": "markdown",
   "metadata": {},
   "source": [
    "# Depression - The label\n",
    "Plotting the distribution of the labels"
   ]
  },
  {
   "cell_type": "code",
   "execution_count": 23,
   "metadata": {},
   "outputs": [
    {
     "data": {
      "image/png": "[encoded data removed]",
      "text/plain": [
       "<Figure size 640x480 with 1 Axes>"
      ]
     },
     "metadata": {},
     "output_type": "display_data"
    }
   ],
   "source": [
    "target_counts = data['Depression'].value_counts()\n",
    "target_counts.plot(kind='bar', color=['pink', 'black'])\n",
    "plt.xticks(ticks=[0, 1], labels=['Not Depressed', 'Depressed'], rotation=0)\n",
    "plt.title('Distribution of Not Depressed vs Depressed')\n",
    "plt.show()"
   ]
  },
  {
   "cell_type": "markdown",
   "metadata": {},
   "source": [
    "You can tell that there is a significant imbalance between depressed and not depressed. "
   ]
  },
  {
   "cell_type": "markdown",
   "metadata": {},
   "source": [
    "# Pre-processing"
   ]
  },
  {
   "cell_type": "markdown",
   "metadata": {},
   "source": [
    "Dropping the Id column"
   ]
  },
  {
   "cell_type": "code",
   "execution_count": 24,
   "metadata": {},
   "outputs": [],
   "source": [
    "def dropId(data):\n",
    "    data = data.drop(columns=[\"id\"])\n",
    "    return data"
   ]
  },
  {
   "cell_type": "markdown",
   "metadata": {},
   "source": [
    "Encoding the name column, Replacing each name with its frequency in the dataset"
   ]
  },
  {
   "cell_type": "code",
   "execution_count": 25,
   "metadata": {},
   "outputs": [],
   "source": [
    "def name_freq(data):\n",
    "    data[\"Name\"] = data[\"Name\"].map(data[\"Name\"].value_counts())\n",
    "    return data"
   ]
  },
  {
   "cell_type": "markdown",
   "metadata": {},
   "source": [
    "Encoding gender column 0/1"
   ]
  },
  {
   "cell_type": "code",
   "execution_count": 26,
   "metadata": {},
   "outputs": [],
   "source": [
    "def gender_encode(data):\n",
    "    data[\"Gender\"] = data[\"Gender\"].map({\"Female\": 0, \"Male\": 1 })\n",
    "    return data"
   ]
  },
  {
   "cell_type": "markdown",
   "metadata": {},
   "source": [
    "Age, changing the type"
   ]
  },
  {
   "cell_type": "code",
   "execution_count": 27,
   "metadata": {},
   "outputs": [],
   "source": [
    "def age_integer(data):\n",
    "    data[\"Age\"] = data[\"Age\"].astype(int)\n",
    "    return data"
   ]
  },
  {
   "cell_type": "markdown",
   "metadata": {},
   "source": [
    "Academic Preessure, inserting 0 in the empty slots"
   ]
  },
  {
   "cell_type": "code",
   "execution_count": 28,
   "metadata": {},
   "outputs": [],
   "source": [
    "def academic_pressure(data):\n",
    "    data[\"Academic Pressure\"] = np.where(\n",
    "        data[\"Academic Pressure\"].isnull(), 0,\n",
    "        data[\"Academic Pressure\"]\n",
    "    )\n",
    "    return data"
   ]
  },
  {
   "cell_type": "markdown",
   "metadata": {},
   "source": [
    "Family History of Mental Illnes. -> 0/1"
   ]
  },
  {
   "cell_type": "code",
   "execution_count": 29,
   "metadata": {},
   "outputs": [],
   "source": [
    "def family_mental_illness(data):\n",
    "    data[\"Family History of Mental Illness\"] = np.where(\n",
    "        data[\"Family History of Mental Illness\"] == \"No\", 0,\n",
    "        np.where(\n",
    "            data[\"Family History of Mental Illness\"] == \"Yes\", 1,\n",
    "            data[\"Family History of Mental Illness\"]\n",
    "        )\n",
    "    )\n",
    "\n",
    "    # Convert to integer type\n",
    "    data[\"Family History of Mental Illness\"] = data[\"Family History of Mental Illness\"].astype(int)\n",
    "    \n",
    "    return data"
   ]
  },
  {
   "cell_type": "markdown",
   "metadata": {},
   "source": [
    "Have you ever had suicidal thoughts? -> 0/1"
   ]
  },
  {
   "cell_type": "code",
   "execution_count": 30,
   "metadata": {},
   "outputs": [],
   "source": [
    "def suicidal_thoughts(data):\n",
    "    data[\"Have you ever had suicidal thoughts ?\"] = np.where(\n",
    "        data[\"Have you ever had suicidal thoughts ?\"] == \"No\", 0,\n",
    "        np.where(\n",
    "            data[\"Have you ever had suicidal thoughts ?\"] == \"Yes\", 1,\n",
    "            data[\"Have you ever had suicidal thoughts ?\"]\n",
    "        )\n",
    "    )\n",
    "\n",
    "    data[\"Have you ever had suicidal thoughts ?\"] = data[\"Have you ever had suicidal thoughts ?\"].astype(int)\n",
    "    return data"
   ]
  },
  {
   "cell_type": "markdown",
   "metadata": {},
   "source": [
    "Financial stress"
   ]
  },
  {
   "cell_type": "code",
   "execution_count": 31,
   "metadata": {},
   "outputs": [],
   "source": [
    "def financial_stress(data):\n",
    "    data[\"Financial Stress\"] = np.where(\n",
    "        data[\"Financial Stress\"].isnull(), round(data[\"Financial Stress\"].mean()), data[\"Financial Stress\"]\n",
    "    )\n",
    "    return data"
   ]
  },
  {
   "cell_type": "markdown",
   "metadata": {},
   "source": [
    "Working Professional or Student. -> 0/1"
   ]
  },
  {
   "cell_type": "code",
   "execution_count": 32,
   "metadata": {},
   "outputs": [],
   "source": [
    "def working_or_student(data):\n",
    "    data[\"Working Professional or Student\"] = np.where(\n",
    "        data[\"Working Professional or Student\"] == \"Working Professional\", 0,\n",
    "        np.where(\n",
    "            data[\"Working Professional or Student\"] == \"Student\", 1,\n",
    "            data[\"Working Professional or Student\"]\n",
    "        )\n",
    "    )       \n",
    "\n",
    "    # Convert to integer type\n",
    "    data[\"Working Professional or Student\"] = data[\"Working Professional or Student\"].astype(int)\n",
    "    \n",
    "    return data"
   ]
  },
  {
   "cell_type": "markdown",
   "metadata": {},
   "source": [
    "Profession. Inserting Student in the empty slots if the sample is a student and missing profession if it is empty and the sample is not a student. also inserting \"Missing Profession\" in the professions that has less than 10 occurrences in the dataset because the majority of these are wrong information."
   ]
  },
  {
   "cell_type": "code",
   "execution_count": 33,
   "metadata": {},
   "outputs": [],
   "source": [
    "def profession(data):\n",
    "    # Count occurrences of each profession\n",
    "    profession_counts = data[\"Profession\"].value_counts()\n",
    "    \n",
    "    # Update the \"Profession\" column\n",
    "    data[\"Profession\"] = np.where(\n",
    "        data[\"Profession\"].isnull() & (data[\"Working Professional or Student\"] == 1),\n",
    "        \"Student\",\n",
    "        np.where(\n",
    "            data[\"Profession\"].isnull() & (data[\"Working Professional or Student\"] == 0), \n",
    "            \"Missing Profession\", \n",
    "            np.where(\n",
    "                data[\"Profession\"].map(profession_counts) < 6,  # If occurrence < 10, set to \"Missing Profession\"\n",
    "                \"Missing Profession\",\n",
    "                data[\"Profession\"]\n",
    "            )\n",
    "        )\n",
    "    )\n",
    "    return data\n"
   ]
  },
  {
   "cell_type": "markdown",
   "metadata": {},
   "source": [
    "Categorizing Professions and giving each category a number. the number is a rating from 0 to 10 on how happy people are in given categories. We used chatGPT to rate them based on different logical points. see professions_mapping dictionary for description of the ratings."
   ]
  },
  {
   "cell_type": "code",
   "execution_count": 34,
   "metadata": {},
   "outputs": [],
   "source": [
    "def categorize_profession(profession):\n",
    "    if pd.isna(profession) or \"missing\" in profession.lower():\n",
    "        return \"Unknown\"\n",
    "    \n",
    "    profession = profession.lower().strip()\n",
    "\n",
    "    # Technology\n",
    "    tech_keywords = [\"software\", \"data scientist\", \"ux/ui\", \"developer\", \"engineer\"]\n",
    "    if any(keyword in profession for keyword in tech_keywords):\n",
    "        return \"Technology\"\n",
    "\n",
    "    # Finance\n",
    "    finance_keywords = [\"accountant\", \"financial\", \"investment\", \"banker\", \"analyst\"]\n",
    "    if any(keyword in profession for keyword in finance_keywords):\n",
    "        return \"Finance\"\n",
    "\n",
    "    # Healthcare\n",
    "    healthcare_keywords = [\"doctor\", \"pharmacist\", \"dentist\", \"nurse\"]\n",
    "    if any(keyword in profession for keyword in healthcare_keywords):\n",
    "        return \"Healthcare\"\n",
    "\n",
    "    # Education\n",
    "    education_keywords = [\"teacher\", \"professor\", \"educational\"]\n",
    "    if any(keyword in profession for keyword in education_keywords):\n",
    "        return \"Education\"\n",
    "\n",
    "    # Engineering\n",
    "    engineering_keywords = [\"civil engineer\", \"mechanical engineer\", \"architect\"]\n",
    "    if any(keyword in profession for keyword in engineering_keywords):\n",
    "        return \"Engineering\"\n",
    "\n",
    "    # Marketing & Sales\n",
    "    marketing_keywords = [\"marketing\", \"sales\", \"digital marketer\", \"content writer\"]\n",
    "    if any(keyword in profession for keyword in marketing_keywords):\n",
    "        return \"Marketing/Sales\"\n",
    "\n",
    "    # Trade & Manual Work\n",
    "    trade_keywords = [\"electrician\", \"plumber\", \"chef\", \"mechanic\"]\n",
    "    if any(keyword in profession for keyword in trade_keywords):\n",
    "        return \"Trade\"\n",
    "\n",
    "    # Legal\n",
    "    legal_keywords = [\"lawyer\", \"judge\", \"legal\"]\n",
    "    if any(keyword in profession for keyword in legal_keywords):\n",
    "        return \"Legal\"\n",
    "\n",
    "    # Consulting\n",
    "    consulting_keywords = [\"consultant\", \"business analyst\"]\n",
    "    if any(keyword in profession for keyword in consulting_keywords):\n",
    "        return \"Consulting\"\n",
    "\n",
    "    # Other / Unknown\n",
    "    return \"Other\"\n",
    "\n",
    "def Prefession_categorization(data):\n",
    "    # Apply categorization\n",
    "    data[\"Profession_Category\"] = data[\"Profession\"].apply(categorize_profession)\n",
    "\n",
    "    # Encoding Options\n",
    "\n",
    "    ## Option 1: Ordinal Encoding (useful if there's a natural order)\n",
    "    profession_mapping = {\n",
    "    \"Unknown\": 0,           # No data on job satisfaction\n",
    "    \"Other\": 4,             # Mixed bag, depends on the job\n",
    "    \"Trade\": 6,             # Skilled trades often provide satisfaction, but physically demanding\n",
    "    \"Marketing/Sales\": 5,   # High variability, stressful but rewarding\n",
    "    \"Consulting\": 5,        # High pay but often high stress & long hours\n",
    "    \"Education\": 7,         # Fulfilling, but pay can be low and stress can be high\n",
    "    \"Finance\": 6,           # High pay, but long hours and stress\n",
    "    \"Engineering\": 7,       # Good pay, problem-solving, but deadlines can be stressful\n",
    "    \"Healthcare\": 6,        # Rewarding but high stress and burnout risk\n",
    "    \"Legal\": 5,             # High salary, but stressful and demanding\n",
    "    \"Technology\": 8         # High salary, flexibility, remote work options\n",
    "}\n",
    "\n",
    "\n",
    "    data[\"Profession_Encoded\"] = data[\"Profession_Category\"].map(profession_mapping)\n",
    "\n",
    "    data[\"Profession\"] = data[\"Profession_Encoded\"]\n",
    "\n",
    "    data = data.drop(columns=[\"Profession_Encoded\", \"Profession_Category\"])\n",
    "    return data\n",
    "    ## Option 2: One-Hot Encoding (better for categorical data)\n",
    "    # data = pd.get_dummies(data, columns=[\"Profession_Category\"], prefix=\"Profession\")\n"
   ]
  },
  {
   "cell_type": "markdown",
   "metadata": {},
   "source": [
    "Work Pressure"
   ]
  },
  {
   "cell_type": "code",
   "execution_count": 35,
   "metadata": {},
   "outputs": [],
   "source": [
    "def work_pressure(data):\n",
    "    data[\"Work Pressure\"] = np.where(\n",
    "        data[\"Work Pressure\"].isnull(), 0.0, data[\"Work Pressure\"]\n",
    "    )\n",
    "    return data"
   ]
  },
  {
   "cell_type": "markdown",
   "metadata": {},
   "source": [
    "CGPA"
   ]
  },
  {
   "cell_type": "code",
   "execution_count": 36,
   "metadata": {},
   "outputs": [],
   "source": [
    "def cgpa(data):\n",
    "    data[\"CGPA\"] = np.where(\n",
    "        data[\"CGPA\"].isnull(), round(data[\"CGPA\"].mean(), 2), data[\"CGPA\"]\n",
    "    )\n",
    "    return data"
   ]
  },
  {
   "cell_type": "markdown",
   "metadata": {},
   "source": [
    "Study- and Job Satisfaction"
   ]
  },
  {
   "cell_type": "code",
   "execution_count": 37,
   "metadata": {},
   "outputs": [],
   "source": [
    "def satisfaction(data):\n",
    "    satisfaction = np.where(\n",
    "        data[\"Study Satisfaction\"].notnull(), data[\"Study Satisfaction\"], np.where(\n",
    "            data[\"Job Satisfaction\"].notnull(), data[\"Job Satisfaction\"], 0\n",
    "        )\n",
    "    )\n",
    "    data[\"Job Satisfaction\"] = satisfaction\n",
    "    data = data.drop(columns=\"Study Satisfaction\")\n",
    "    data.rename(columns={\"Job Satisfaction\": \"Satisfaction\"}, inplace=True)\n",
    "    return data"
   ]
  },
  {
   "cell_type": "markdown",
   "metadata": {},
   "source": [
    "Sleep Duration"
   ]
  },
  {
   "cell_type": "code",
   "execution_count": 38,
   "metadata": {},
   "outputs": [],
   "source": [
    "def sleep_duration(data):\n",
    "    data[\"Sleep Duration\"] = np.where(\n",
    "        data[\"Sleep Duration\"] == \"Less than 5 hours\", 1, np.where(\n",
    "            data[\"Sleep Duration\"] == \"5-6 hours\", 2, np.where(\n",
    "                data[\"Sleep Duration\"] == \"7-8 hours\", 3, np.where(\n",
    "                    data[\"Sleep Duration\"] == \"More than 8 hours\", 4, 1\n",
    "                )\n",
    "            )\n",
    "        )\n",
    "    )\n",
    "    return data"
   ]
  },
  {
   "cell_type": "markdown",
   "metadata": {},
   "source": [
    "Dietary Habits"
   ]
  },
  {
   "cell_type": "code",
   "execution_count": 39,
   "metadata": {},
   "outputs": [],
   "source": [
    "def diet(data):\n",
    "    data[\"Dietary Habits\"] = np.where(\n",
    "        data[\"Dietary Habits\"] == \"Healthy\", 2, np.where(\n",
    "            data[\"Dietary Habits\"] == \"Moderate\", 1, np.where(\n",
    "                data[\"Dietary Habits\"] == \"Unhealthy\", 0, 1\n",
    "            )\n",
    "        )\n",
    "    )\n",
    "    return data"
   ]
  },
  {
   "cell_type": "markdown",
   "metadata": {},
   "source": []
  },
  {
   "cell_type": "code",
   "execution_count": 40,
   "metadata": {},
   "outputs": [],
   "source": [
    "def categorize_degree(degree):\n",
    "\n",
    "    \"\"\"\n",
    "    Categorizes the differnet degrees into Schoo, Bachelors, Masters, Doctrate, professional and other\n",
    "    \"\"\"\n",
    "    \n",
    "    degree = str(degree).strip().lower()\n",
    "\n",
    "    # School-Level\n",
    "    if \"class 11\" in degree or \"class 12\" in degree:\n",
    "        return \"School\"\n",
    "\n",
    "    # Bachelor's Degrees\n",
    "    bachelor_keywords = [\"b.\", \"b \", \"bachelor\", \"bcom\", \"bsc\", \"btech\", \"be\", \"bba\", \"bca\", \"ba\", \"b.ed\", \"b.arch\"]\n",
    "    if any(keyword in degree for keyword in bachelor_keywords):\n",
    "        return \"Bachelors\"\n",
    "\n",
    "    # Master's Degrees\n",
    "    master_keywords = [\"m.\", \"m \", \"master\", \"mba\", \"mcom\", \"msc\", \"mtech\", \"me\", \"mca\", \"m.ed\", \"mpharm\", \"m.arch\"]\n",
    "    if any(keyword in degree for keyword in master_keywords):\n",
    "        return \"Masters\"\n",
    "\n",
    "    # Doctoral Degrees\n",
    "    if \"phd\" in degree:\n",
    "        return \"Doctorate\"\n",
    "\n",
    "    # Professional Degrees\n",
    "    professional_keywords = [\"mbbs\", \"md\", \"llb\", \"llm\"]\n",
    "    if any(keyword in degree for keyword in professional_keywords):\n",
    "        return \"Professional\"\n",
    "\n",
    "    # Unknown / Noisy Data\n",
    "    return \"Other\"\n",
    "\n",
    "def degree(data):\n",
    "    \n",
    "    # Apply categorization\n",
    "    data[\"Degree\"] = data[\"Degree\"].apply(categorize_degree)\n",
    "\n",
    "\n",
    "    # Define an ordinal mapping\n",
    "    degree_mapping = {\n",
    "        \"School\": 1,\n",
    "        \"Bachelors\": 2,\n",
    "        \"Masters\": 3,\n",
    "        \"Professional\": 4,\n",
    "        \"Doctorate\": 5,\n",
    "        \"Other\": 0  # Keep 'Other' at the highest level or remove it depending on the approach\n",
    "    }\n",
    "\n",
    "    # Apply mapping\n",
    "    data[\"Degree\"] = data[\"Degree\"].map(degree_mapping)\n",
    "\n",
    "    return data \n",
    "\n"
   ]
  },
  {
   "cell_type": "markdown",
   "metadata": {},
   "source": [
    "City"
   ]
  },
  {
   "cell_type": "code",
   "execution_count": 41,
   "metadata": {},
   "outputs": [],
   "source": [
    "# Load city data\n",
    "city_data_path = \"./Data/indian_cities_data.csv\"\n",
    "df_cities = pd.read_csv(city_data_path)\n",
    "\n",
    "def city_one_hot(data):\n",
    "    # Find the index of the \"City\" column\n",
    "    city_index = data.columns.get_loc(\"City\")\n",
    "\n",
    "    # Merge the data with city information, excluding \"Main Language\"\n",
    "    merged_data = data.merge(df_cities.drop(columns=[\"Main Language\"]), on=\"City\", how=\"left\")\n",
    "\n",
    "    # Calculate the mean values for missing cities\n",
    "    mean_values = merged_data[[\"Population\", \"Density (per km²)\", \"Literacy Rate (%)\", \"Sex Ratio\"]].mean()\n",
    "\n",
    "    # Replace NaN values with the mean of the respective column\n",
    "    merged_data.fillna(mean_values, inplace=True)\n",
    "\n",
    "    # Drop the original \"City\" column\n",
    "    merged_data.drop(columns=[\"City\"], inplace=True)\n",
    "\n",
    "    # Reorder columns to place new city-related columns where \"City\" was\n",
    "    city_columns = [\"Population\", \"Density (per km²)\", \"Literacy Rate (%)\", \"Sex Ratio\"]\n",
    "    cols = merged_data.columns.tolist()\n",
    "\n",
    "    # Move the new city-related columns to the correct index\n",
    "    for col in reversed(city_columns):\n",
    "        cols.insert(city_index, cols.pop(cols.index(col)))\n",
    "\n",
    "    # Reorder the dataframe\n",
    "    merged_data = merged_data[cols]\n",
    "\n",
    "    return merged_data\n"
   ]
  },
  {
   "cell_type": "markdown",
   "metadata": {},
   "source": [
    "Pre-processing function:"
   ]
  },
  {
   "cell_type": "code",
   "execution_count": 42,
   "metadata": {},
   "outputs": [],
   "source": [
    "def pre_processing(data):\n",
    "\n",
    "    data = dropId(data)\n",
    "    data = name_freq(data)\n",
    "    data = gender_encode(data)\n",
    "    data = age_integer(data)\n",
    "    data = academic_pressure(data)\n",
    "    data = family_mental_illness(data)\n",
    "    data = suicidal_thoughts(data)\n",
    "    data = working_or_student(data)\n",
    "    data = profession(data)\n",
    "    data = work_pressure(data)\n",
    "    data = cgpa(data)\n",
    "    data = satisfaction(data)\n",
    "    data = sleep_duration(data)\n",
    "    data = diet(data)\n",
    "    data = degree(data)\n",
    "    data = Prefession_categorization(data)\n",
    "    data = city_one_hot(data)\n",
    "    data = financial_stress(data)\n",
    "    return data\n",
    "\n",
    "training_data = pre_processing(data)\n",
    "test_data = pre_processing(test)\n",
    "test_data.to_csv(\"test_data.csv\", index=False)"
   ]
  },
  {
   "cell_type": "code",
   "execution_count": 43,
   "metadata": {},
   "outputs": [
    {
     "name": "stdout",
     "output_type": "stream",
     "text": [
      "        Name  Gender  Age  Population  Density (per km²)  Literacy Rate (%)  \\\n",
      "0       2045       0   49   1618879.0             5200.0              85.77   \n",
      "1        963       1   26   1198491.0             7300.0              79.27   \n",
      "2        730       1   33   1728128.0             2500.0              81.79   \n",
      "3        730       1   22  12442373.0            20482.0              89.73   \n",
      "4        499       0   30   2765348.0             6900.0              82.42   \n",
      "...      ...     ...  ...         ...                ...                ...   \n",
      "140695  1408       0   18   5577940.0            11000.0              89.62   \n",
      "140696   237       0   41   6731790.0            10477.0              83.26   \n",
      "140697   684       0   24   4496694.0            22000.0              86.31   \n",
      "140698  1104       0   49   1180570.0             4000.0              69.15   \n",
      "140699   382       1   27   1684222.0            17012.0              83.37   \n",
      "\n",
      "        Sex Ratio  Working Professional or Student  Profession  \\\n",
      "0           850.0                                0           6   \n",
      "1           887.0                                0           7   \n",
      "2           978.0                                1           4   \n",
      "3           853.0                                0           7   \n",
      "4           857.0                                0           6   \n",
      "...           ...                              ...         ...   \n",
      "140695      898.0                                0           0   \n",
      "140696      955.0                                0           5   \n",
      "140697      908.0                                0           5   \n",
      "140698      908.0                                0           6   \n",
      "140699      885.0                                1           4   \n",
      "\n",
      "        Academic Pressure  ...  CGPA  Satisfaction  Sleep Duration  \\\n",
      "0                     0.0  ...  7.66           2.0               4   \n",
      "1                     0.0  ...  7.66           3.0               1   \n",
      "2                     5.0  ...  8.97           2.0               2   \n",
      "3                     0.0  ...  7.66           1.0               1   \n",
      "4                     0.0  ...  7.66           1.0               2   \n",
      "...                   ...  ...   ...           ...             ...   \n",
      "140695                0.0  ...  7.66           4.0               2   \n",
      "140696                0.0  ...  7.66           4.0               3   \n",
      "140697                0.0  ...  7.66           1.0               4   \n",
      "140698                0.0  ...  7.66           2.0               2   \n",
      "140699                4.0  ...  9.24           1.0               1   \n",
      "\n",
      "        Dietary Habits  Degree  Have you ever had suicidal thoughts ?  \\\n",
      "0                    2       0                                      0   \n",
      "1                    0       4                                      1   \n",
      "2                    2       2                                      1   \n",
      "3                    1       2                                      1   \n",
      "4                    0       2                                      1   \n",
      "...                ...     ...                                    ...   \n",
      "140695               0       1                                      0   \n",
      "140696               1       2                                      1   \n",
      "140697               1       2                                      0   \n",
      "140698               1       3                                      1   \n",
      "140699               2       2                                      1   \n",
      "\n",
      "        Work/Study Hours  Financial Stress  Family History of Mental Illness  \\\n",
      "0                    1.0               2.0                                 0   \n",
      "1                    7.0               3.0                                 0   \n",
      "2                    3.0               1.0                                 0   \n",
      "3                   10.0               1.0                                 1   \n",
      "4                    9.0               4.0                                 1   \n",
      "...                  ...               ...                               ...   \n",
      "140695               2.0               4.0                                 1   \n",
      "140696               6.0               5.0                                 1   \n",
      "140697               4.0               4.0                                 0   \n",
      "140698              10.0               1.0                                 0   \n",
      "140699               2.0               3.0                                 1   \n",
      "\n",
      "        Depression  \n",
      "0                0  \n",
      "1                1  \n",
      "2                1  \n",
      "3                1  \n",
      "4                0  \n",
      "...            ...  \n",
      "140695           1  \n",
      "140696           0  \n",
      "140697           0  \n",
      "140698           0  \n",
      "140699           1  \n",
      "\n",
      "[140700 rows x 21 columns]\n"
     ]
    }
   ],
   "source": [
    "print(training_data)"
   ]
  },
  {
   "cell_type": "markdown",
   "metadata": {},
   "source": [
    "Splitting the dataset into Train and val, also extracting the labels."
   ]
  },
  {
   "cell_type": "code",
   "execution_count": 44,
   "metadata": {},
   "outputs": [],
   "source": [
    "def split_training_data(seed=42, train_size=0.8, data=training_data):\n",
    "    np.random.seed(seed)\n",
    "    X = data.drop(columns=[\"Depression\"])   \n",
    "    y = data[\"Depression\"]\n",
    "    X_train, X_val, y_train, y_val = train_test_split(X, y, train_size=train_size, random_state=seed, stratify=y)\n",
    "    return X_train, X_val, y_train, y_val"
   ]
  },
  {
   "cell_type": "markdown",
   "metadata": {},
   "source": [
    "Normalizing data"
   ]
  },
  {
   "cell_type": "code",
   "execution_count": 45,
   "metadata": {},
   "outputs": [],
   "source": [
    "from sklearn.preprocessing import MinMaxScaler\n",
    "\n",
    "def normalize_dataset(train_data, test_data):\n",
    "    # Identify binary columns (values only 0 or 1)\n",
    "    binary_columns = [col for col in train_data.columns if train_data[col].dropna().isin([0, 1]).all()]\n",
    "    \n",
    "    # Identify continuous numerical columns (everything else)\n",
    "    continuous_columns = [col for col in train_data.columns if col not in binary_columns]\n",
    "\n",
    "    # Initialize MinMaxScaler\n",
    "    scaler = MinMaxScaler()\n",
    "\n",
    "    # Fit on training data only, then transform both training and test data\n",
    "    train_data_scaled = train_data.copy()\n",
    "    test_data_scaled = test_data.copy()\n",
    "\n",
    "    train_data_scaled[continuous_columns] = scaler.fit_transform(train_data[continuous_columns])\n",
    "    test_data_scaled[continuous_columns] = scaler.transform(test_data[continuous_columns])  # Only transform\n",
    "\n",
    "    return train_data_scaled, test_data_scaled\n"
   ]
  },
  {
   "cell_type": "markdown",
   "metadata": {},
   "source": [
    "Data:"
   ]
  },
  {
   "cell_type": "code",
   "execution_count": 46,
   "metadata": {},
   "outputs": [
    {
     "name": "stdout",
     "output_type": "stream",
     "text": [
      "       Name  Gender       Age  Population  Density (per km²)  \\\n",
      "0  0.643374       0  0.738095    0.028083           0.196787   \n",
      "1  0.302801       1  0.190476    0.001148           0.297189   \n",
      "2  0.229462       1  0.357143    0.035083           0.067699   \n",
      "3  0.229462       1  0.095238    0.721570           0.927424   \n",
      "4  0.156752       0  0.285714    0.101540           0.278065   \n",
      "\n",
      "   Literacy Rate (%)  Sex Ratio  Working Professional or Student  Profession  \\\n",
      "0           0.729908   0.403433                                0       0.750   \n",
      "1           0.444444   0.562232                                0       0.875   \n",
      "2           0.555116   0.952790                                1       0.500   \n",
      "3           0.903821   0.416309                                0       0.875   \n",
      "4           0.582784   0.433476                                0       0.750   \n",
      "\n",
      "   Academic Pressure  ...      CGPA  Satisfaction  Sleep Duration  \\\n",
      "0                0.0  ...  0.529175           0.4        1.000000   \n",
      "1                0.0  ...  0.529175           0.6        0.000000   \n",
      "2                1.0  ...  0.792757           0.4        0.333333   \n",
      "3                0.0  ...  0.529175           0.2        0.000000   \n",
      "4                0.0  ...  0.529175           0.2        0.333333   \n",
      "\n",
      "   Dietary Habits  Degree  Have you ever had suicidal thoughts ?  \\\n",
      "0             1.0     0.0                                      0   \n",
      "1             0.0     0.8                                      1   \n",
      "2             1.0     0.4                                      1   \n",
      "3             0.5     0.4                                      1   \n",
      "4             0.0     0.4                                      1   \n",
      "\n",
      "   Work/Study Hours  Financial Stress  Family History of Mental Illness  \\\n",
      "0          0.083333              0.25                                 0   \n",
      "1          0.583333              0.50                                 0   \n",
      "2          0.250000              0.00                                 0   \n",
      "3          0.833333              0.00                                 1   \n",
      "4          0.750000              0.75                                 1   \n",
      "\n",
      "   Depression  \n",
      "0           0  \n",
      "1           1  \n",
      "2           1  \n",
      "3           1  \n",
      "4           0  \n",
      "\n",
      "[5 rows x 21 columns]\n",
      "       Name  Gender       Age  Population  Density (per km²)  \\\n",
      "0  0.225370       1  0.833333    0.035083           0.067699   \n",
      "1  0.282027       0  0.952381    0.212472           1.000000   \n",
      "2  0.092855       1  0.833333    0.119533           0.258941   \n",
      "3  0.071451       0  0.119048    0.006799           0.354561   \n",
      "4  0.191376       1  0.690476    0.004217           0.382674   \n",
      "\n",
      "   Literacy Rate (%)  Sex Ratio  Working Professional or Student  Profession  \\\n",
      "0           0.555116   0.952790                                0       0.625   \n",
      "1           0.753623   0.652361                                0       0.875   \n",
      "2           0.157224   0.618026                                0       0.875   \n",
      "3           0.819060   0.652361                                1       0.500   \n",
      "4           0.975845   0.703863                                0       0.875   \n",
      "\n",
      "   Academic Pressure  Work Pressure      CGPA  Satisfaction  Sleep Duration  \\\n",
      "0                0.0            0.4  0.531187           1.0        0.000000   \n",
      "1                0.0            0.4  0.531187           0.8        0.000000   \n",
      "2                0.0            0.8  0.531187           0.2        0.666667   \n",
      "3                1.0            0.0  0.364185           0.2        1.000000   \n",
      "4                0.0            1.0  0.531187           1.0        0.666667   \n",
      "\n",
      "   Dietary Habits  Degree  Have you ever had suicidal thoughts ?  \\\n",
      "0             0.5     0.8                                      0   \n",
      "1             0.5     0.4                                      0   \n",
      "2             0.5     0.4                                      1   \n",
      "3             0.5     0.4                                      1   \n",
      "4             0.5     0.4                                      1   \n",
      "\n",
      "   Work/Study Hours  Financial Stress  Family History of Mental Illness  \n",
      "0          0.750000              0.50                                 1  \n",
      "1          0.500000              0.75                                 0  \n",
      "2          1.000000              0.75                                 0  \n",
      "3          0.833333              0.75                                 0  \n",
      "4          0.250000              0.75                                 0  \n"
     ]
    }
   ],
   "source": [
    "# Normalize Training and Test Data\n",
    "training_data, test_data = normalize_dataset(training_data, test_data)\n",
    "\n",
    "# Check results\n",
    "print(training_data.head())\n",
    "print(test_data.head())\n",
    "\n",
    "\n",
    "\n",
    "X_train, X_val, y_train, y_val = split_training_data(data=training_data,seed=seed, train_size=0.8)"
   ]
  },
  {
   "cell_type": "markdown",
   "metadata": {},
   "source": [
    "# Defining the base learners and training them"
   ]
  },
  {
   "cell_type": "markdown",
   "metadata": {},
   "source": [
    "#### Specialized Base learners trained on depression = 0 and depression = 1 "
   ]
  },
  {
   "cell_type": "code",
   "execution_count": 47,
   "metadata": {},
   "outputs": [
    {
     "name": "stdout",
     "output_type": "stream",
     "text": [
      "Depressed specialized set class distribution:\n",
      "Depression\n",
      "1    0.950023\n",
      "0    0.049977\n",
      "Name: proportion, dtype: float64\n",
      "\n",
      "Non-depressed specialized set class distribution:\n",
      "Depression\n",
      "0    0.950007\n",
      "1    0.049993\n",
      "Name: proportion, dtype: float64\n"
     ]
    }
   ],
   "source": [
    "import pandas as pd\n",
    "\n",
    "# Assume X_train is your feature DataFrame and y_train is your label Series\n",
    "# First, combine them into one DataFrame.\n",
    "train_df = X_train.copy()\n",
    "train_df['Depression'] = y_train\n",
    "\n",
    "# For the depressed specialized dataset (aim for 95% depression = 1)\n",
    "# 1. Take all depressed samples.\n",
    "df_depr = train_df[train_df['Depression'] == 1]\n",
    "# 2. For non-depressed samples, we need only enough to be 5% of the final set.\n",
    "#    Let D be the number of depressed samples. Then the desired number of non-depressed\n",
    "#    samples is (5/95)*D.\n",
    "D = len(df_depr)\n",
    "non_depr_count = int((5 / 95) * D)\n",
    "df_non_depr = train_df[train_df['Depression'] == 0]\n",
    "# Randomly sample the required non-depressed samples.\n",
    "df_non_depr_sample = df_non_depr.sample(n=non_depr_count, random_state=seed)\n",
    "\n",
    "# Combine to form the depressed-enriched specialized dataset.\n",
    "df_special_depr = pd.concat([df_depr, df_non_depr_sample])\n",
    "\n",
    "# For the non-depressed specialized dataset (aim for 95% depression = 0)\n",
    "# 1. Take all non-depressed samples.\n",
    "df_non_depr = train_df[train_df['Depression'] == 0]\n",
    "# 2. Compute the number of depressed samples needed to be 5% of this dataset.\n",
    "ND = len(df_non_depr)\n",
    "depr_count = int((5 / 95) * ND)\n",
    "df_depr_sample = train_df[train_df['Depression'] == 1].sample(n=depr_count, random_state=seed)\n",
    "\n",
    "# Combine to form the non-depressed-enriched specialized dataset.\n",
    "df_special_non_depr = pd.concat([df_non_depr, df_depr_sample])\n",
    "\n",
    "# Now, separate features and labels for each specialized dataset.\n",
    "X_special_depr = df_special_depr.drop(columns=['Depression'])\n",
    "y_special_depr = df_special_depr['Depression']\n",
    "\n",
    "X_special_non_depr = df_special_non_depr.drop(columns=['Depression'])\n",
    "y_special_non_depr = df_special_non_depr['Depression']\n",
    "\n",
    "# Optionally, print out the class distributions to verify the ratios:\n",
    "print(\"Depressed specialized set class distribution:\")\n",
    "print(y_special_depr.value_counts(normalize=True))\n",
    "# print(y_special_depr.value_counts())\n",
    "print(\"\\nNon-depressed specialized set class distribution:\")\n",
    "print(y_special_non_depr.value_counts(normalize=True))\n",
    "# print(y_special_non_depr.value_counts())\n"
   ]
  },
  {
   "cell_type": "code",
   "execution_count": 54,
   "metadata": {},
   "outputs": [
    {
     "name": "stdout",
     "output_type": "stream",
     "text": [
      "Trained logistic_depr with best parameters: {'C': 1}\n",
      "Trained tree_depr with best parameters: {'max_depth': 5, 'min_samples_split': 2}\n",
      "Trained rf_depr with best parameters: {'max_depth': 20, 'n_estimators': 100}\n",
      "Trained xgb_depr with best parameters: {'learning_rate': 0.2, 'max_depth': 3, 'n_estimators': 200}\n",
      "Trained ada_depr with best parameters: {'learning_rate': 1.0, 'n_estimators': 200}\n",
      "Trained logistic_nondepr with best parameters: {'C': 1}\n",
      "Trained tree_nondepr with best parameters: {'max_depth': 5, 'min_samples_split': 2}\n",
      "Trained rf_nondepr with best parameters: {'max_depth': None, 'n_estimators': 100}\n",
      "Trained xgb_nondepr with best parameters: {'learning_rate': 0.2, 'max_depth': 3, 'n_estimators': 100}\n",
      "Trained ada_nondepr with best parameters: {'learning_rate': 0.5, 'n_estimators': 200}\n",
      "\n",
      "Total specialized base learners trained: 10\n"
     ]
    }
   ],
   "source": [
    "from sklearn.linear_model import LogisticRegression\n",
    "from sklearn.tree import DecisionTreeClassifier\n",
    "from sklearn.ensemble import RandomForestClassifier, AdaBoostClassifier\n",
    "import xgboost as xgb\n",
    "from sklearn.model_selection import GridSearchCV\n",
    "\n",
    "import warnings\n",
    "warnings.filterwarnings(\"ignore\", category=FutureWarning, module=\"sklearn.ensemble._weight_boosting\")\n",
    "\n",
    "# Define parameter grids for each model type.\n",
    "logistic_params = {'C': [0.01, 0.1, 1, 10]}\n",
    "tree_params = {'max_depth': [None, 5, 10], 'min_samples_split': [2, 5, 10]}\n",
    "rf_params = {'n_estimators': [100, 200], 'max_depth': [None, 10, 20]}\n",
    "xgb_params = {'learning_rate': [0.01, 0.1, 0.2], 'max_depth': [3, 5, 7], 'n_estimators': [100, 200]}\n",
    "ada_params = {'n_estimators': [50, 100, 200], 'learning_rate': [0.5, 1.0, 1.5]}\n",
    "\n",
    "# Create dictionaries to hold the specialized learners.\n",
    "# We want 5 models for depression = 1 (depressed) and 5 for depression = 0 (non-depressed).\n",
    "\n",
    "specialized_learners = {}\n",
    "\n",
    "# --- For the Depressed Group (label == 1) ---\n",
    "# Assume X_special_depr and y_special_depr are the enriched training data for depression=1.\n",
    "# Logistic Regression specialized for depressed samples.\n",
    "logistic_depr_grid = GridSearchCV(LogisticRegression(max_iter=1000), logistic_params, cv=5, scoring='accuracy')\n",
    "logistic_depr_grid.fit(X_special_depr, y_special_depr)\n",
    "specialized_learners[\"logistic_depr\"] = logistic_depr_grid.best_estimator_\n",
    "print(\"Trained logistic_depr with best parameters:\", logistic_depr_grid.best_params_)\n",
    "\n",
    "# Decision Tree specialized for depressed samples.\n",
    "tree_depr_grid = GridSearchCV(DecisionTreeClassifier(random_state=seed), tree_params, cv=5, scoring='accuracy')\n",
    "tree_depr_grid.fit(X_special_depr, y_special_depr)\n",
    "specialized_learners[\"tree_depr\"] = tree_depr_grid.best_estimator_\n",
    "print(\"Trained tree_depr with best parameters:\", tree_depr_grid.best_params_)\n",
    "\n",
    "# Random Forest specialized for depressed samples.\n",
    "rf_depr_grid = GridSearchCV(RandomForestClassifier(random_state=seed), rf_params, cv=5, scoring='accuracy')\n",
    "rf_depr_grid.fit(X_special_depr, y_special_depr)\n",
    "specialized_learners[\"rf_depr\"] = rf_depr_grid.best_estimator_\n",
    "print(\"Trained rf_depr with best parameters:\", rf_depr_grid.best_params_)\n",
    "\n",
    "# XGBoost specialized for depressed samples.\n",
    "xgb_depr_grid = GridSearchCV(xgb.XGBClassifier(eval_metric='logloss'), xgb_params, cv=5, scoring='accuracy')\n",
    "xgb_depr_grid.fit(X_special_depr, y_special_depr)\n",
    "specialized_learners[\"xgb_depr\"] = xgb_depr_grid.best_estimator_\n",
    "print(\"Trained xgb_depr with best parameters:\", xgb_depr_grid.best_params_)\n",
    "\n",
    "# AdaBoost specialized for depressed samples.\n",
    "ada_depr_grid = GridSearchCV(AdaBoostClassifier(algorithm='SAMME', random_state=seed), ada_params, cv=5, scoring='accuracy')\n",
    "ada_depr_grid.fit(X_special_depr, y_special_depr)\n",
    "specialized_learners[\"ada_depr\"] = ada_depr_grid.best_estimator_\n",
    "print(\"Trained ada_depr with best parameters:\", ada_depr_grid.best_params_)\n",
    "\n",
    "# --- For the Non-Depressed Group (label == 0) ---\n",
    "# Assume X_special_non_depr and y_special_non_depr are the enriched training data for depression=0.\n",
    "# Logistic Regression specialized for non-depressed samples.\n",
    "logistic_non_depr_grid = GridSearchCV(LogisticRegression(max_iter=1000), logistic_params, cv=5, scoring='accuracy')\n",
    "logistic_non_depr_grid.fit(X_special_non_depr, y_special_non_depr)\n",
    "specialized_learners[\"logistic_nondepr\"] = logistic_non_depr_grid.best_estimator_\n",
    "print(\"Trained logistic_nondepr with best parameters:\", logistic_non_depr_grid.best_params_)\n",
    "\n",
    "# Decision Tree specialized for non-depressed samples.\n",
    "tree_non_depr_grid = GridSearchCV(DecisionTreeClassifier(random_state=seed), tree_params, cv=5, scoring='accuracy')\n",
    "tree_non_depr_grid.fit(X_special_non_depr, y_special_non_depr)\n",
    "specialized_learners[\"tree_nondepr\"] = tree_non_depr_grid.best_estimator_\n",
    "print(\"Trained tree_nondepr with best parameters:\", tree_non_depr_grid.best_params_)\n",
    "\n",
    "# Random Forest specialized for non-depressed samples.\n",
    "rf_non_depr_grid = GridSearchCV(RandomForestClassifier(random_state=seed), rf_params, cv=5, scoring='accuracy')\n",
    "rf_non_depr_grid.fit(X_special_non_depr, y_special_non_depr)\n",
    "specialized_learners[\"rf_nondepr\"] = rf_non_depr_grid.best_estimator_\n",
    "print(\"Trained rf_nondepr with best parameters:\", rf_non_depr_grid.best_params_)\n",
    "\n",
    "# XGBoost specialized for non-depressed samples.\n",
    "xgb_non_depr_grid = GridSearchCV(xgb.XGBClassifier(eval_metric='logloss'), xgb_params, cv=5, scoring='accuracy')\n",
    "xgb_non_depr_grid.fit(X_special_non_depr, y_special_non_depr)\n",
    "specialized_learners[\"xgb_nondepr\"] = xgb_non_depr_grid.best_estimator_\n",
    "print(\"Trained xgb_nondepr with best parameters:\", xgb_non_depr_grid.best_params_)\n",
    "\n",
    "# AdaBoost specialized for non-depressed samples.\n",
    "ada_non_depr_grid = GridSearchCV(AdaBoostClassifier(algorithm='SAMME', random_state=seed), ada_params, cv=5, scoring='accuracy')\n",
    "ada_non_depr_grid.fit(X_special_non_depr, y_special_non_depr)\n",
    "specialized_learners[\"ada_nondepr\"] = ada_non_depr_grid.best_estimator_\n",
    "print(\"Trained ada_nondepr with best parameters:\", ada_non_depr_grid.best_params_)\n",
    "\n",
    "print(\"\\nTotal specialized base learners trained:\", len(specialized_learners))\n"
   ]
  },
  {
   "cell_type": "code",
   "execution_count": 49,
   "metadata": {},
   "outputs": [
    {
     "data": {
      "image/png": "[encoded data removed]",
      "text/plain": [
       "<Figure size 1200x600 with 1 Axes>"
      ]
     },
     "metadata": {},
     "output_type": "display_data"
    },
    {
     "data": {
      "image/png": "[encoded data removed]",
      "text/plain": [
       "<Figure size 1200x600 with 1 Axes>"
      ]
     },
     "metadata": {},
     "output_type": "display_data"
    }
   ],
   "source": [
    "import numpy as np\n",
    "import matplotlib.pyplot as plt\n",
    "from sklearn.metrics import accuracy_score, f1_score, confusion_matrix\n",
    "\n",
    "def evaluate_model(model, X, y):\n",
    "    \"\"\"\n",
    "    Evaluates a given base learner on data (X, y).\n",
    "    Returns accuracy, weighted F1 score, and confusion matrix.\n",
    "    \"\"\"\n",
    "    # Get predicted class labels\n",
    "    y_pred = model.predict(X)\n",
    "    acc = accuracy_score(y, y_pred)\n",
    "    f1 = f1_score(y, y_pred, average='weighted')\n",
    "    cm = confusion_matrix(y, y_pred)\n",
    "    return acc, f1, cm\n",
    "\n",
    "# Create an empty dictionary to store evaluation results.\n",
    "results = {}  # keys: base learner names; values: dict with metrics for each split\n",
    "\n",
    "# Iterate over each specialized base learner.\n",
    "for name, model in specialized_learners.items():\n",
    "    results[name] = {}\n",
    "    # Evaluate on overall training data.\n",
    "    acc_train, f1_train, cm_train = evaluate_model(model, X_train, y_train)\n",
    "    results[name]['train'] = {'accuracy': acc_train, 'f1': f1_train, 'cm': cm_train}\n",
    "    \n",
    "    # Evaluate on overall validation data.\n",
    "    acc_val, f1_val, cm_val = evaluate_model(model, X_val, y_val)\n",
    "    results[name]['val'] = {'accuracy': acc_val, 'f1': f1_val, 'cm': cm_val}\n",
    "    \n",
    "    # Evaluate on specialized data:\n",
    "    # For learners specialized for depressed samples:\n",
    "    if name.endswith('_depr'):\n",
    "        acc_spec, f1_spec, cm_spec = evaluate_model(model, X_special_depr, y_special_depr)\n",
    "    # For learners specialized for non-depressed samples:\n",
    "    elif name.endswith('_nondepr'):\n",
    "        acc_spec, f1_spec, cm_spec = evaluate_model(model, X_special_non_depr, y_special_non_depr)\n",
    "    else:\n",
    "        acc_spec, f1_spec, cm_spec = None, None, None\n",
    "    results[name]['spec'] = {'accuracy': acc_spec, 'f1': f1_spec, 'cm': cm_spec}\n",
    "\n",
    "# Plotting: Compare accuracy across splits for each base learner.\n",
    "learner_names = list(results.keys())\n",
    "train_acc = [results[name]['train']['accuracy'] for name in learner_names]\n",
    "val_acc   = [results[name]['val']['accuracy']   for name in learner_names]\n",
    "spec_acc  = [results[name]['spec']['accuracy']  for name in learner_names]\n",
    "\n",
    "x = np.arange(len(learner_names))  # label locations\n",
    "width = 0.25\n",
    "\n",
    "fig, ax = plt.subplots(figsize=(12, 6))\n",
    "rects1 = ax.bar(x - width, train_acc, width, label='Train Accuracy')\n",
    "rects2 = ax.bar(x, val_acc, width, label='Validation Accuracy')\n",
    "rects3 = ax.bar(x + width, spec_acc, width, label='Specialized Accuracy')\n",
    "\n",
    "ax.set_ylabel('Accuracy')\n",
    "ax.set_title('Base Learner Accuracy on Different Data Splits')\n",
    "ax.set_xticks(x)\n",
    "ax.set_xticklabels(learner_names)\n",
    "ax.legend()\n",
    "ax.set_ylim([0, 1])\n",
    "plt.show()\n",
    "\n",
    "# Plotting: Compare weighted F1 score.\n",
    "train_f1 = [results[name]['train']['f1'] for name in learner_names]\n",
    "val_f1   = [results[name]['val']['f1']   for name in learner_names]\n",
    "spec_f1  = [results[name]['spec']['f1']  for name in learner_names]\n",
    "\n",
    "fig, ax = plt.subplots(figsize=(12, 6))\n",
    "rects1 = ax.bar(x - width, train_f1, width, label='Train F1')\n",
    "rects2 = ax.bar(x, val_f1, width, label='Validation F1')\n",
    "rects3 = ax.bar(x + width, spec_f1, width, label='Specialized F1')\n",
    "\n",
    "ax.set_ylabel('Weighted F1 Score')\n",
    "ax.set_title('Base Learner F1 Score on Different Data Splits')\n",
    "ax.set_xticks(x)\n",
    "ax.set_xticklabels(learner_names)\n",
    "ax.legend()\n",
    "ax.set_ylim([0, 1])\n",
    "plt.show()"
   ]
  },
  {
   "cell_type": "code",
   "execution_count": 50,
   "metadata": {},
   "outputs": [],
   "source": [
    "def get_specialized_predictions(X, specialized_learners):\n",
    "    \"\"\"\n",
    "    Computes predicted probabilities from each specialized base learner.\n",
    "    \n",
    "    Args:\n",
    "      X: Input data (numpy array or DataFrame).\n",
    "      specialized_learners: Dictionary of trained specialized base learner models.\n",
    "    \n",
    "    Returns:\n",
    "      numpy array of shape (num_samples, num_learners, num_classes)\n",
    "    \"\"\"\n",
    "    preds = []\n",
    "    for name, model in specialized_learners.items():\n",
    "        p = model.predict_proba(X)  # shape: (num_samples, num_classes)\n",
    "        preds.append(p)\n",
    "    preds = np.array(preds)  # shape: (num_learners, num_samples, num_classes)\n",
    "    return np.transpose(preds, (1, 0, 2))  # shape: (num_samples, num_learners, num_classes)\n"
   ]
  },
  {
   "cell_type": "markdown",
   "metadata": {},
   "source": [
    "# Defining the selection net and training it:"
   ]
  },
  {
   "cell_type": "markdown",
   "metadata": {},
   "source": [
    "The loss and accuracy are not 100% reproducable but we do get nearly the same values each time. This is dude to training with gpu."
   ]
  },
  {
   "cell_type": "code",
   "execution_count": null,
   "metadata": {},
   "outputs": [
    {
     "name": "stdout",
     "output_type": "stream",
     "text": [
      "Using device: cuda\n",
      "\n",
      "Training for k = 1\n",
      "k=1, Epoch 1/1, Train Loss: 0.5234, Val Accuracy: 0.9095\n",
      "\n",
      "Training for k = 2\n",
      "k=2, Epoch 1/1, Train Loss: 0.4405, Val Accuracy: 0.9158\n",
      "\n",
      "Training for k = 3\n",
      "k=3, Epoch 1/1, Train Loss: 0.4009, Val Accuracy: 0.9354\n",
      "\n",
      "Training for k = 4\n",
      "k=4, Epoch 1/1, Train Loss: 0.3839, Val Accuracy: 0.9349\n",
      "\n",
      "Training for k = 5\n",
      "k=5, Epoch 1/1, Train Loss: 0.3782, Val Accuracy: 0.9371\n",
      "\n",
      "Training for k = 6\n",
      "k=6, Epoch 1/1, Train Loss: 0.3746, Val Accuracy: 0.9367\n",
      "\n",
      "Training for k = 7\n",
      "k=7, Epoch 1/1, Train Loss: 0.3743, Val Accuracy: 0.9364\n",
      "\n",
      "Overall best validation accuracy: 0.9371 achieved with k = 5\n"
     ]
    },
    {
     "data": {
      "image/png": "[encoded data removed]",
      "text/plain": [
       "<Figure size 1000x600 with 1 Axes>"
      ]
     },
     "metadata": {},
     "output_type": "display_data"
    },
    {
     "data": {
      "image/png": "[encoded data removed]",
      "text/plain": [
       "<Figure size 1000x600 with 1 Axes>"
      ]
     },
     "metadata": {},
     "output_type": "display_data"
    }
   ],
   "source": [
    "import torch\n",
    "import torch.nn as nn\n",
    "import torch.nn.functional as F\n",
    "import torch.optim as optim\n",
    "import matplotlib.pyplot as plt\n",
    "import numpy as np\n",
    "import copy\n",
    "from sklearn.metrics import accuracy_score, f1_score, confusion_matrix\n",
    "\n",
    "# Set up the device.\n",
    "device = torch.device(\"cuda\" if torch.cuda.is_available() else \"cpu\")\n",
    "print(\"Using device:\", device)\n",
    "\n",
    "# ------------------------------\n",
    "# Custom Autograd Function: Differentiable Knapsack Layer\n",
    "# ------------------------------\n",
    "class KnapsackLayerFunction(torch.autograd.Function):\n",
    "    @staticmethod\n",
    "    def forward(ctx, c, k, epsilon, m):\n",
    "        batch_size, num_learners = c.shape\n",
    "        b = torch.zeros_like(c)\n",
    "        _, topk_indices = torch.topk(c, k, dim=1)\n",
    "        b.scatter_(1, topk_indices, 1.0)\n",
    "        \n",
    "        ctx.save_for_backward(c, b)\n",
    "        ctx.k = k\n",
    "        ctx.epsilon = epsilon\n",
    "        ctx.m = m\n",
    "        return b\n",
    "\n",
    "    @staticmethod\n",
    "    def backward(ctx, grad_output):\n",
    "        c, b = ctx.saved_tensors\n",
    "        k = ctx.k\n",
    "        epsilon = ctx.epsilon\n",
    "        m = ctx.m\n",
    "        batch_size, num_learners = c.shape\n",
    "        \n",
    "        grad_est = torch.zeros_like(c)\n",
    "        mask_total = torch.zeros_like(c)\n",
    "        for i in range(m):\n",
    "            z = torch.randn_like(c)\n",
    "            c_perturbed = c + epsilon * z\n",
    "            b_perturbed = torch.zeros_like(c)\n",
    "            _, topk_indices = torch.topk(c_perturbed, k, dim=1)\n",
    "            b_perturbed.scatter_(1, topk_indices, 1.0)\n",
    "            mask_total += b_perturbed\n",
    "            grad_est += b_perturbed * z  \n",
    "        grad_est /= m\n",
    "        avg_mask = mask_total / m\n",
    "        \n",
    "        # Uncomment for debugging:\n",
    "        # print(\"Differentiable (avg) binary mask (first sample):\", avg_mask[0])\n",
    "        # print(\"Knapsack layer gradient estimate (first sample):\", grad_est[0])\n",
    "        # print(\"Knapsack layer gradient norm:\", grad_est.norm().item())\n",
    "        \n",
    "        grad_input = grad_output * grad_est\n",
    "        return grad_input, None, None, None\n",
    "\n",
    "def differentiable_knapsack_layer(c, k, epsilon=0.1, m=10):\n",
    "    return KnapsackLayerFunction.apply(c, k, epsilon, m)\n",
    "\n",
    "# ------------------------------\n",
    "# Selection Network Definition\n",
    "# ------------------------------\n",
    "class SelectionNetwork(nn.Module):\n",
    "    def __init__(self, input_size, num_learners):\n",
    "        super(SelectionNetwork, self).__init__()\n",
    "        self.fc1 = nn.Linear(input_size, 128)\n",
    "        self.fc2 = nn.Linear(128, num_learners)\n",
    "\n",
    "    def forward(self, x):\n",
    "        x = F.relu(self.fc1(x))\n",
    "        scores = self.fc2(x)\n",
    "        return scores\n",
    "\n",
    "# ------------------------------\n",
    "# Ensemble Forward Function\n",
    "# ------------------------------\n",
    "def ensemble_forward(selection_net, X, base_predictions, k, epsilon=0.1, m=10):\n",
    "    c = selection_net(X)\n",
    "    c_norm = F.normalize(c, p=2, dim=1)\n",
    "    mask = differentiable_knapsack_layer(c_norm, k, epsilon, m)\n",
    "    mask_expanded = mask.unsqueeze(-1)\n",
    "    masked_predictions = base_predictions * mask_expanded\n",
    "    summed_predictions = masked_predictions.sum(dim=1)\n",
    "    final_preds = F.softmax(summed_predictions, dim=1)\n",
    "    return final_preds\n",
    "\n",
    "# ------------------------------\n",
    "# Helper: Get Base Learners' Predictions\n",
    "# ------------------------------\n",
    "def get_base_predictions(X, base_learners):\n",
    "    preds = []\n",
    "    for name, model in base_learners.items():\n",
    "        p = model.predict_proba(X)\n",
    "        preds.append(p)\n",
    "    preds = np.array(preds)\n",
    "    return np.transpose(preds, (1, 0, 2))\n",
    "\n",
    "# ------------------------------\n",
    "# Training Function with Loss Recording and Saving Best Model Based on Validation Accuracy\n",
    "# ------------------------------\n",
    "def train_selection_net_record_losses(selection_net, base_learners, X_train, y_train, X_val, y_val, \n",
    "                                       num_epochs=10, k=2, epsilon=0.1, m=10, batch_size=1):\n",
    "    # Convert training and validation data to tensors and move them to device.\n",
    "    X_train_tensor = torch.tensor(X_train.values if hasattr(X_train, 'values') else X_train, dtype=torch.float32).to(device)\n",
    "    y_train_tensor = torch.tensor(y_train.values if hasattr(y_train, 'values') else y_train, dtype=torch.long).to(device)\n",
    "    \n",
    "    X_val_tensor = torch.tensor(X_val.values if hasattr(X_val, 'values') else X_val, dtype=torch.float32).to(device)\n",
    "    y_val_tensor = torch.tensor(y_val.values if hasattr(y_val, 'values') else y_val, dtype=torch.long).to(device)\n",
    "    \n",
    "    optimizer = optim.Adam(selection_net.parameters(), lr=0.001)\n",
    "    criterion = nn.CrossEntropyLoss()\n",
    "    \n",
    "    # Precompute base predictions and move them to device.\n",
    "    base_preds_np = get_base_predictions(X_train, base_learners)\n",
    "    base_preds_tensor = torch.tensor(base_preds_np, dtype=torch.float32).to(device)\n",
    "    \n",
    "    base_preds_np_val = get_base_predictions(X_val, base_learners)\n",
    "    base_preds_tensor_val = torch.tensor(base_preds_np_val, dtype=torch.float32).to(device)\n",
    "    \n",
    "    num_samples = X_train_tensor.size(0)\n",
    "    train_losses = []\n",
    "    val_accuracies = []\n",
    "    \n",
    "    best_val_accuracy = 0.0\n",
    "    best_state = None\n",
    "    \n",
    "    for epoch in range(num_epochs):\n",
    "        permutation = torch.randperm(num_samples)\n",
    "        epoch_loss = 0.0\n",
    "        \n",
    "        selection_net.train()\n",
    "        for i in range(0, num_samples, batch_size):\n",
    "            optimizer.zero_grad()\n",
    "            indices = permutation[i:i+batch_size]\n",
    "            X_batch = X_train_tensor[indices]\n",
    "            y_batch = y_train_tensor[indices]\n",
    "            base_preds_batch = base_preds_tensor[indices]\n",
    "            \n",
    "            ensemble_probs = ensemble_forward(selection_net, X_batch, base_preds_batch, k, epsilon, m)\n",
    "            loss = criterion(ensemble_probs, y_batch)\n",
    "            loss.backward()\n",
    "            optimizer.step()\n",
    "            \n",
    "            epoch_loss += loss.item() * X_batch.size(0)\n",
    "        \n",
    "        avg_train_loss = epoch_loss / num_samples\n",
    "        train_losses.append(avg_train_loss)\n",
    "        \n",
    "        # Evaluate on validation set\n",
    "        selection_net.eval()\n",
    "        with torch.no_grad():\n",
    "            val_ensemble_probs = ensemble_forward(selection_net, X_val_tensor, base_preds_tensor_val, k, epsilon, m)\n",
    "            _, predicted = torch.max(val_ensemble_probs, 1)\n",
    "            val_accuracy = (predicted == y_val_tensor).float().mean().item()\n",
    "            val_accuracies.append(val_accuracy)\n",
    "        \n",
    "        print(f\"k={k}, Epoch {epoch+1}/{num_epochs}, Train Loss: {avg_train_loss:.4f}, Val Accuracy: {val_accuracy:.4f}\")\n",
    "        \n",
    "        if val_accuracy > best_val_accuracy:\n",
    "            best_val_accuracy = val_accuracy\n",
    "            best_state = copy.deepcopy(selection_net.state_dict())\n",
    "    \n",
    "    return train_losses, val_accuracies, best_state\n",
    "\n",
    "# ------------------------------\n",
    "# Example Setup and Training for Multiple k Values\n",
    "# ------------------------------\n",
    "# Define your feature dimension, number of base learners, and number of classes.\n",
    "feature_dim = 20      # Adjust as needed\n",
    "num_learners = 10      # Numbers og base learners\n",
    "num_classes = 2       \n",
    "\n",
    "ks = [1, 2, 3, 4,5, 6, 7]\n",
    "# ks = [1,2,3,4,5,6,7,8,9]\n",
    "num_epochs = 1\n",
    "epsilon = 0.1\n",
    "m = 1000\n",
    "batch_size = 512  # Adjust based on your dataset size\n",
    "\n",
    "loss_results = {}\n",
    "accuracy_results = {}\n",
    "best_models = {}\n",
    "overall_best_accuracy = 0.0\n",
    "overall_best_model = None\n",
    "overall_best_k = None\n",
    "\n",
    "for k_val in ks:\n",
    "    # Reinitialize a new selection network and move it to device.\n",
    "    selection_net = SelectionNetwork(input_size=feature_dim, num_learners=num_learners).to(device)\n",
    "    print(f\"\\nTraining for k = {k_val}\")\n",
    "    train_losses, val_accuracies, best_state = train_selection_net_record_losses(\n",
    "        selection_net, specialized_learners, X_train, y_train, X_val, y_val,\n",
    "        num_epochs=num_epochs, k=k_val, epsilon=epsilon, m=m, batch_size=batch_size\n",
    "    )\n",
    "    loss_results[k_val] = {'train': train_losses}\n",
    "    accuracy_results[k_val] = {'val': val_accuracies}\n",
    "    best_models[k_val] = best_state\n",
    "    \n",
    "    current_best_val_accuracy = max(val_accuracies)\n",
    "    if current_best_val_accuracy > overall_best_accuracy:\n",
    "        overall_best_accuracy = current_best_val_accuracy\n",
    "        overall_best_model = best_state\n",
    "        overall_best_k = k_val\n",
    "\n",
    "print(f\"\\nOverall best validation accuracy: {overall_best_accuracy:.4f} achieved with k = {overall_best_k}\")\n",
    "# torch.save(overall_best_model, \"best_selection_net_overall.pth\")\n",
    "# print(\"Best selection network across all k values saved to 'best_selection_net_overall.pth'.\")\n",
    "\n",
    "# Plot the Loss and Accuracy curves for each k.\n",
    "plt.figure(figsize=(10,6))\n",
    "for k_val in ks:\n",
    "    epochs_range = range(1, num_epochs+1)\n",
    "    plt.plot(epochs_range, loss_results[k_val]['train'], marker='o', label=f\"Train Loss (k={k_val})\")\n",
    "plt.xlabel(\"Epoch\")\n",
    "plt.ylabel(\"Loss\")\n",
    "plt.title(\"Training Loss for Different k\")\n",
    "plt.legend()\n",
    "plt.grid(True)\n",
    "plt.show()\n",
    "\n",
    "plt.figure(figsize=(10,6))\n",
    "for k_val in ks:\n",
    "    epochs_range = range(1, num_epochs+1)\n",
    "    plt.plot(epochs_range, accuracy_results[k_val]['val'], marker='x', linestyle='--', label=f\"Val Accuracy (k={k_val})\")\n",
    "plt.xlabel(\"Epoch\")\n",
    "plt.ylabel(\"Validation Accuracy\")\n",
    "plt.title(\"Validation Accuracy for Different k\")\n",
    "plt.legend()\n",
    "plt.grid(True)\n",
    "plt.show()\n"
   ]
  },
  {
   "cell_type": "markdown",
   "metadata": {},
   "source": [
    "Using device: cuda\n",
    "\n",
    "Training for k = 1\n",
    "k=1, Epoch 1/1, Train Loss: 0.5327, Val Accuracy: 0.9187\n",
    "\n",
    "Training for k = 2\n",
    "k=2, Epoch 1/1, Train Loss: 0.4497, Val Accuracy: 0.9037\n",
    "\n",
    "Training for k = 3\n",
    "k=3, Epoch 1/1, Train Loss: 0.3998, Val Accuracy: 0.9342\n",
    "\n",
    "Training for k = 4\n",
    "k=4, Epoch 1/1, Train Loss: 0.3845, Val Accuracy: 0.9353\n",
    "\n",
    "Training for k = 5\n",
    "k=5, Epoch 1/1, Train Loss: 0.3811, Val Accuracy: 0.9353\n",
    "\n",
    "Training for k = 6\n",
    "k=6, Epoch 1/1, Train Loss: 0.3751, Val Accuracy: 0.9366\n",
    "\n",
    "Training for k = 7\n",
    "k=7, Epoch 1/1, Train Loss: 0.3751, Val Accuracy: 0.9342\n",
    "\n",
    "Overall best validation accuracy: 0.9366 achieved with k = 6"
   ]
  },
  {
   "cell_type": "markdown",
   "metadata": {},
   "source": [
    "## Trene på all data med beste hyperparameters for selection net."
   ]
  },
  {
   "cell_type": "code",
   "execution_count": null,
   "metadata": {},
   "outputs": [
    {
     "name": "stdout",
     "output_type": "stream",
     "text": [
      "[Final Training] Epoch 1/2, Loss: 0.3795\n",
      "[Final Training] Epoch 2/2, Loss: 0.3751\n",
      "Best loss achieved during full training: 0.3751\n",
      "Final selection network retrained on the full dataset with the best state stored in the variable 'best_state'.\n"
     ]
    }
   ],
   "source": [
    "# Combine the training and validation sets to form the full set.\n",
    "X_full = pd.concat([X_train, X_val])\n",
    "y_full = pd.concat([y_train, y_val])\n",
    "\n",
    "def train_selection_net_full(selection_net, base_learners, X_full, y_full, \n",
    "                             num_epochs=10, k=overall_best_k, epsilon=0.1, m=1000, batch_size=512):\n",
    "    \"\"\"\n",
    "    Retrains the selection network on the entire labeled dataset (X_full, y_full).\n",
    "    Tracks and saves the model state with the lowest training loss.\n",
    "    \n",
    "    Parameters:\n",
    "      selection_net (nn.Module): The selection network to train.\n",
    "      base_learners (dict): Dictionary of pre-trained specialized base learners.\n",
    "      X_full (DataFrame or np.array): The combined training + validation features.\n",
    "      y_full (Series or np.array): The combined training + validation labels.\n",
    "      num_epochs (int): Number of epochs to train.\n",
    "      k (int): The best sub-ensemble size found (overall_best_k).\n",
    "      epsilon (float): Noise scale for the knapsack layer.\n",
    "      m (int): Number of Monte Carlo samples for gradient estimation.\n",
    "      batch_size (int): Batch size for training.\n",
    "      \n",
    "    Returns:\n",
    "      best_state (dict): The state dictionary of the selection network with the lowest loss.\n",
    "      best_loss (float): The corresponding loss value.\n",
    "    \"\"\"\n",
    "    # Convert full data to tensors and move them to device.\n",
    "    X_full_tensor = torch.tensor(X_full.values if hasattr(X_full, 'values') else X_full, dtype=torch.float32).to(device)\n",
    "    y_full_tensor = torch.tensor(y_full.values if hasattr(y_full, 'values') else y_full, dtype=torch.long).to(device)\n",
    "    \n",
    "    optimizer = optim.Adam(selection_net.parameters(), lr=0.001)\n",
    "    criterion = nn.CrossEntropyLoss()\n",
    "\n",
    "    # Precompute base learners' predictions and move them to device.\n",
    "    base_preds_np_full = get_base_predictions(X_full, base_learners)\n",
    "    base_preds_tensor_full = torch.tensor(base_preds_np_full, dtype=torch.float32).to(device)\n",
    "    \n",
    "    num_samples = X_full_tensor.size(0)\n",
    "    \n",
    "    best_loss = float('inf')\n",
    "    best_state = None\n",
    "    \n",
    "    for epoch in range(num_epochs):\n",
    "        permutation = torch.randperm(num_samples)\n",
    "        epoch_loss = 0.0\n",
    "\n",
    "        selection_net.train()\n",
    "        for i in range(0, num_samples, batch_size):\n",
    "            optimizer.zero_grad()\n",
    "            indices = permutation[i:i+batch_size]\n",
    "            X_batch = X_full_tensor[indices]\n",
    "            y_batch = y_full_tensor[indices]\n",
    "            base_preds_batch = base_preds_tensor_full[indices]\n",
    "            \n",
    "            # Compute ensemble predictions.\n",
    "            ensemble_probs = ensemble_forward(selection_net, X_batch, base_preds_batch, k, epsilon, m)\n",
    "            loss = criterion(ensemble_probs, y_batch)\n",
    "            loss.backward()\n",
    "            optimizer.step()\n",
    "            \n",
    "            epoch_loss += loss.item() * X_batch.size(0)\n",
    "        \n",
    "        avg_loss = epoch_loss / num_samples\n",
    "        print(f\"[Final Training] Epoch {epoch+1}/{num_epochs}, Loss: {avg_loss:.4f}\")\n",
    "        \n",
    "        # Save the state if current average loss is lower than the best observed.\n",
    "        if avg_loss < best_loss:\n",
    "            best_loss = avg_loss\n",
    "            best_state = copy.deepcopy(selection_net.state_dict())\n",
    "    \n",
    "    print(f\"Best loss achieved during full training: {best_loss:.4f}\")\n",
    "    return best_state, best_loss\n",
    "\n",
    "# Instantiate a new selection network with the same architecture.\n",
    "final_selection_net = SelectionNetwork(input_size=feature_dim, num_learners=num_learners).to(device)\n",
    "\n",
    "\n",
    "# Retrain the selection network on the full dataset.\n",
    "final_num_epochs = 2  # Adjust as needed\n",
    "best_state, best_loss = train_selection_net_full(final_selection_net, specialized_learners, \n",
    "                                                  X_full, y_full, num_epochs=final_num_epochs, \n",
    "                                                  k=overall_best_k, epsilon=epsilon, m=m, batch_size=batch_size)\n",
    "\n",
    "# Load the best state into your final selection network.\n",
    "final_selection_net.load_state_dict(best_state)\n",
    "\n",
    "# Your final_selection_net now contains the model trained on the entire labeled data (training + validation).\n",
    "print(\"Final selection network retrained on the full dataset with the best state stored in the variable 'best_state'.\")\n"
   ]
  },
  {
   "cell_type": "code",
   "execution_count": null,
   "metadata": {},
   "outputs": [
    {
     "name": "stdout",
     "output_type": "stream",
     "text": [
      "Training Accuracy: 0.9453, F1 Score: 0.9447\n",
      "Validation Accuracy: 0.9388, F1 Score: 0.9382\n"
     ]
    },
    {
     "data": {
      "image/png": "[encoded data removed]",
      "text/plain": [
       "<Figure size 600x500 with 2 Axes>"
      ]
     },
     "metadata": {},
     "output_type": "display_data"
    },
    {
     "data": {
      "image/png": "[encoded data removed]",
      "text/plain": [
       "<Figure size 600x500 with 2 Axes>"
      ]
     },
     "metadata": {},
     "output_type": "display_data"
    }
   ],
   "source": [
    "# ------------------------------\n",
    "# Evaluation Function (GPU enabled)\n",
    "# ------------------------------\n",
    "def evaluate_ensemble(selection_net, base_learners, X, y, k, epsilon, m):\n",
    "    X_tensor = torch.tensor(X.values if hasattr(X, 'values') else X, dtype=torch.float32).to(device)\n",
    "    \n",
    "    base_preds_np = get_base_predictions(X, base_learners)\n",
    "    base_preds_tensor = torch.tensor(base_preds_np, dtype=torch.float32).to(device)\n",
    "    \n",
    "    ensemble_probs = ensemble_forward(selection_net, X_tensor, base_preds_tensor, k, epsilon, m)\n",
    "    y_pred = ensemble_probs.argmax(dim=1).detach().cpu().numpy()\n",
    "    y_true = y.values if hasattr(y, 'values') else np.array(y)\n",
    "    \n",
    "    acc = accuracy_score(y_true, y_pred)\n",
    "    f1 = f1_score(y_true, y_pred, average='weighted')\n",
    "    cm = confusion_matrix(y_true, y_pred)\n",
    "    return acc, f1, cm, y_pred\n",
    "\n",
    "# Instantiate a new SelectionNetwork and load the best overall model.\n",
    "best_selection_net = SelectionNetwork(input_size=feature_dim, num_learners=num_learners).to(device)\n",
    "best_selection_net.load_state_dict(overall_best_model)\n",
    "\n",
    "# Evaluate on training data.\n",
    "acc_train, f1_train, cm_train, _ = evaluate_ensemble(best_selection_net, specialized_learners, X_train, y_train, overall_best_k, epsilon, m)\n",
    "print(f\"Training Accuracy: {acc_train:.4f}, F1 Score: {f1_train:.4f}\")\n",
    "\n",
    "# Evaluate on validation data.\n",
    "acc_val, f1_val, cm_val, _ = evaluate_ensemble(best_selection_net, specialized_learners, X_val, y_val, overall_best_k, epsilon, m)\n",
    "print(f\"Validation Accuracy: {acc_val:.4f}, F1 Score: {f1_val:.4f}\")\n",
    "\n",
    "def plot_confusion_matrix(cm, title='Confusion Matrix'):\n",
    "    plt.figure(figsize=(6, 5))\n",
    "    plt.imshow(cm, interpolation='nearest', cmap=plt.cm.Blues)\n",
    "    plt.title(title)\n",
    "    plt.colorbar()\n",
    "    tick_marks = np.arange(cm.shape[0])\n",
    "    plt.xticks(tick_marks, tick_marks)\n",
    "    plt.yticks(tick_marks, tick_marks)\n",
    "    thresh = cm.max() / 2.\n",
    "    for i in range(cm.shape[0]):\n",
    "        for j in range(cm.shape[1]):\n",
    "            plt.text(j, i, format(cm[i, j], 'd'),\n",
    "                     horizontalalignment=\"center\",\n",
    "                     color=\"white\" if cm[i, j] > thresh else \"black\")\n",
    "    plt.ylabel('True label')\n",
    "    plt.xlabel('Predicted label')\n",
    "    plt.tight_layout()\n",
    "    plt.show()\n",
    "\n",
    "plot_confusion_matrix(cm_train, title='Training Confusion Matrix')\n",
    "plot_confusion_matrix(cm_val, title='Validation Confusion Matrix')"
   ]
  },
  {
   "cell_type": "markdown",
   "metadata": {},
   "source": [
    "### Creating a submission from the test data:"
   ]
  },
  {
   "cell_type": "code",
   "execution_count": null,
   "metadata": {},
   "outputs": [
    {
     "name": "stdout",
     "output_type": "stream",
     "text": [
      "Submission file saved as 'submission.csv'.\n"
     ]
    }
   ],
   "source": [
    "import pandas as pd\n",
    "import torch\n",
    "import torch.nn as nn\n",
    "import torch.nn.functional as F\n",
    "import numpy as np\n",
    "\n",
    "# Assume 'device' is already defined as:\n",
    "device = torch.device(\"cuda\" if torch.cuda.is_available() else \"cpu\")\n",
    "\n",
    "# --- Helper function to generate predictions (GPU enabled) ---\n",
    "def predict_ensemble(selection_net, base_learners, X, k, epsilon, m):\n",
    "    # Convert input features to tensor and move to device.\n",
    "    X_tensor = torch.tensor(X.values if hasattr(X, 'values') else X, dtype=torch.float32).to(device)\n",
    "    # Get base predictions.\n",
    "    base_preds_np = get_base_predictions(X, base_learners)\n",
    "    base_preds_tensor = torch.tensor(base_preds_np, dtype=torch.float32).to(device)\n",
    "    \n",
    "    # Compute ensemble predictions.\n",
    "    ensemble_probs = ensemble_forward(selection_net, X_tensor, base_preds_tensor, k, epsilon, m)\n",
    "    y_pred = ensemble_probs.argmax(dim=1).detach().cpu().numpy()\n",
    "    return y_pred\n",
    "\n",
    "# --- Load the original test CSV to retrieve the id column ---\n",
    "test_file = 'data/test.csv'\n",
    "test_original = pd.read_csv(test_file)\n",
    "ids = test_original['id']  # Assumes the test CSV has an \"id\" column\n",
    "\n",
    "# --- Use the preprocessed test data (without id column) ---\n",
    "# Assume 'test_data' is already preprocessed (via pre_processing function).\n",
    "# If test_data was previously saved without the id, use it.\n",
    "# For example, if you already did:\n",
    "# test_data = pre_processing(test)\n",
    "# then continue with test_data.\n",
    "\n",
    "best_selection_net = SelectionNetwork(input_size=feature_dim, num_learners=num_learners).to(device)\n",
    "best_selection_net.load_state_dict(overall_best_model)  # overall_best_model was saved earlier\n",
    "\n",
    "# --- Generate predictions on the test set ---\n",
    "y_test_pred = predict_ensemble(best_selection_net, specialized_learners, test_data, overall_best_k, epsilon, m)\n",
    "\n",
    "# --- Create a submission DataFrame and save to CSV ---\n",
    "submission_df = pd.DataFrame({\"id\": ids, \"Depression\": y_test_pred})\n",
    "submission_df.to_csv(\"submission.csv\", index=False)\n",
    "print(\"Submission file saved as 'submission.csv'.\")"
   ]
  }
 ],
 "metadata": {
  "kernelspec": {
   "display_name": "INF367A",
   "language": "python",
   "name": "python3"
  },
  "language_info": {
   "codemirror_mode": {
    "name": "ipython",
    "version": 3
   },
   "file_extension": ".py",
   "mimetype": "text/x-python",
   "name": "python",
   "nbconvert_exporter": "python",
   "pygments_lexer": "ipython3",
   "version": "3.12.8"
  }
 },
 "nbformat": 4,
 "nbformat_minor": 2
}
